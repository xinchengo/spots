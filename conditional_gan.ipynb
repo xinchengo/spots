{
 "cells": [
  {
   "cell_type": "markdown",
   "metadata": {},
   "source": [
    "This is the modified official example of DCGAN on the keras official documentation. [Link](https://keras.io/examples/generative/conditional_gan/)\n",
    "\n",
    "Modifications include adding and removing some comments. Some of the comments were generated with Copilot."
   ]
  },
  {
   "cell_type": "code",
   "execution_count": 1,
   "metadata": {},
   "outputs": [
    {
     "name": "stderr",
     "output_type": "stream",
     "text": [
      "2025-01-27 12:05:30.603105: I tensorflow/core/util/port.cc:153] oneDNN custom operations are on. You may see slightly different numerical results due to floating-point round-off errors from different computation orders. To turn them off, set the environment variable `TF_ENABLE_ONEDNN_OPTS=0`.\n",
      "2025-01-27 12:05:30.612412: E external/local_xla/xla/stream_executor/cuda/cuda_fft.cc:477] Unable to register cuFFT factory: Attempting to register factory for plugin cuFFT when one has already been registered\n",
      "WARNING: All log messages before absl::InitializeLog() is called are written to STDERR\n",
      "E0000 00:00:1737950730.624190  109723 cuda_dnn.cc:8310] Unable to register cuDNN factory: Attempting to register factory for plugin cuDNN when one has already been registered\n",
      "E0000 00:00:1737950730.627182  109723 cuda_blas.cc:1418] Unable to register cuBLAS factory: Attempting to register factory for plugin cuBLAS when one has already been registered\n",
      "2025-01-27 12:05:30.638749: I tensorflow/core/platform/cpu_feature_guard.cc:210] This TensorFlow binary is optimized to use available CPU instructions in performance-critical operations.\n",
      "To enable the following instructions: AVX2 AVX512F AVX512_VNNI FMA, in other operations, rebuild TensorFlow with the appropriate compiler flags.\n"
     ]
    }
   ],
   "source": [
    "import os\n",
    "\n",
    "import keras\n",
    "\n",
    "from keras import layers, ops, utils\n",
    "import numpy as np"
   ]
  },
  {
   "cell_type": "code",
   "execution_count": 2,
   "metadata": {},
   "outputs": [],
   "source": [
    "batch_size = 512\n",
    "num_channels = 1\n",
    "num_classes = 10\n",
    "image_size = 32\n",
    "latent_dim = 128"
   ]
  },
  {
   "cell_type": "code",
   "execution_count": 15,
   "metadata": {},
   "outputs": [
    {
     "name": "stdout",
     "output_type": "stream",
     "text": [
      "File dataset/test-images-idx3-ubyte.gz already exists, skipping download\n",
      "File dataset/test-labels-idx1-ubyte.gz already exists, skipping download\n",
      "File dataset/train-images-idx3-ubyte.gz already exists, skipping download\n",
      "File dataset/train-labels-idx1-ubyte.gz already exists, skipping download\n",
      "File utilities/spots_10_loader.py already exists, skipping download\n",
      "All files downloaded successfully\n",
      "Shape of raw training images: (50000, 1, 32, 32)\n",
      "Shape of raw training labels: (50000,)\n"
     ]
    }
   ],
   "source": [
    "from dataset.loader import SPOTS10\n",
    "X_train, y_train, X_test, y_test = SPOTS10()\n",
    "\n",
    "# Add a color channel (size 1) to the images\n",
    "X_train = X_train.reshape(X_train.shape[0], 1, X_train.shape[1], X_train.shape[2])\n",
    "X_test = X_test.reshape(X_test.shape[0], 1, X_test.shape[1], X_test.shape[2])\n",
    "\n",
    "all_digits = np.concatenate([X_train, X_test])\n",
    "all_labels = np.concatenate([y_train, y_test])\n",
    "\n",
    "print(f\"Shape of raw training images: {all_digits.shape}\")\n",
    "print(f\"Shape of raw training labels: {all_labels.shape}\")\n",
    "\n",
    "all_digits = all_digits.astype('float32') / 255.0\n",
    "all_digits = np.reshape(all_digits, (-1, image_size, image_size, num_channels))\n",
    "all_labels = keras.utils.to_categorical(all_labels, num_classes)"
   ]
  },
  {
   "cell_type": "markdown",
   "metadata": {},
   "source": [
    "`keras.utils` offers some Python & NumPy utilities, a dedicated list of them are given [there](https://keras.io/api/utils/python_utils/).\n",
    "\n",
    "For example:\n",
    "\n",
    "- `split_dataset`: Splits a dataset into a left half and a right half;\n",
    "- `pack_x_y_sample_weight`: Pack user-provided data into a tuple;\n",
    "- `get_file`: Download a file from the url if not already in cache;\n",
    "- `to_categorical`: Convert a class vector (integers) to binary class matrix;"
   ]
  },
  {
   "cell_type": "code",
   "execution_count": 4,
   "metadata": {},
   "outputs": [
    {
     "name": "stdout",
     "output_type": "stream",
     "text": [
      "Shape of training images: (50000, 32, 32, 1)\n",
      "Shape of training labels: (50000, 10)\n"
     ]
    },
    {
     "name": "stderr",
     "output_type": "stream",
     "text": [
      "I0000 00:00:1737950732.826256  109723 gpu_device.cc:2022] Created device /job:localhost/replica:0/task:0/device:GPU:0 with 6156 MB memory:  -> device: 0, name: NVIDIA GeForce RTX 3070, pci bus id: 0000:02:00.0, compute capability: 8.6\n"
     ]
    }
   ],
   "source": [
    "# Create torch dataloader\n",
    "import tensorflow as tf\n",
    "\n",
    "dataset = tf.data.Dataset.from_tensor_slices((all_digits, all_labels))\n",
    "dataset = dataset.shuffle(buffer_size=1024).batch(batch_size)\n",
    "\n",
    "print(f\"Shape of training images: {all_digits.shape}\")\n",
    "print(f\"Shape of training labels: {all_labels.shape}\")"
   ]
  },
  {
   "cell_type": "code",
   "execution_count": 5,
   "metadata": {},
   "outputs": [
    {
     "name": "stdout",
     "output_type": "stream",
     "text": [
      "138 11\n"
     ]
    }
   ],
   "source": [
    "generator_in_channels = latent_dim + num_classes\n",
    "discriminator_in_channels = num_channels + num_classes\n",
    "print(generator_in_channels, discriminator_in_channels)"
   ]
  },
  {
   "cell_type": "code",
   "execution_count": 6,
   "metadata": {},
   "outputs": [
    {
     "data": {
      "text/html": [
       "<pre style=\"white-space:pre;overflow-x:auto;line-height:normal;font-family:Menlo,'DejaVu Sans Mono',consolas,'Courier New',monospace\"><span style=\"font-weight: bold\">Model: \"discriminator\"</span>\n",
       "</pre>\n"
      ],
      "text/plain": [
       "\u001b[1mModel: \"discriminator\"\u001b[0m\n"
      ]
     },
     "metadata": {},
     "output_type": "display_data"
    },
    {
     "data": {
      "text/html": [
       "<pre style=\"white-space:pre;overflow-x:auto;line-height:normal;font-family:Menlo,'DejaVu Sans Mono',consolas,'Courier New',monospace\">┏━━━━━━━━━━━━━━━━━━━━━━━━━━━━━━━━━┳━━━━━━━━━━━━━━━━━━━━━━━━┳━━━━━━━━━━━━━━━┓\n",
       "┃<span style=\"font-weight: bold\"> Layer (type)                    </span>┃<span style=\"font-weight: bold\"> Output Shape           </span>┃<span style=\"font-weight: bold\">       Param # </span>┃\n",
       "┡━━━━━━━━━━━━━━━━━━━━━━━━━━━━━━━━━╇━━━━━━━━━━━━━━━━━━━━━━━━╇━━━━━━━━━━━━━━━┩\n",
       "│ conv2d (<span style=\"color: #0087ff; text-decoration-color: #0087ff\">Conv2D</span>)                 │ (<span style=\"color: #00d7ff; text-decoration-color: #00d7ff\">None</span>, <span style=\"color: #00af00; text-decoration-color: #00af00\">14</span>, <span style=\"color: #00af00; text-decoration-color: #00af00\">14</span>, <span style=\"color: #00af00; text-decoration-color: #00af00\">64</span>)     │        <span style=\"color: #00af00; text-decoration-color: #00af00\">17,664</span> │\n",
       "├─────────────────────────────────┼────────────────────────┼───────────────┤\n",
       "│ leaky_re_lu (<span style=\"color: #0087ff; text-decoration-color: #0087ff\">LeakyReLU</span>)         │ (<span style=\"color: #00d7ff; text-decoration-color: #00d7ff\">None</span>, <span style=\"color: #00af00; text-decoration-color: #00af00\">14</span>, <span style=\"color: #00af00; text-decoration-color: #00af00\">14</span>, <span style=\"color: #00af00; text-decoration-color: #00af00\">64</span>)     │             <span style=\"color: #00af00; text-decoration-color: #00af00\">0</span> │\n",
       "├─────────────────────────────────┼────────────────────────┼───────────────┤\n",
       "│ conv2d_1 (<span style=\"color: #0087ff; text-decoration-color: #0087ff\">Conv2D</span>)               │ (<span style=\"color: #00d7ff; text-decoration-color: #00d7ff\">None</span>, <span style=\"color: #00af00; text-decoration-color: #00af00\">7</span>, <span style=\"color: #00af00; text-decoration-color: #00af00\">7</span>, <span style=\"color: #00af00; text-decoration-color: #00af00\">128</span>)      │        <span style=\"color: #00af00; text-decoration-color: #00af00\">73,856</span> │\n",
       "├─────────────────────────────────┼────────────────────────┼───────────────┤\n",
       "│ leaky_re_lu_1 (<span style=\"color: #0087ff; text-decoration-color: #0087ff\">LeakyReLU</span>)       │ (<span style=\"color: #00d7ff; text-decoration-color: #00d7ff\">None</span>, <span style=\"color: #00af00; text-decoration-color: #00af00\">7</span>, <span style=\"color: #00af00; text-decoration-color: #00af00\">7</span>, <span style=\"color: #00af00; text-decoration-color: #00af00\">128</span>)      │             <span style=\"color: #00af00; text-decoration-color: #00af00\">0</span> │\n",
       "├─────────────────────────────────┼────────────────────────┼───────────────┤\n",
       "│ global_max_pooling2d            │ (<span style=\"color: #00d7ff; text-decoration-color: #00d7ff\">None</span>, <span style=\"color: #00af00; text-decoration-color: #00af00\">128</span>)            │             <span style=\"color: #00af00; text-decoration-color: #00af00\">0</span> │\n",
       "│ (<span style=\"color: #0087ff; text-decoration-color: #0087ff\">GlobalMaxPooling2D</span>)            │                        │               │\n",
       "├─────────────────────────────────┼────────────────────────┼───────────────┤\n",
       "│ dense (<span style=\"color: #0087ff; text-decoration-color: #0087ff\">Dense</span>)                   │ (<span style=\"color: #00d7ff; text-decoration-color: #00d7ff\">None</span>, <span style=\"color: #00af00; text-decoration-color: #00af00\">1</span>)              │           <span style=\"color: #00af00; text-decoration-color: #00af00\">129</span> │\n",
       "└─────────────────────────────────┴────────────────────────┴───────────────┘\n",
       "</pre>\n"
      ],
      "text/plain": [
       "┏━━━━━━━━━━━━━━━━━━━━━━━━━━━━━━━━━┳━━━━━━━━━━━━━━━━━━━━━━━━┳━━━━━━━━━━━━━━━┓\n",
       "┃\u001b[1m \u001b[0m\u001b[1mLayer (type)                   \u001b[0m\u001b[1m \u001b[0m┃\u001b[1m \u001b[0m\u001b[1mOutput Shape          \u001b[0m\u001b[1m \u001b[0m┃\u001b[1m \u001b[0m\u001b[1m      Param #\u001b[0m\u001b[1m \u001b[0m┃\n",
       "┡━━━━━━━━━━━━━━━━━━━━━━━━━━━━━━━━━╇━━━━━━━━━━━━━━━━━━━━━━━━╇━━━━━━━━━━━━━━━┩\n",
       "│ conv2d (\u001b[38;5;33mConv2D\u001b[0m)                 │ (\u001b[38;5;45mNone\u001b[0m, \u001b[38;5;34m14\u001b[0m, \u001b[38;5;34m14\u001b[0m, \u001b[38;5;34m64\u001b[0m)     │        \u001b[38;5;34m17,664\u001b[0m │\n",
       "├─────────────────────────────────┼────────────────────────┼───────────────┤\n",
       "│ leaky_re_lu (\u001b[38;5;33mLeakyReLU\u001b[0m)         │ (\u001b[38;5;45mNone\u001b[0m, \u001b[38;5;34m14\u001b[0m, \u001b[38;5;34m14\u001b[0m, \u001b[38;5;34m64\u001b[0m)     │             \u001b[38;5;34m0\u001b[0m │\n",
       "├─────────────────────────────────┼────────────────────────┼───────────────┤\n",
       "│ conv2d_1 (\u001b[38;5;33mConv2D\u001b[0m)               │ (\u001b[38;5;45mNone\u001b[0m, \u001b[38;5;34m7\u001b[0m, \u001b[38;5;34m7\u001b[0m, \u001b[38;5;34m128\u001b[0m)      │        \u001b[38;5;34m73,856\u001b[0m │\n",
       "├─────────────────────────────────┼────────────────────────┼───────────────┤\n",
       "│ leaky_re_lu_1 (\u001b[38;5;33mLeakyReLU\u001b[0m)       │ (\u001b[38;5;45mNone\u001b[0m, \u001b[38;5;34m7\u001b[0m, \u001b[38;5;34m7\u001b[0m, \u001b[38;5;34m128\u001b[0m)      │             \u001b[38;5;34m0\u001b[0m │\n",
       "├─────────────────────────────────┼────────────────────────┼───────────────┤\n",
       "│ global_max_pooling2d            │ (\u001b[38;5;45mNone\u001b[0m, \u001b[38;5;34m128\u001b[0m)            │             \u001b[38;5;34m0\u001b[0m │\n",
       "│ (\u001b[38;5;33mGlobalMaxPooling2D\u001b[0m)            │                        │               │\n",
       "├─────────────────────────────────┼────────────────────────┼───────────────┤\n",
       "│ dense (\u001b[38;5;33mDense\u001b[0m)                   │ (\u001b[38;5;45mNone\u001b[0m, \u001b[38;5;34m1\u001b[0m)              │           \u001b[38;5;34m129\u001b[0m │\n",
       "└─────────────────────────────────┴────────────────────────┴───────────────┘\n"
      ]
     },
     "metadata": {},
     "output_type": "display_data"
    },
    {
     "data": {
      "text/html": [
       "<pre style=\"white-space:pre;overflow-x:auto;line-height:normal;font-family:Menlo,'DejaVu Sans Mono',consolas,'Courier New',monospace\"><span style=\"font-weight: bold\"> Total params: </span><span style=\"color: #00af00; text-decoration-color: #00af00\">91,649</span> (358.00 KB)\n",
       "</pre>\n"
      ],
      "text/plain": [
       "\u001b[1m Total params: \u001b[0m\u001b[38;5;34m91,649\u001b[0m (358.00 KB)\n"
      ]
     },
     "metadata": {},
     "output_type": "display_data"
    },
    {
     "data": {
      "text/html": [
       "<pre style=\"white-space:pre;overflow-x:auto;line-height:normal;font-family:Menlo,'DejaVu Sans Mono',consolas,'Courier New',monospace\"><span style=\"font-weight: bold\"> Trainable params: </span><span style=\"color: #00af00; text-decoration-color: #00af00\">91,649</span> (358.00 KB)\n",
       "</pre>\n"
      ],
      "text/plain": [
       "\u001b[1m Trainable params: \u001b[0m\u001b[38;5;34m91,649\u001b[0m (358.00 KB)\n"
      ]
     },
     "metadata": {},
     "output_type": "display_data"
    },
    {
     "data": {
      "text/html": [
       "<pre style=\"white-space:pre;overflow-x:auto;line-height:normal;font-family:Menlo,'DejaVu Sans Mono',consolas,'Courier New',monospace\"><span style=\"font-weight: bold\"> Non-trainable params: </span><span style=\"color: #00af00; text-decoration-color: #00af00\">0</span> (0.00 B)\n",
       "</pre>\n"
      ],
      "text/plain": [
       "\u001b[1m Non-trainable params: \u001b[0m\u001b[38;5;34m0\u001b[0m (0.00 B)\n"
      ]
     },
     "metadata": {},
     "output_type": "display_data"
    },
    {
     "data": {
      "text/html": [
       "<pre style=\"white-space:pre;overflow-x:auto;line-height:normal;font-family:Menlo,'DejaVu Sans Mono',consolas,'Courier New',monospace\"><span style=\"font-weight: bold\">Model: \"generator\"</span>\n",
       "</pre>\n"
      ],
      "text/plain": [
       "\u001b[1mModel: \"generator\"\u001b[0m\n"
      ]
     },
     "metadata": {},
     "output_type": "display_data"
    },
    {
     "data": {
      "text/html": [
       "<pre style=\"white-space:pre;overflow-x:auto;line-height:normal;font-family:Menlo,'DejaVu Sans Mono',consolas,'Courier New',monospace\">┏━━━━━━━━━━━━━━━━━━━━━━━━━━━━━━━━━┳━━━━━━━━━━━━━━━━━━━━━━━━┳━━━━━━━━━━━━━━━┓\n",
       "┃<span style=\"font-weight: bold\"> Layer (type)                    </span>┃<span style=\"font-weight: bold\"> Output Shape           </span>┃<span style=\"font-weight: bold\">       Param # </span>┃\n",
       "┡━━━━━━━━━━━━━━━━━━━━━━━━━━━━━━━━━╇━━━━━━━━━━━━━━━━━━━━━━━━╇━━━━━━━━━━━━━━━┩\n",
       "│ dense_1 (<span style=\"color: #0087ff; text-decoration-color: #0087ff\">Dense</span>)                 │ (<span style=\"color: #00d7ff; text-decoration-color: #00d7ff\">None</span>, <span style=\"color: #00af00; text-decoration-color: #00af00\">6762</span>)           │       <span style=\"color: #00af00; text-decoration-color: #00af00\">939,918</span> │\n",
       "├─────────────────────────────────┼────────────────────────┼───────────────┤\n",
       "│ leaky_re_lu_2 (<span style=\"color: #0087ff; text-decoration-color: #0087ff\">LeakyReLU</span>)       │ (<span style=\"color: #00d7ff; text-decoration-color: #00d7ff\">None</span>, <span style=\"color: #00af00; text-decoration-color: #00af00\">6762</span>)           │             <span style=\"color: #00af00; text-decoration-color: #00af00\">0</span> │\n",
       "├─────────────────────────────────┼────────────────────────┼───────────────┤\n",
       "│ reshape (<span style=\"color: #0087ff; text-decoration-color: #0087ff\">Reshape</span>)               │ (<span style=\"color: #00d7ff; text-decoration-color: #00d7ff\">None</span>, <span style=\"color: #00af00; text-decoration-color: #00af00\">7</span>, <span style=\"color: #00af00; text-decoration-color: #00af00\">7</span>, <span style=\"color: #00af00; text-decoration-color: #00af00\">138</span>)      │             <span style=\"color: #00af00; text-decoration-color: #00af00\">0</span> │\n",
       "├─────────────────────────────────┼────────────────────────┼───────────────┤\n",
       "│ conv2d_transpose                │ (<span style=\"color: #00d7ff; text-decoration-color: #00d7ff\">None</span>, <span style=\"color: #00af00; text-decoration-color: #00af00\">14</span>, <span style=\"color: #00af00; text-decoration-color: #00af00\">14</span>, <span style=\"color: #00af00; text-decoration-color: #00af00\">128</span>)    │       <span style=\"color: #00af00; text-decoration-color: #00af00\">282,752</span> │\n",
       "│ (<span style=\"color: #0087ff; text-decoration-color: #0087ff\">Conv2DTranspose</span>)               │                        │               │\n",
       "├─────────────────────────────────┼────────────────────────┼───────────────┤\n",
       "│ leaky_re_lu_3 (<span style=\"color: #0087ff; text-decoration-color: #0087ff\">LeakyReLU</span>)       │ (<span style=\"color: #00d7ff; text-decoration-color: #00d7ff\">None</span>, <span style=\"color: #00af00; text-decoration-color: #00af00\">14</span>, <span style=\"color: #00af00; text-decoration-color: #00af00\">14</span>, <span style=\"color: #00af00; text-decoration-color: #00af00\">128</span>)    │             <span style=\"color: #00af00; text-decoration-color: #00af00\">0</span> │\n",
       "├─────────────────────────────────┼────────────────────────┼───────────────┤\n",
       "│ conv2d_transpose_1              │ (<span style=\"color: #00d7ff; text-decoration-color: #00d7ff\">None</span>, <span style=\"color: #00af00; text-decoration-color: #00af00\">32</span>, <span style=\"color: #00af00; text-decoration-color: #00af00\">32</span>, <span style=\"color: #00af00; text-decoration-color: #00af00\">128</span>)    │       <span style=\"color: #00af00; text-decoration-color: #00af00\">589,952</span> │\n",
       "│ (<span style=\"color: #0087ff; text-decoration-color: #0087ff\">Conv2DTranspose</span>)               │                        │               │\n",
       "├─────────────────────────────────┼────────────────────────┼───────────────┤\n",
       "│ leaky_re_lu_4 (<span style=\"color: #0087ff; text-decoration-color: #0087ff\">LeakyReLU</span>)       │ (<span style=\"color: #00d7ff; text-decoration-color: #00d7ff\">None</span>, <span style=\"color: #00af00; text-decoration-color: #00af00\">32</span>, <span style=\"color: #00af00; text-decoration-color: #00af00\">32</span>, <span style=\"color: #00af00; text-decoration-color: #00af00\">128</span>)    │             <span style=\"color: #00af00; text-decoration-color: #00af00\">0</span> │\n",
       "├─────────────────────────────────┼────────────────────────┼───────────────┤\n",
       "│ conv2d_2 (<span style=\"color: #0087ff; text-decoration-color: #0087ff\">Conv2D</span>)               │ (<span style=\"color: #00d7ff; text-decoration-color: #00d7ff\">None</span>, <span style=\"color: #00af00; text-decoration-color: #00af00\">32</span>, <span style=\"color: #00af00; text-decoration-color: #00af00\">32</span>, <span style=\"color: #00af00; text-decoration-color: #00af00\">1</span>)      │         <span style=\"color: #00af00; text-decoration-color: #00af00\">6,273</span> │\n",
       "└─────────────────────────────────┴────────────────────────┴───────────────┘\n",
       "</pre>\n"
      ],
      "text/plain": [
       "┏━━━━━━━━━━━━━━━━━━━━━━━━━━━━━━━━━┳━━━━━━━━━━━━━━━━━━━━━━━━┳━━━━━━━━━━━━━━━┓\n",
       "┃\u001b[1m \u001b[0m\u001b[1mLayer (type)                   \u001b[0m\u001b[1m \u001b[0m┃\u001b[1m \u001b[0m\u001b[1mOutput Shape          \u001b[0m\u001b[1m \u001b[0m┃\u001b[1m \u001b[0m\u001b[1m      Param #\u001b[0m\u001b[1m \u001b[0m┃\n",
       "┡━━━━━━━━━━━━━━━━━━━━━━━━━━━━━━━━━╇━━━━━━━━━━━━━━━━━━━━━━━━╇━━━━━━━━━━━━━━━┩\n",
       "│ dense_1 (\u001b[38;5;33mDense\u001b[0m)                 │ (\u001b[38;5;45mNone\u001b[0m, \u001b[38;5;34m6762\u001b[0m)           │       \u001b[38;5;34m939,918\u001b[0m │\n",
       "├─────────────────────────────────┼────────────────────────┼───────────────┤\n",
       "│ leaky_re_lu_2 (\u001b[38;5;33mLeakyReLU\u001b[0m)       │ (\u001b[38;5;45mNone\u001b[0m, \u001b[38;5;34m6762\u001b[0m)           │             \u001b[38;5;34m0\u001b[0m │\n",
       "├─────────────────────────────────┼────────────────────────┼───────────────┤\n",
       "│ reshape (\u001b[38;5;33mReshape\u001b[0m)               │ (\u001b[38;5;45mNone\u001b[0m, \u001b[38;5;34m7\u001b[0m, \u001b[38;5;34m7\u001b[0m, \u001b[38;5;34m138\u001b[0m)      │             \u001b[38;5;34m0\u001b[0m │\n",
       "├─────────────────────────────────┼────────────────────────┼───────────────┤\n",
       "│ conv2d_transpose                │ (\u001b[38;5;45mNone\u001b[0m, \u001b[38;5;34m14\u001b[0m, \u001b[38;5;34m14\u001b[0m, \u001b[38;5;34m128\u001b[0m)    │       \u001b[38;5;34m282,752\u001b[0m │\n",
       "│ (\u001b[38;5;33mConv2DTranspose\u001b[0m)               │                        │               │\n",
       "├─────────────────────────────────┼────────────────────────┼───────────────┤\n",
       "│ leaky_re_lu_3 (\u001b[38;5;33mLeakyReLU\u001b[0m)       │ (\u001b[38;5;45mNone\u001b[0m, \u001b[38;5;34m14\u001b[0m, \u001b[38;5;34m14\u001b[0m, \u001b[38;5;34m128\u001b[0m)    │             \u001b[38;5;34m0\u001b[0m │\n",
       "├─────────────────────────────────┼────────────────────────┼───────────────┤\n",
       "│ conv2d_transpose_1              │ (\u001b[38;5;45mNone\u001b[0m, \u001b[38;5;34m32\u001b[0m, \u001b[38;5;34m32\u001b[0m, \u001b[38;5;34m128\u001b[0m)    │       \u001b[38;5;34m589,952\u001b[0m │\n",
       "│ (\u001b[38;5;33mConv2DTranspose\u001b[0m)               │                        │               │\n",
       "├─────────────────────────────────┼────────────────────────┼───────────────┤\n",
       "│ leaky_re_lu_4 (\u001b[38;5;33mLeakyReLU\u001b[0m)       │ (\u001b[38;5;45mNone\u001b[0m, \u001b[38;5;34m32\u001b[0m, \u001b[38;5;34m32\u001b[0m, \u001b[38;5;34m128\u001b[0m)    │             \u001b[38;5;34m0\u001b[0m │\n",
       "├─────────────────────────────────┼────────────────────────┼───────────────┤\n",
       "│ conv2d_2 (\u001b[38;5;33mConv2D\u001b[0m)               │ (\u001b[38;5;45mNone\u001b[0m, \u001b[38;5;34m32\u001b[0m, \u001b[38;5;34m32\u001b[0m, \u001b[38;5;34m1\u001b[0m)      │         \u001b[38;5;34m6,273\u001b[0m │\n",
       "└─────────────────────────────────┴────────────────────────┴───────────────┘\n"
      ]
     },
     "metadata": {},
     "output_type": "display_data"
    },
    {
     "data": {
      "text/html": [
       "<pre style=\"white-space:pre;overflow-x:auto;line-height:normal;font-family:Menlo,'DejaVu Sans Mono',consolas,'Courier New',monospace\"><span style=\"font-weight: bold\"> Total params: </span><span style=\"color: #00af00; text-decoration-color: #00af00\">1,818,895</span> (6.94 MB)\n",
       "</pre>\n"
      ],
      "text/plain": [
       "\u001b[1m Total params: \u001b[0m\u001b[38;5;34m1,818,895\u001b[0m (6.94 MB)\n"
      ]
     },
     "metadata": {},
     "output_type": "display_data"
    },
    {
     "data": {
      "text/html": [
       "<pre style=\"white-space:pre;overflow-x:auto;line-height:normal;font-family:Menlo,'DejaVu Sans Mono',consolas,'Courier New',monospace\"><span style=\"font-weight: bold\"> Trainable params: </span><span style=\"color: #00af00; text-decoration-color: #00af00\">1,818,895</span> (6.94 MB)\n",
       "</pre>\n"
      ],
      "text/plain": [
       "\u001b[1m Trainable params: \u001b[0m\u001b[38;5;34m1,818,895\u001b[0m (6.94 MB)\n"
      ]
     },
     "metadata": {},
     "output_type": "display_data"
    },
    {
     "data": {
      "text/html": [
       "<pre style=\"white-space:pre;overflow-x:auto;line-height:normal;font-family:Menlo,'DejaVu Sans Mono',consolas,'Courier New',monospace\"><span style=\"font-weight: bold\"> Non-trainable params: </span><span style=\"color: #00af00; text-decoration-color: #00af00\">0</span> (0.00 B)\n",
       "</pre>\n"
      ],
      "text/plain": [
       "\u001b[1m Non-trainable params: \u001b[0m\u001b[38;5;34m0\u001b[0m (0.00 B)\n"
      ]
     },
     "metadata": {},
     "output_type": "display_data"
    },
    {
     "data": {
      "text/plain": [
       "(None, None)"
      ]
     },
     "execution_count": 6,
     "metadata": {},
     "output_type": "execute_result"
    }
   ],
   "source": [
    "discriminator = keras.Sequential(\n",
    "    [\n",
    "        keras.layers.InputLayer((image_size, image_size, discriminator_in_channels)), # 32x32x11\n",
    "        layers.Conv2D(64, (5, 5), strides=(2, 2), padding=\"valid\"), # 14x14x64\n",
    "        layers.LeakyReLU(negative_slope=0.2),\n",
    "        layers.Conv2D(128, (3, 3), strides=(2, 2), padding=\"same\"), # 7x7x128\n",
    "        layers.LeakyReLU(negative_slope=0.2),\n",
    "        layers.GlobalMaxPooling2D(), # 128\n",
    "        layers.Dense(1), # 1\n",
    "    ],\n",
    "    name=\"discriminator\",\n",
    ")\n",
    "\n",
    "generator = keras.Sequential(\n",
    "    [\n",
    "        keras.layers.InputLayer((generator_in_channels,)),\n",
    "        layers.Dense(7 * 7 * generator_in_channels), # 6762\n",
    "        layers.LeakyReLU(negative_slope=0.2),\n",
    "        layers.Reshape((7, 7, generator_in_channels)), # 7x7x138\n",
    "        layers.Conv2DTranspose(128, (4, 4), strides=(2, 2), padding=\"same\"), # 14x14x128\n",
    "        layers.LeakyReLU(negative_slope=0.2),\n",
    "        layers.Conv2DTranspose(128, (6, 6), strides=(2, 2), padding=\"valid\"), # 28x28x128\n",
    "        layers.LeakyReLU(negative_slope=0.2),\n",
    "        layers.Conv2D(num_channels, (7, 7), activation=\"sigmoid\", padding=\"same\"), # 32x32x1\n",
    "    ],\n",
    "    name=\"generator\",\n",
    ")\n",
    "\n",
    "discriminator.summary(), generator.summary()"
   ]
  },
  {
   "cell_type": "code",
   "execution_count": 7,
   "metadata": {},
   "outputs": [],
   "source": [
    "class ConditionalGAN(keras.Model):\n",
    "    def __init__(self, discriminator, generator, latent_dim):\n",
    "        super().__init__()\n",
    "        self.discriminator = discriminator\n",
    "        self.generator = generator\n",
    "        self.latent_dim = latent_dim\n",
    "        self.seed_generator = keras.random.SeedGenerator(1337)\n",
    "        self.gen_loss_tracker = keras.metrics.Mean(name=\"generator_loss\")\n",
    "        self.disc_loss_tracker = keras.metrics.Mean(name=\"discriminator_loss\")\n",
    "\n",
    "    @property\n",
    "    def metrics(self):\n",
    "        return [self.gen_loss_tracker, self.disc_loss_tracker]\n",
    "    \n",
    "    def compile(self, d_optimizer, g_optimizer, loss_fn):\n",
    "        super().compile()\n",
    "        self.d_optimizer = d_optimizer\n",
    "        self.g_optimizer = g_optimizer\n",
    "        self.loss_fn = loss_fn\n",
    "\n",
    "    def train_step(self, data):\n",
    "        # Unpack the data\n",
    "        real_images, one_hot_labels = data\n",
    "        # real_images.shape = (batch_size, 28, 28, 1)\n",
    "        # one_hot_labels.shape = (batch_size, 10)\n",
    "\n",
    "        # Add dummy dimensions to the labels so that they can be concatenated with\n",
    "        # the images. This is for the discriminator.\n",
    "        image_one_hot_labels = one_hot_labels[:, :, None, None] # Now the shape is (batch_size, 10, 1, 1)\n",
    "        image_one_hot_labels = ops.repeat(\n",
    "            image_one_hot_labels, repeats=[image_size * image_size]\n",
    "        ) # Now the shape is (batch_size, 10, 28, 28)\n",
    "        image_one_hot_labels = ops.reshape(\n",
    "            image_one_hot_labels, (-1, image_size, image_size, num_classes)\n",
    "        ) # Now the shape is (batch_size, 28, 28, 10)\n",
    "        # That is, every pixel in the image has the one-hot label of the image.\n",
    "\n",
    "        # Sample random points in the latent space and concatenate the labels.\n",
    "        # This is for the generator.\n",
    "        batch_size = ops.shape(real_images)[0]\n",
    "        random_latent_vectors = keras.random.normal(\n",
    "            shape=(batch_size, self.latent_dim), seed=self.seed_generator\n",
    "        ) # (batch_size, 128)\n",
    "        random_vector_labels = ops.concatenate(\n",
    "            [random_latent_vectors, one_hot_labels], axis=1\n",
    "        ) # (batch_size, 138)\n",
    "\n",
    "        # Decode the noise (guided by labels) to fake images.\n",
    "        generated_images = self.generator(random_vector_labels) # (batch_size, 28, 28, 1)\n",
    "\n",
    "        # Combine them with real images. Note that we are concatenating the labels\n",
    "        # with these images here.\n",
    "        fake_image_and_labels = ops.concatenate(\n",
    "            [generated_images, image_one_hot_labels], -1\n",
    "        ) # (batch_size, 28, 28, 11)\n",
    "        real_image_and_labels = ops.concatenate(\n",
    "            [real_images, image_one_hot_labels], -1\n",
    "        ) # (batch_size, 28, 28, 11)\n",
    "        combined_images = ops.concatenate(\n",
    "            [fake_image_and_labels, real_image_and_labels], axis=0\n",
    "        ) # (2 * batch_size, 28, 28, 11)\n",
    "\n",
    "        # Assemble labels discriminating real from fake images.\n",
    "        labels = ops.concatenate(\n",
    "            [ops.ones((batch_size, 1)), ops.zeros((batch_size, 1))], axis=0\n",
    "        ) # (2 * batch_size, 1)\n",
    "\n",
    "        # Train the discriminator.\n",
    "        with tf.GradientTape() as tape:\n",
    "            predictions = self.discriminator(combined_images)\n",
    "            d_loss = self.loss_fn(labels, predictions)\n",
    "        grads = tape.gradient(d_loss, self.discriminator.trainable_weights)\n",
    "        self.d_optimizer.apply_gradients(\n",
    "            zip(grads, self.discriminator.trainable_weights)\n",
    "        )\n",
    "\n",
    "        # Sample random points in the latent space.\n",
    "        random_latent_vectors = keras.random.normal(\n",
    "            shape=(batch_size, self.latent_dim), seed=self.seed_generator\n",
    "        )\n",
    "        random_vector_labels = ops.concatenate(\n",
    "            [random_latent_vectors, one_hot_labels], axis=1\n",
    "        )\n",
    "\n",
    "        # Assemble labels that say \"all real images\".\n",
    "        misleading_labels = ops.zeros((batch_size, 1))\n",
    "\n",
    "        # Train the generator (note that we should *not* update the weights\n",
    "        # of the discriminator)!\n",
    "        with tf.GradientTape() as tape:\n",
    "            fake_images = self.generator(random_vector_labels)\n",
    "            fake_image_and_labels = ops.concatenate(\n",
    "                [fake_images, image_one_hot_labels], -1\n",
    "            )\n",
    "            predictions = self.discriminator(fake_image_and_labels)\n",
    "            g_loss = self.loss_fn(misleading_labels, predictions)\n",
    "        grads = tape.gradient(g_loss, self.generator.trainable_weights)\n",
    "        self.g_optimizer.apply_gradients(zip(grads, self.generator.trainable_weights))\n",
    "\n",
    "        # Monitor loss\n",
    "        self.gen_loss_tracker.update_state(g_loss)\n",
    "        self.disc_loss_tracker.update_state(d_loss)\n",
    "        return {\n",
    "            \"g_loss\": self.gen_loss_tracker.result(),\n",
    "            \"d_loss\": self.disc_loss_tracker.result(),\n",
    "        }\n"
   ]
  },
  {
   "cell_type": "code",
   "execution_count": 8,
   "metadata": {},
   "outputs": [
    {
     "name": "stdout",
     "output_type": "stream",
     "text": [
      "Epoch 1/40\n"
     ]
    },
    {
     "name": "stderr",
     "output_type": "stream",
     "text": [
      "WARNING: All log messages before absl::InitializeLog() is called are written to STDERR\n",
      "I0000 00:00:1737950734.910183  109788 service.cc:148] XLA service 0x76ef50021710 initialized for platform CUDA (this does not guarantee that XLA will be used). Devices:\n",
      "I0000 00:00:1737950734.910216  109788 service.cc:156]   StreamExecutor device (0): NVIDIA GeForce RTX 3070, Compute Capability 8.6\n",
      "2025-01-27 12:05:34.948717: I tensorflow/compiler/mlir/tensorflow/utils/dump_mlir_util.cc:268] disabling MLIR crash reproducer, set env var `MLIR_CRASH_REPRODUCER_DIRECTORY` to enable.\n",
      "I0000 00:00:1737950735.143468  109788 cuda_dnn.cc:529] Loaded cuDNN version 90300\n",
      "2025-01-27 12:05:36.019732: I external/local_xla/xla/stream_executor/cuda/cuda_asm_compiler.cc:397] ptxas warning : Registers are spilled to local memory in function 'gemm_fusion_dot_7', 64 bytes spill stores, 64 bytes spill loads\n",
      "\n",
      "2025-01-27 12:05:36.059154: I external/local_xla/xla/stream_executor/cuda/cuda_asm_compiler.cc:397] ptxas warning : Registers are spilled to local memory in function 'gemm_fusion_dot_7', 16 bytes spill stores, 16 bytes spill loads\n",
      "\n",
      "2025-01-27 12:05:36.116480: I external/local_xla/xla/stream_executor/cuda/cuda_asm_compiler.cc:397] ptxas warning : Registers are spilled to local memory in function 'gemm_fusion_dot_7', 260 bytes spill stores, 272 bytes spill loads\n",
      "\n",
      "2025-01-27 12:05:36.151340: I external/local_xla/xla/stream_executor/cuda/cuda_asm_compiler.cc:397] ptxas warning : Registers are spilled to local memory in function 'gemm_fusion_dot_7', 604 bytes spill stores, 628 bytes spill loads\n",
      "\n",
      "2025-01-27 12:05:36.187945: I external/local_xla/xla/stream_executor/cuda/cuda_asm_compiler.cc:397] ptxas warning : Registers are spilled to local memory in function 'gemm_fusion_dot_7', 8 bytes spill stores, 8 bytes spill loads\n",
      "\n",
      "2025-01-27 12:05:36.188152: I external/local_xla/xla/stream_executor/cuda/cuda_asm_compiler.cc:397] ptxas warning : Registers are spilled to local memory in function 'gemm_fusion_dot_7', 112 bytes spill stores, 112 bytes spill loads\n",
      "\n",
      "2025-01-27 12:05:36.340645: I external/local_xla/xla/stream_executor/cuda/cuda_asm_compiler.cc:397] ptxas warning : Registers are spilled to local memory in function 'gemm_fusion_dot_7', 856 bytes spill stores, 824 bytes spill loads\n",
      "\n"
     ]
    },
    {
     "name": "stdout",
     "output_type": "stream",
     "text": [
      "\u001b[1m 2/98\u001b[0m \u001b[37m━━━━━━━━━━━━━━━━━━━━\u001b[0m \u001b[1m8s\u001b[0m 92ms/step - d_loss: 0.6935 - g_loss: 0.7478  "
     ]
    },
    {
     "name": "stderr",
     "output_type": "stream",
     "text": [
      "I0000 00:00:1737950745.953175  109788 device_compiler.h:188] Compiled cluster using XLA!  This line is logged at most once for the lifetime of the process.\n"
     ]
    },
    {
     "name": "stdout",
     "output_type": "stream",
     "text": [
      "\u001b[1m98/98\u001b[0m \u001b[32m━━━━━━━━━━━━━━━━━━━━\u001b[0m\u001b[37m\u001b[0m \u001b[1m28s\u001b[0m 163ms/step - d_loss: 0.6810 - g_loss: 0.7403\n",
      "Epoch 2/40\n",
      "\u001b[1m98/98\u001b[0m \u001b[32m━━━━━━━━━━━━━━━━━━━━\u001b[0m\u001b[37m\u001b[0m \u001b[1m9s\u001b[0m 91ms/step - d_loss: 0.7657 - g_loss: 1.1177\n",
      "Epoch 3/40\n",
      "\u001b[1m98/98\u001b[0m \u001b[32m━━━━━━━━━━━━━━━━━━━━\u001b[0m\u001b[37m\u001b[0m \u001b[1m9s\u001b[0m 91ms/step - d_loss: 0.7385 - g_loss: 0.7485\n",
      "Epoch 4/40\n",
      "\u001b[1m98/98\u001b[0m \u001b[32m━━━━━━━━━━━━━━━━━━━━\u001b[0m\u001b[37m\u001b[0m \u001b[1m9s\u001b[0m 91ms/step - d_loss: 0.4241 - g_loss: 1.3551\n",
      "Epoch 5/40\n",
      "\u001b[1m98/98\u001b[0m \u001b[32m━━━━━━━━━━━━━━━━━━━━\u001b[0m\u001b[37m\u001b[0m \u001b[1m9s\u001b[0m 91ms/step - d_loss: 0.5729 - g_loss: 1.3974\n",
      "Epoch 6/40\n",
      "\u001b[1m98/98\u001b[0m \u001b[32m━━━━━━━━━━━━━━━━━━━━\u001b[0m\u001b[37m\u001b[0m \u001b[1m9s\u001b[0m 91ms/step - d_loss: 0.2591 - g_loss: 3.4137\n",
      "Epoch 7/40\n",
      "\u001b[1m98/98\u001b[0m \u001b[32m━━━━━━━━━━━━━━━━━━━━\u001b[0m\u001b[37m\u001b[0m \u001b[1m9s\u001b[0m 91ms/step - d_loss: 0.0692 - g_loss: 3.1288\n",
      "Epoch 8/40\n",
      "\u001b[1m98/98\u001b[0m \u001b[32m━━━━━━━━━━━━━━━━━━━━\u001b[0m\u001b[37m\u001b[0m \u001b[1m9s\u001b[0m 91ms/step - d_loss: 0.0501 - g_loss: 3.8672\n",
      "Epoch 9/40\n",
      "\u001b[1m98/98\u001b[0m \u001b[32m━━━━━━━━━━━━━━━━━━━━\u001b[0m\u001b[37m\u001b[0m \u001b[1m9s\u001b[0m 91ms/step - d_loss: 0.5491 - g_loss: 1.5150\n",
      "Epoch 10/40\n",
      "\u001b[1m98/98\u001b[0m \u001b[32m━━━━━━━━━━━━━━━━━━━━\u001b[0m\u001b[37m\u001b[0m \u001b[1m9s\u001b[0m 91ms/step - d_loss: 0.2559 - g_loss: 2.4477\n",
      "Epoch 11/40\n",
      "\u001b[1m98/98\u001b[0m \u001b[32m━━━━━━━━━━━━━━━━━━━━\u001b[0m\u001b[37m\u001b[0m \u001b[1m9s\u001b[0m 91ms/step - d_loss: 0.0769 - g_loss: 3.6861\n",
      "Epoch 12/40\n",
      "\u001b[1m98/98\u001b[0m \u001b[32m━━━━━━━━━━━━━━━━━━━━\u001b[0m\u001b[37m\u001b[0m \u001b[1m9s\u001b[0m 91ms/step - d_loss: 0.0318 - g_loss: 4.8493\n",
      "Epoch 13/40\n",
      "\u001b[1m98/98\u001b[0m \u001b[32m━━━━━━━━━━━━━━━━━━━━\u001b[0m\u001b[37m\u001b[0m \u001b[1m9s\u001b[0m 91ms/step - d_loss: 0.0137 - g_loss: 5.4652\n",
      "Epoch 14/40\n",
      "\u001b[1m98/98\u001b[0m \u001b[32m━━━━━━━━━━━━━━━━━━━━\u001b[0m\u001b[37m\u001b[0m \u001b[1m9s\u001b[0m 91ms/step - d_loss: 0.0091 - g_loss: 5.8667\n",
      "Epoch 15/40\n",
      "\u001b[1m98/98\u001b[0m \u001b[32m━━━━━━━━━━━━━━━━━━━━\u001b[0m\u001b[37m\u001b[0m \u001b[1m9s\u001b[0m 91ms/step - d_loss: 0.0086 - g_loss: 6.2146\n",
      "Epoch 16/40\n",
      "\u001b[1m98/98\u001b[0m \u001b[32m━━━━━━━━━━━━━━━━━━━━\u001b[0m\u001b[37m\u001b[0m \u001b[1m9s\u001b[0m 91ms/step - d_loss: 0.0065 - g_loss: 6.3261\n",
      "Epoch 17/40\n",
      "\u001b[1m98/98\u001b[0m \u001b[32m━━━━━━━━━━━━━━━━━━━━\u001b[0m\u001b[37m\u001b[0m \u001b[1m9s\u001b[0m 91ms/step - d_loss: 0.0054 - g_loss: 6.4682\n",
      "Epoch 18/40\n",
      "\u001b[1m98/98\u001b[0m \u001b[32m━━━━━━━━━━━━━━━━━━━━\u001b[0m\u001b[37m\u001b[0m \u001b[1m9s\u001b[0m 91ms/step - d_loss: 0.0045 - g_loss: 6.5505\n",
      "Epoch 19/40\n",
      "\u001b[1m98/98\u001b[0m \u001b[32m━━━━━━━━━━━━━━━━━━━━\u001b[0m\u001b[37m\u001b[0m \u001b[1m9s\u001b[0m 91ms/step - d_loss: 0.1734 - g_loss: 6.4876\n",
      "Epoch 20/40\n",
      "\u001b[1m98/98\u001b[0m \u001b[32m━━━━━━━━━━━━━━━━━━━━\u001b[0m\u001b[37m\u001b[0m \u001b[1m9s\u001b[0m 91ms/step - d_loss: 0.3718 - g_loss: 2.6657\n",
      "Epoch 21/40\n",
      "\u001b[1m98/98\u001b[0m \u001b[32m━━━━━━━━━━━━━━━━━━━━\u001b[0m\u001b[37m\u001b[0m \u001b[1m9s\u001b[0m 91ms/step - d_loss: 0.0170 - g_loss: 5.3764\n",
      "Epoch 22/40\n",
      "\u001b[1m98/98\u001b[0m \u001b[32m━━━━━━━━━━━━━━━━━━━━\u001b[0m\u001b[37m\u001b[0m \u001b[1m9s\u001b[0m 91ms/step - d_loss: 0.1063 - g_loss: 5.1022\n",
      "Epoch 23/40\n",
      "\u001b[1m98/98\u001b[0m \u001b[32m━━━━━━━━━━━━━━━━━━━━\u001b[0m\u001b[37m\u001b[0m \u001b[1m9s\u001b[0m 91ms/step - d_loss: 0.0310 - g_loss: 4.4758\n",
      "Epoch 24/40\n",
      "\u001b[1m98/98\u001b[0m \u001b[32m━━━━━━━━━━━━━━━━━━━━\u001b[0m\u001b[37m\u001b[0m \u001b[1m9s\u001b[0m 91ms/step - d_loss: 0.0104 - g_loss: 5.4302\n",
      "Epoch 25/40\n",
      "\u001b[1m98/98\u001b[0m \u001b[32m━━━━━━━━━━━━━━━━━━━━\u001b[0m\u001b[37m\u001b[0m \u001b[1m9s\u001b[0m 91ms/step - d_loss: 0.0073 - g_loss: 5.2329\n",
      "Epoch 26/40\n",
      "\u001b[1m98/98\u001b[0m \u001b[32m━━━━━━━━━━━━━━━━━━━━\u001b[0m\u001b[37m\u001b[0m \u001b[1m9s\u001b[0m 91ms/step - d_loss: 0.0053 - g_loss: 5.4708\n",
      "Epoch 27/40\n",
      "\u001b[1m98/98\u001b[0m \u001b[32m━━━━━━━━━━━━━━━━━━━━\u001b[0m\u001b[37m\u001b[0m \u001b[1m9s\u001b[0m 91ms/step - d_loss: 0.0040 - g_loss: 5.7396\n",
      "Epoch 28/40\n",
      "\u001b[1m98/98\u001b[0m \u001b[32m━━━━━━━━━━━━━━━━━━━━\u001b[0m\u001b[37m\u001b[0m \u001b[1m9s\u001b[0m 91ms/step - d_loss: 0.0035 - g_loss: 5.9346\n",
      "Epoch 29/40\n",
      "\u001b[1m98/98\u001b[0m \u001b[32m━━━━━━━━━━━━━━━━━━━━\u001b[0m\u001b[37m\u001b[0m \u001b[1m9s\u001b[0m 91ms/step - d_loss: 0.0723 - g_loss: 6.0651\n",
      "Epoch 30/40\n",
      "\u001b[1m98/98\u001b[0m \u001b[32m━━━━━━━━━━━━━━━━━━━━\u001b[0m\u001b[37m\u001b[0m \u001b[1m9s\u001b[0m 91ms/step - d_loss: 0.0148 - g_loss: 6.2080\n",
      "Epoch 31/40\n",
      "\u001b[1m98/98\u001b[0m \u001b[32m━━━━━━━━━━━━━━━━━━━━\u001b[0m\u001b[37m\u001b[0m \u001b[1m9s\u001b[0m 91ms/step - d_loss: 0.0063 - g_loss: 5.4144\n",
      "Epoch 32/40\n",
      "\u001b[1m98/98\u001b[0m \u001b[32m━━━━━━━━━━━━━━━━━━━━\u001b[0m\u001b[37m\u001b[0m \u001b[1m9s\u001b[0m 91ms/step - d_loss: 0.0039 - g_loss: 5.9872\n",
      "Epoch 33/40\n",
      "\u001b[1m98/98\u001b[0m \u001b[32m━━━━━━━━━━━━━━━━━━━━\u001b[0m\u001b[37m\u001b[0m \u001b[1m9s\u001b[0m 91ms/step - d_loss: 0.0057 - g_loss: 5.6254\n",
      "Epoch 34/40\n",
      "\u001b[1m98/98\u001b[0m \u001b[32m━━━━━━━━━━━━━━━━━━━━\u001b[0m\u001b[37m\u001b[0m \u001b[1m9s\u001b[0m 91ms/step - d_loss: 0.0110 - g_loss: 4.6204\n",
      "Epoch 35/40\n",
      "\u001b[1m98/98\u001b[0m \u001b[32m━━━━━━━━━━━━━━━━━━━━\u001b[0m\u001b[37m\u001b[0m \u001b[1m9s\u001b[0m 91ms/step - d_loss: 0.0052 - g_loss: 5.3292\n",
      "Epoch 36/40\n",
      "\u001b[1m98/98\u001b[0m \u001b[32m━━━━━━━━━━━━━━━━━━━━\u001b[0m\u001b[37m\u001b[0m \u001b[1m9s\u001b[0m 91ms/step - d_loss: 0.0034 - g_loss: 5.7337\n",
      "Epoch 37/40\n",
      "\u001b[1m98/98\u001b[0m \u001b[32m━━━━━━━━━━━━━━━━━━━━\u001b[0m\u001b[37m\u001b[0m \u001b[1m9s\u001b[0m 91ms/step - d_loss: 0.0025 - g_loss: 6.0418\n",
      "Epoch 38/40\n",
      "\u001b[1m98/98\u001b[0m \u001b[32m━━━━━━━━━━━━━━━━━━━━\u001b[0m\u001b[37m\u001b[0m \u001b[1m9s\u001b[0m 91ms/step - d_loss: 0.0021 - g_loss: 6.3059\n",
      "Epoch 39/40\n",
      "\u001b[1m98/98\u001b[0m \u001b[32m━━━━━━━━━━━━━━━━━━━━\u001b[0m\u001b[37m\u001b[0m \u001b[1m9s\u001b[0m 91ms/step - d_loss: 0.0020 - g_loss: 6.3504\n",
      "Epoch 40/40\n",
      "\u001b[1m98/98\u001b[0m \u001b[32m━━━━━━━━━━━━━━━━━━━━\u001b[0m\u001b[37m\u001b[0m \u001b[1m9s\u001b[0m 91ms/step - d_loss: 0.0018 - g_loss: 6.4484\n"
     ]
    },
    {
     "data": {
      "text/plain": [
       "<keras.src.callbacks.history.History at 0x76f07eccc890>"
      ]
     },
     "execution_count": 8,
     "metadata": {},
     "output_type": "execute_result"
    }
   ],
   "source": [
    "cond_gan = ConditionalGAN(\n",
    "    discriminator=discriminator, generator=generator, latent_dim=latent_dim\n",
    ")\n",
    "cond_gan.compile(\n",
    "    d_optimizer=keras.optimizers.Adam(learning_rate=0.0003),\n",
    "    g_optimizer=keras.optimizers.Adam(learning_rate=0.0003),\n",
    "    loss_fn=keras.losses.BinaryCrossentropy(from_logits=True),\n",
    ")\n",
    "\n",
    "cond_gan.fit(dataset, epochs=40)"
   ]
  },
  {
   "cell_type": "code",
   "execution_count": 11,
   "metadata": {},
   "outputs": [
    {
     "name": "stdout",
     "output_type": "stream",
     "text": [
      "\u001b[1m1/1\u001b[0m \u001b[32m━━━━━━━━━━━━━━━━━━━━\u001b[0m\u001b[37m\u001b[0m \u001b[1m0s\u001b[0m 30ms/step\n"
     ]
    }
   ],
   "source": [
    "# We first extract the trained generator from our Conditional GAN.\n",
    "trained_gen = cond_gan.generator\n",
    "\n",
    "# Choose the number of intermediate images that would be generated in\n",
    "# between the interpolation + 2 (start and last images).\n",
    "num_interpolation = 9  # @param {type:\"integer\"}\n",
    "\n",
    "# Sample noise for the interpolation.\n",
    "interpolation_noise = keras.random.normal(shape=(1, latent_dim), seed=1337)\n",
    "interpolation_noise = ops.repeat(interpolation_noise, repeats=num_interpolation)\n",
    "interpolation_noise = ops.reshape(interpolation_noise, (num_interpolation, latent_dim))\n",
    "\n",
    "\n",
    "def interpolate_class(first_number, second_number):\n",
    "    # Convert the start and end labels to one-hot encoded vectors.\n",
    "    first_label = keras.utils.to_categorical([first_number], num_classes)\n",
    "    second_label = keras.utils.to_categorical([second_number], num_classes)\n",
    "    first_label = ops.cast(first_label, \"float32\")\n",
    "    second_label = ops.cast(second_label, \"float32\")\n",
    "\n",
    "    # Calculate the interpolation vector between the two labels.\n",
    "    percent_second_label = ops.linspace(0, 1, num_interpolation)[:, None]\n",
    "    percent_second_label = ops.cast(percent_second_label, \"float32\")\n",
    "    interpolation_labels = (\n",
    "        first_label * (1 - percent_second_label) + second_label * percent_second_label\n",
    "    )\n",
    "\n",
    "    # Combine the noise and the labels and run inference with the generator.\n",
    "    noise_and_labels = ops.concatenate([interpolation_noise, interpolation_labels], 1)\n",
    "    fake = trained_gen.predict(noise_and_labels)\n",
    "    return fake\n",
    "\n",
    "\n",
    "start_class = 2  # @param {type:\"slider\", min:0, max:9, step:1}\n",
    "end_class = 6  # @param {type:\"slider\", min:0, max:9, step:1}\n",
    "\n",
    "fake_images = interpolate_class(start_class, end_class)\n"
   ]
  },
  {
   "cell_type": "code",
   "execution_count": 17,
   "metadata": {},
   "outputs": [
    {
     "data": {
      "text/html": [
       "<img src=\"data:image/gif;base64,R0lGODlhYABgAIYAAAAAAAEBAQICAgMDAwQEBAUFBQYGBgcHBwgICAkJCQoKCgsLCwwMDA0NDQ4ODg8PDxAQEBERERISEhMTExQUFBUVFRYWFhcXFxgYGBkZGRoaGhsbGxwcHB0dHR4eHh8fHyEhISIiIiMjIyUlJSYmJicnJysrKywsLC0tLS4uLjAwMDExMTMzMzQ0NDU1NTY2Njg4ODk5OTo6Ojs7Ozw8PD8/P0BAQEJCQkREREVFRUZGRkhISElJSUpKSktLS01NTU5OTk9PT1FRUVRUVFVVVVhYWFlZWWBgYGFhYWZmZmdnZ2hoaGxsbG9vb3BwcHFxcXNzc3V1dX5+foCAgIWFhYiIiImJiYqKioyMjJGRkZmZmZqampubm5ycnJ2dnZ6enqKioqOjo6ioqKmpqaqqqqysrLCwsLu7u729vcDAwMfHx8zMzNHR0dra2ubm5uzs7PPz8/39/f///wAAAAAAAAAAAAAAAAAAAAAAAAAAAAAAAAAAAAAAAAAAAAAAAAAAACH5BABkAAAALAAAAABgAGAAAAj/AAEIHEiwoMGDCBMqXMiwocOHECNKnEixosWLGDNq3Mixo8ePIEMKLKDggYICIlNaVEDBAwUFKmNKfOABhYcHMnM6ZOkSps6fCUmaRAm0qNGjSJMqXcq0qdOnUKMu5BCDSAwOH6laxWqwggkbJipM1Hp1YownZJ7E+Hg27VqDJohMIWLCLFq1E4mQkUOGyEe9fP0atDElzRQbeff2teuW7d23BePOrSuxLV6JZLl2zHzQK1ixmKuWlUp6LIwhMDSX9gjDyRgnMFaDHDImzpghsj+2fh079+bTqX0LN8rZI4USM0pQyCpa9UPLkDmWABIFSAnHjSUCXuxxRhQzUWb8/1UsOCL0j9OrX/d4PvTWj8eTL/dYfLh9kQHucwzAX39G/gL0599F/OU3IEYGHjhgfQQxOJCDAkEIgIQUNsfYZQW1l+FjB2lIkIcDgSiQiA1tVx5BJh6UokErFtQiiuSpGGNlHBpE4o01bpidjhh+mCNEFb5nUJCjFUSkcxFaqOCSTDbp5JNQRinlQ0ceJCFDVQ6ppHk/htjliF82hOOOPpL50IsDoSmQmiXO6KKbMAZ2YXRemgmmnWKGOWaPVG7ZoJ8PAupQlkYKOqWCVx56J5+KxsldozaGCWmikDolYQQitCBCBFYaihGhEJEoQg5L5CBCh5JetCedDrHZwhJdLP/RgoxyesQmmwyJSqqpqOKJ0apjGYqpppxqKeRmhlJaKVOgOglslLfC6WyYQXzxxhdBSCkhD1m0kQUPyxZ0AxVqUHGDTBdc8AACBwUgAAEBNhTAAAQMkB8DGYyQAQMNnVAEFUWc0JCyCaWQwgc4GSRAAQcUIEBDAxSAQAEDAJDBCj2skEFDFpxwwwkW5OkrQznkkMIFBxFwwAIHENAQAQgwgIDLI/TQRA8jjFerRCusAAIEBy3c8MMMRTxxxRdnvDF7qS7UQQcT+FSQu/AmqNC89d6b777MHRtRAgkYUHG4BC3AsssTjADDCBN06nWgbycZ94TJ1j13cQ00kADNPjj/4UPOkeL5LI+sAjB4mZc9MBQArYkBG62POnpimtKuWTkA0e4suUAaaCCBAgHYIAUaUtTQK6OG6wlFGVAULgQYcIAhxOmFk4hDFWtYkQN/JJCggQMD7IAFG1jo4HaRf87twQxGzODBQT9s4cYWPxyPJN1zs5DEFkq4MMAAPYcwAQFBcOGGFtV79K4B8B7ErbfgehRCDkroMAIBBPS+wQMEvKCEFklgwUewZq+DqAAJWUCCCj5ygRTkQAUcQAACOMABCixgABxowQ9YoIEBuktABcGACnigAgx8ZAEXCMEGJsAABkQgAjIbQLwgVYAFQAACPXvBDMByAQFErGUPG8ABoBRwgLEVxAANmEADDDBAH84wIgTMjwdoYAQjCEEIR2iCFIhwAiEqQG8uO4ADKuCAAxykARoogQYaUBGrFeRdBWifRAZggLBV7AVMCEMYnvCEK4DhDFK4gVAo0AAzKqACH6iA1AgygRLIoARtm0iBEGI0ik2EAAkAIwCC4IU3vIGPfgSkIEtCSEMiUpEHaeQjIymRSR6kkkaECCY1yUlPBgQAIfkEAWQAxQAsAAAAAGAAYACHAAAAAQEBAgICAwMDBAQEBQUFBgYGBwcHCAgICQkJCgoKCwsLDAwMDQ0NDg4ODw8PEBAQEREREhISExMTFBQUFRUVFhYWFxcXGBgYGRkZGhoaGxsbHBwcHR0dHh4eHx8fICAgISEhIiIiIyMjJCQkJSUlJiYmJycnKCgoKSkpKioqKysrLCwsLS0tLi4uLy8vMDAwMTExMjIyMzMzNDQ0NTU1NjY2Nzc3ODg4OTk5Ojo6Ozs7PDw8PT09Pj4+Pz8/QEBAQUFBQkJCQ0NDRERERUVFRkZGR0dHSEhISUlJSkpKS0tLTExMTU1NTk5OT09PUFBQUVFRUlJSU1NTVFRUVVVVV1dXWFhYWVlZW1tbXFxcXV1dX19fYGBgYWFhYmJiY2NjZGRkZWVlZmZmZ2dnaGhoaWlpampqa2trbGxsbW1tb29vcHBwcXFxcnJyc3NzdXV1dnZ2eHh4enp6e3t7fHx8fX19fn5+f39/gICAgYGBgoKCg4ODhISEhoaGh4eHiIiIiYmJi4uLjIyMjo6Oj4+PkJCQkZGRkpKSk5OTlJSUlZWVlpaWmJiYmZmZmpqam5ubnZ2dnp6en5+foKCgoaGho6OjpKSkp6enqKioqampqqqqq6urrKystLS0t7e3ubm5urq6vLy8vb29v7+/wMDAxMTExcXFycnJysrKy8vLzMzMzc3Nzs7O0NDQ0tLS19fX2dnZ29vb3Nzc3d3d3t7e39/f4ODg4eHh5eXl5+fn6+vr7e3t7u7u9fX19vb2+vr6/Pz8/f39/v7+////AAAAAAAAAAAAAAAAAAAAAAAAAAAAAAAAAAAAAAAAAAAAAAAAAAAAAAAAAAAAAAAAAAAAAAAAAAAAAAAAAAAAAAAAAAAAAAAAAAAAAAAAAAAAAAAAAAAAAAAAAAAAAAAAAAAAAAAAAAAAAAAAAAAAAAAAAAAAAAAAAAAAAAAAAAAAAAAAAAAAAAAAAAAAAAAAAAAAAAAAAAAAAAAAAAAAAAAAAAAAAAAAAAAAAAAAAAAACP8ABwwwEmgVICLFLrgo4uJCMSWKailSUoxIIFaBEPqgA4qOj2IrrOyxsqJYiCFhhoQoBuHDiw8QiiWQsGGCAgEBAhTbybOnz59Ag+4USNAgQoUMHUKUSNEiRo0cPYIUSdIkSpUsXcKUSdMmTp1Cw4oFGiVKmDiA0kChIQOGiw8PisUAo+hOGSlnA2VxUSyFFDposihxMsWKjg7FLLQYskOGihMjPpRQ8cIEBwkWNnyooGCsZ8+UKOkBQwSKFjNNZFx4gKBYhhhKyvi51CcMkYbFKqTwkUXOIjdOVnR4EICBhRAyiFTxcQKCCiJchJhIoGEFDxQUPmsX2qvXpCfFaJj/iWSGBlApl35dkgJUySJbiygWywlWRRU8VVQUe8GFEJcXxXiwAxY7eLDdgT5xwokbORQzghFmGDECUDeocYkaNwAlAxiLgCEDT2AVwwEOVeDAQTEg/MDFDyAUQwEKO2CHIFAIRJBBBK0BZUaEE0YwAg0jRADUBjdIccMGQGUggxIyZACUAxyowIEDLIHwAggxKUCBBxR0NqNPESAXgpBAmWBCBg18qeaa2ym5RJNBZXBjjmzWaSeYYpL5UwMNIEDAnYDeWeOcgRZq6KGARiDCDCLoieijbIpAxBhEiADppWvOMIYjY8yA6YwCEHAAAQIApUENT9SgAVAQgAADlkDB/9DFIV3A8CmCBCTQQAJ//lSDGZKYUQNQIADRBRAt/tRCFoBk0cKtBx7QAAUNHADUE5LwIgl4P8lqSK1ArVBFHlWUBK12ue76JwDsslvMr8EO+1OxxybrEwc5VJHDie26+1O/AHwa6qilAlzMqamu+lOrr8b0E5QrTFmMwf/2ey5PFBeacU8bQ9vxnR9PbPHFIrd7aMghk6zyykLhq++JCDKQQQkZMMDymjm0sUkbDSL4mhIxOHnzl1VsQswmVcxYghJrKFHC0EFp+UGXQBV9dNI/VaHJMJpg7VMMXiDiRQxQA0VBCj2kkF3WRiNd9SbDuP0TD3J4IgcPZf/0QQ9a9P/wwdtXAy63T0gUAkshSOTt09lpZ2dwzjv37BPkPMfaRSHgpnyx1FQb7PK+QH0Os08YwIAEDBiU7K/iO2m+pussw/6l7CrTjqDtrOd+5wEOWOCAtT+JHnq+oAdP/Og9Cd86tA50IByVP1EueU/SA1V99DpXXvKtFqwQxAoWCO51T1YPTn7b4/NUftK4r1nCEmws8fRPRABilPjnWeKLJez9tMQit1jEElq3ukvV4AyTOIO8fKIpTnmKbYH7iRMisYtIOAEoQMhDKfIABIxBqwiBaEUgigAUSVHKUhA0H0+WwAhcMGKAP7EBGiqBBhvcCgEIKMAAiuECLQRCC3wx2AX/WkCEFjjkcdlrkMFkEAZGhOFDBiMBEtCABBKoLmAVM9mMIACBBRQgIQvBjcEWcAERXGABVxTR8dLoJjgZTAIksAEJJJDGLBZwOxjAAAToxLGR+QRlfuyjFv8YSIwVUjtc9CJQADlIQd6RgI00ZCQh+cjP4FCHizxkHQk5yU06EoucrKTuRrkTAQygANPiwAQSMLyXtbJ491qj8Vw5S1jaaQAGSEAGUpADE0zAekkEZuSEqb3JBRN7wwRUARLgABP0gJY+WR/+Upi+nUiTmoHCZQJMMIR6AYUKmhCGJqjQHkXQYiJASQIiZIGIJJwnPeuZ5p1MWYATIOEMR5jQT6iQ/4lgZIKcP/mBHURhhx8ApQdz+MQcenAtSfRiW/IM1AmcAAcnnAAoU8AEMDAxBaDMgAyPIMMDv/aFRHyBbD9hgiNy4QgmRHRNKUiBxDRAAyfQYFUGw8EaMLEGHKRRUmSoVBpDEIQvBGElP2lgp9JYvfb1ZApTuMGJGqCBE2ggTZ7DwRRMlEZFMUpIBoNACGIQAof5JAMzYMIMnOS5NTqVJ3WowxRSkMlOMlKUYrkrKA8EVanWtZJ6nVFgZxRTidlxr5IErCbHMlhSOhZByvOJqBYwKqAwAAMjwIDNEGQBFgSBBeEj2fV8coAHWOABwCPdC47wgtQhiAVW4IMVWKCya//6ZAHHsQAafzKCI+BTnwcKAh9MwYcgHKp0p3NtNNFHIwjokY88GVGJkMeTIfghFX4YAlBgK1vaGkpWtLIVNn9SAAU8QAFf/EkFVPADFVQAKHNRBBhQ6pPOfja0hULCIWJxiMSN1yehMgCpnhQlw/okRSuy17nAmzmLNdViARgAAQagE4MlYAKqZKV62etelSEXdWkUnsFy8pU0LtMBCUjvbSsAggrsdmiN/eRjhRLjxCJ2xjb+6409ieMeI+rDyk2eLGMJze0YgAETYIABVCYrzInXmMmEcjG3IzOabfZihTucf5cbQS6r8DMTKAEOSvBLkv3gDqO4g0H/e74ut/n/y7nZTQreSzIbqMESarAhm9XH3D3vZIhFdAjJXJAFvfDFz8Ww7Zur6RrYBO1WFvNAD7LQAwMhMcrUC+alp8wTsZLVrGF5KyWL8QAPuMADcWlrkaPrVotFticIgEAG9ugZUatOx7W2mK3zuljG2rXXMt51qIE9bMV28rA8BhmxgZKTZftYO/SxGC4RYIAdkgzIh9LADJpAgw0IQAAWM8ACIrCAJZOMwU8O1EcfUYYaCMRig8KRyvTL3y0HqgmP0AUkoEAAAgCMAifYwQnW5hMi/EEVf0DIT6yLiuy+dCfqnEU725MIWiRCPj5xD3ww3pOIJ2IJ7+7XB3ygBR/87SdM/3Tih34Sg5Ke9G1xY/RS0PkTH9QhFHX4yE+AgAdS4KGDPymCIFwhCCM0u18qoMIdqKCfnxDVqEj1yci3YPKqba1rQGGhC2HIQDE0Qgwj7ckBE7jAngiBD6fggxDYJSccAWBEVODqT+wLWqDoxgdzBgoO2qCJNvgU5U18YgmJIAah8ta3+dzuFfjQBi4wgQkykMGYAAAlKUHvtrl9cU8UUIHNeOleJJL7WWXwJqGBaVGNAooERlCDEdBx7iwQAhfq4AhHLKH0x372Z1Sai1xE3gQaQHEBABawGis792E5cgSUXAwjDOIVr5CTBjawAQkkgPjJzv5ndkxJ7ouFARcYwTQFbMZzUpCCXQ7YQAo24ADsG3/7ohS1j4AkpBy8oROdQL/62e9+Tdr62PL3I0FSDPaHfwEBACH5BAFkALwALAAAAABgAGAAhwAAAAEBAQICAgMDAwQEBAUFBQYGBgcHBwgICAkJCQoKCgsLCwwMDA0NDQ4ODg8PDxAQEBERERISEhMTExQUFBUVFRYWFhcXFxgYGBkZGRoaGhsbGxwcHB0dHR4eHh8fHyAgICEhISIiIiMjIyQkJCUlJSYmJicnJygoKCoqKisrKywsLC0tLS4uLi8vLzAwMDExMTIyMjMzMzQ0NDU1NTY2Njc3Nzg4ODk5OTo6Ojs7Ozw8PD09PT4+Pj8/P0BAQEFBQUJCQkNDQ0REREVFRUZGRkdHR0hISElJSUpKSktLS0xMTE1NTU5OTk9PT1FRUVJSUlNTU1RUVFVVVVZWVldXV1hYWFlZWVpaWltbW1xcXF1dXV5eXmBgYGFhYWJiYmVlZWZmZmdnZ2hoaGlpaWtra2xsbG1tbW5ubm9vb3FxcXJycnNzc3R0dHV1dXZ2dnl5eXp6ent7e3x8fH19fX5+fn9/f4CAgIGBgYKCgoSEhIWFhYaGhoeHh4iIiIuLi4yMjI+Pj5CQkJGRkZKSkpOTk5SUlJeXl5ubm5ycnJ2dnZ6enqGhoaOjo6Wlpaenp6ioqKmpqaqqqqurq6ysrK2tra+vr7GxsbW1tbe3t7i4uLq6ury8vL29vcHBwcPDw8TExMbGxsfHx8zMzM/Pz9DQ0NPT09bW1tfX19jY2Nra2tvb29zc3N7e3uHh4eLi4uPj4+Xl5ejo6Orq6uvr6/Pz8/T09PX19fb29vf39/n5+f///wAAAAAAAAAAAAAAAAAAAAAAAAAAAAAAAAAAAAAAAAAAAAAAAAAAAAAAAAAAAAAAAAAAAAAAAAAAAAAAAAAAAAAAAAAAAAAAAAAAAAAAAAAAAAAAAAAAAAAAAAAAAAAAAAAAAAAAAAAAAAAAAAAAAAAAAAAAAAAAAAAAAAAAAAAAAAAAAAAAAAAAAAAAAAAAAAAAAAAAAAAAAAAAAAAAAAAAAAAAAAAAAAAAAAAAAAAAAAAAAAAAAAAAAAAAAAAAAAAAAAAAAAAAAAAAAAj/ABkwkKIo1ilRmvhMGSFjiJQqV7T8KJHAyJ5PeYDwCgHkC5YnSHa0CJFBgoIFDBpAoHDhAQIAMHnBnDmTl82bOA0wkMDAAC8geTBqbKDhhIYGvEokSQNlxoUukmrVEkjQIEKFDB1ClEjRotCNHT+GHFnyZMqVLV/GpEkTp1teOnn6BPqVqFGkSpk6hSr1xw8ygzY5EiSHCxASKmDcyLGjh4oMBl5cyVNFBS8LK4DwwEFDBQgLERgcOIAgwYIGDxQUYMsawFucBBAwQECAl4oqedBgIWIDhYYLFCCQsJFEiZIlejrdusWGDR0+gtpc4UGjhQkRHzh08PDBQgMCGFgA/1FhgdcCCyHSi9AwYQECAwMIyC9AusCA1mxf3xRAwAABAZepAAQWa/zhhQ0NUKBBCCKQYMIQX9wBCSm55PLII4PIAYYQIgBg11E2BSDiiK69VUACDiRQgE01ydRWfvnpJyMvRPxRyh9E8AJBCDCEEEEAPMCBySiv6KLLGmuEcQUTM2gQQAISaFDCCzqgQEEA/NkH4FsDGJAAfDeVyMuJKa54wAMWPHCAjh+48AEEvHCAwxQ4cMALBi8g8QIGr7WgxR9atGAeehYsEAAQeHhiSiwV7rBDDjfUQMIEAZzYwAtRvOEECrx0+eUArwkwgJavJTABBxMkwMsDHazQwQO8fP/QwxY9fMALDmpIogYOvLzgxSBevPDaBS0Q0cIFYy4AwQI+DeHHKKrIggsuo6HpQQULCCAiLzq8cckbOvBCQAINJFDbjPo5wEEKHDhw2QpBrFCeC1sAsoULvEwhyS6STMELEoOoMggS6LLY1hGCpOIKLbbYQgIJH2hQgQMIbMvLCU5oekKnXoJZ8Fumoqoqq67CKiuttuKqK6++Aitswfm90IUgkXzCCit+udDBbAQEcBMFJ+hwAgW8BBDfAD5/7BaZKvJyZpprQtDmm3HOWeedee75cX54HqEGIqCAssUWPoQwgLZKp6322my7hQMblFACBBArXKBt0m3zwp9/W7r/FWPeMqrLrrsydnvJJQ9n0IDFgMfWAG2v/Q34axzcIMUNdsrIQxyZZIIAAvZNfpMBDUzQgE9vSS46TilIUYcUKczoAx2ccFJAAf+52KLfbb01brnnuvWAByx4AOvqb5mwxBpLmPAaAxiQEIQXdtgxwNk+q27w7jiNCjqob3mwQxY7eID8WyIMIcYQIrzWdRFDCCEE79yH2btbIt79GgtZ+JEFC+dziwd4kAUemO8tJDiCGZKAAgMYAALLWhHM7ocTAJDoNeIj3wEDaBMKoIAHVtJdTLoGgw3IJz2F4kUCIqCBCKgqdRS0XwBi8pbhFe94HOSFAijgAQooQISugR4J/xQnAAHAoEdw+hBScsjErcXwJiMYAQYYoEIWurCJWJyR9mxiAQs4YE2/M1cWxwjD+t3kc6EjoxrzhkbwoWuLt6KTfuREp8y5hXSmQ50a2+hEM94qV7t6jcoC+ZYGZMAEilsjL/g4QT/qi1/+essj+/WaCZgAByaYgCI90MMfbtEBHVBBBwj3ln1JQj9JMEQrDJGE1xgSkUtU4wxmMIIIAPE1HcABFXDQARntQkY+qEMn6uCD1+DxdIpMQhJgkIFbvkUFVMADFSzDthmMIRFjmIEiCyYDGYjAllvM5S57ybYREGEMRBjBxzATr/I0sQMdmIAnn8gLUIqSlGqLwAhoaf/Lgq3ACnqwwgqw6MDcbTNtQdBDKPQQBCze7mwHTds/AzrQJl4PbRFdJ7zkhcUiMi6jIMXJiLZHQ7dsoAZPqMEGmghHJjJuizUwQyPMUAOW0lONW3xCI2zRiCfY1I84pWdMZ1rTt/RgDpuYQw8ECUhelbGkB93iSVO60recoAlvaMLG3kLHqz1VTFGl5xZ3hMTIifWmTHxRW7pqpy2eJwQp/KpZa8JWylnNjmtTa00GyastFkBZC5Ag/aBqv702lakryxs9JxnJiDL2NY9tGz35ClLKvsWybKNnXTO6Wbd0NqSgPR9+5krYDgZtaKQFa2FL60zRtia1r8GYxmAr19r/upY1tHWL4cCV2wqeFaiKfa1tcSJbJ2x1sKolaXJbi7zRDvdnpyXac5Xb2wBu8bq/ZS12gZvXmuSnrtuNCXiz65rx1gQDMEACDPgkWe+2hbLhdQ18yfvHxOYHBl4ghBdgEFzWRnZt/1VbgG+CBEKsghAEay9rMas2BqfNwTbBr375q+DlfjZtF1Zahu+U3vWG9sNh9WN8K7zcoIqYvplF6xhHPN0+snZ1LEZudW2CgzVMYg1OlXFaUazjHuOkAzmgQg7I6WPr8ti3J/Zj/j66ze/e9ZbmFe+Tr3vBgklgBDQYgQSa+97D5me+hrXvWWdYYreMoAhkKII6mThgm7Q5/1+mbCwHaUCGRZCBBk2EcH0J6bbDMvHMaV5zDjdM6Ccz8cpZ3jKIFy26GCNZu5o1dEQdvdrlblHPJoZ0kjXt3ziDlNLUbfERAoGKQBzh00eu9Ix5kQM3WMINOUD1pi2dapuwAAt9wAIAMzpiAdCnAABych2ZexPxYaF8H9thJ+067EZy2jUFUEBqVvRlL9PThsb7mAdBKN0+J5aJT1MTZD3NxAEWcIM4efPqoj1txPKZg9sO4WX9nENfHwDYzPZqDpXtw3zj1WCMlrVb2MnRFM/a3+7rMHuLrFzC/nMPAiXxqvUMgy8U4gsUZjgQCRuEPYhiDw01+LPHDcnXIKEQrP8oRII13poKTGxNRQCEKQBRhNfkgA2VYEOsW7zFJRwCFodYwmsqfvGMP5rWbEnB4HiRylW2MnwENOCqt9jxj4fcLehV78KPnlqY+MAHKagAL5qQiFkkogmv8ZTHWD5ZG+N46igmgrGQZU1savMtezOojBUwgXjO04/KY57zeN4We45y4wBYwhJi0EwNzKAJTXoNlrAH2wmcIAcn0OQWLYlJTRK+JuLkJeKhAAUbVDWHQK7CkEEKTWlSk6Q4wMENbCApRU8Ob5bHvOcjGvoOuBcmH/gADqBQhiOQQHQj1WHf5QlSwzvg9wBwYA7OwIgyFDVvS8bbomE0E+lT3/q3xxIHkz/MfZgEBAAh+QQBZACyACwAAAAAYABgAIcAAAABAQECAgIDAwMEBAQFBQUGBgYHBwcICAgJCQkKCgoLCwsMDAwNDQ0ODg4PDw8QEBARERESEhITExMUFBQVFRUWFhYXFxcYGBgZGRkaGhobGxscHBwdHR0eHh4fHx8gICAiIiIjIyMkJCQlJSUmJiYnJycoKCgpKSkqKiorKystLS0uLi4vLy8wMDAyMjIzMzM0NDQ1NTU2NjY3Nzc4ODg5OTk6Ojo7Ozs8PDw9PT0+Pj4/Pz9AQEBBQUFCQkJDQ0NERERFRUVGRkZHR0dISEhJSUlKSkpLS0tMTExOTk5PT09QUFBRUVFSUlJTU1NUVFRVVVVWVlZXV1dYWFhZWVlbW1tcXFxdXV1eXl5fX19gYGBhYWFiYmJkZGRlZWVmZmZnZ2doaGhpaWlra2ttbW1ubm5wcHBxcXFzc3N0dHR2dnZ3d3d4eHh5eXl6enp7e3t8fHx9fX1+fn5/f3+AgICBgYGEhISFhYWHh4eIiIiJiYmKioqLi4uNjY2Ojo6Pj4+QkJCRkZGSkpKTk5OUlJSVlZWWlpaXl5eYmJiZmZmbm5ucnJyenp6goKCjo6OlpaWnp6eoqKipqamqqqqrq6utra2urq6xsbGzs7O0tLS1tbW6urq+vr6/v7/AwMDDw8PFxcXHx8fJycnLy8vU1NTZ2dnc3Nzg4ODi4uLj4+Pl5eXx8fH39/f4+Pj7+/v9/f3///8AAAAAAAAAAAAAAAAAAAAAAAAAAAAAAAAAAAAAAAAAAAAAAAAAAAAAAAAAAAAAAAAAAAAAAAAAAAAAAAAAAAAAAAAAAAAAAAAAAAAAAAAAAAAAAAAAAAAAAAAAAAAAAAAAAAAAAAAAAAAAAAAAAAAAAAAAAAAAAAAAAAAAAAAAAAAAAAAAAAAAAAAAAAAAAAAAAAAAAAAAAAAAAAAAAAAAAAAAAAAAAAAAAAAAAAAAAAAAAAAAAAAAAAAAAAAAAAAAAAAAAAAAAAAAAAAAAAAAAAAAAAAAAAAAAAAAAAAAAAAAAAAAAAAAAAAI/wABCBxIsKBBgrIMjiBChsgIAET8lAqUBIGLKXSipJAlK4DHjxxDiuRI0GMBBAxE3GgSRg6hOGCWkMnzyNMpV5zk8OBxsKdPAAkLLmz4MOLEihczbuz40ePIpyUDnEy5suXLmDNr3sy586dXhAMzvEhyxAiRGytACBnjh4uMBCFwRKnBIWTTp1BLDjCA4IKJGUWqkKlCRMYUN4siZfJEqdCcOV8jBwXw4gsiNEdGrKDhA4gQIi88KKgAIgUHB3hTiywoS8AAAgwmbDgh44eMExuAkBn0p08eRZU6dTo4WSBJ1niTIFKFKIksED64+AAhi8CBBQcIqN7OfXKCCBokJP8I0OIKnzVdlOgBBQuWVwMLIiwwYBBvZURfXsiyoMKHCgutFXBAAQIUBxRrEYQQQwgRGCgLBi4U4QIGsjzwAQskbBCBAwtYREUdb6RRhiKhsMKKVwtcEMIFCzj4lFhJvJCBLAtYAIIFLQYgAAECBOAgayEIEYYQITjowhaCbOGCLB/sgIUPJCSwQAOyvAAFG3Pc0cckoqyyyk+yJAgDgy52NxJraCIUQxiLhBGDg0UIYoogRcjCAhZ9YMGCLAg8cEEMTJRhxyGUcDKKKab4xFGKK7aInJmrgSXpQLKIIIQYQojgYA91fFJHD0w6ucMHshSgwAMqDNHFGGe0cUcgjDD/0lNI8MlnQJmQHkdpmpRGIEIMIjTIWg1nSHJGDRVe+MEDsgxwUgg5SNEEEkIoIYUWWhCX67bcigQSXi5oAYgWS6omFhI1lDABBh2EEIK23XKUAQxJwDDjUxKQQAMJEuTqY2og9KBFD9Q9KssFLAgxRBFGQKHFGGPUF29IMIChCBgw4EWCEWYYQcLEI0EAggsgQIBrBSnsAMUYdATiCCaYIARySEkosooizj1FgxmQmEHDzKoZPAEJNXTRxyakpOKKKzIDXfHFGT91X35Ap2YwAxmQEAUem3DySSihND3zvPXeOxILVuxhxZ5V50UprbEZMYcmkzRCCCFtR/r2SCg4/wGHEyjkfabYIeXQhiaJxLHFFpMax4ENUdhQl5l7j7QBDU7QsIGZj0c++UidS45rSCcw0cYZYmDbOFA2oEEJGjbkClRqDmyAwgaoddf667E/tTvso3NEwQk5FPGE6rsiFAUlsVASheDbLt/8809J7/y2H/CQRRary/J779Cb+T1e4+eKclfJUxr65+Fztz5e7+e6AGkgEN7+/UB/ZP/9DnBgWu6Dq5zgdCSAHnlkf+3jQA2eQBe8GExwrinAAApUHPyNJAVPkMMTlhJA47RPAAIikK5mx50HcqR8oFtgA93mwfBFcIIjpNz+4jeS/v3PgQjMXwF7FMPumDB4QLTgdv9mCDnR/fCIORQJDbf1wwr6znXAQ6IAR0jC7aCQiQjcn/WoJ0S8bDFeTdzfFbsokjFCKoxTlMUSyRiSNZ4xi2lkoxyH2MISJjFod5xjHe0YRz7ucY5Aa6IfqwjIQO7vBmq4hBpugMM+FpJbP2xSFkbVyD8+8n4ESEADEqCdS3oyJHtJgAEGYCbrYKeT3Lpc5jb3Sbu8ZgD/4s4BHFABBxwgXjvr2c9aObH5gaACLeqWEyDRCkg4gZcTm2Utb9mtXPoMmfEyZXbipUrNQfOarXQjjVTEImxCz4wHW0EQVnABbwrui08JQRDAEIQimbNt4LyAOMn5zrZpk1HdrKc+97n/o+xQsIOEzJsghZjJTaJSb5as2kAteIAGUKABzATo/RaKv4JyspIBbRtF79dPHmF0onncp0i7pU1tbvSd4ATnSc2JzpG0FKEZHan3oAi+MtL0ozJ9SkmLyL6QrDSnsgspMhMggQ2IBy87KoBHZTg7BUJhhSOpAAp2gIIKXFICI6DBCPr1FGketIQhIVYkjoUXFDwhDk8I3COrycqRFGABEFhAAeIFhUi8IhJQwMsO4sCJOOzgqlndKl68Gi+xkvUpZkWrWgtJVKMmAKkEUOo/t+VUqIpEqlS1KlA3y9nOevazoJ0p70I7M22S9o2OnONOPRevc8koiBJtX0pv2q0X/3jBEF7Qz0Z/mquXhsS3kEKCIVBhCCSAUajcmu1oa3vb3B43tRNbrei65VqzYRG6p5WjFBPaRdMaMo28zRs4Fbq/8LYNuBPrHgtjCjRwItISixRo+ixp3u5o8wM6uIIOSKXR+Wa0voPEywAOoIADkLK/xmHNjgzg0Y3qaIKxpGMaOzpZ1RigARNowK0q6SACoAQB2tnogpca4Kc8mIfdaUAGSpABKnH4KQZggAQYsGFuhXKUl5xACWygrtQYgMECqJyHGQBi2YVkxBWWo4pZTCUdZdIBFHhoA0BcOSSjliMnjvAcL5zhW4HwABLogAlMMIEuYxePZy6kKTegAhzgoAzMGk4zTs255jbjICAAIfkEAWQA0QAsAAAAAGAAYACHAAAAAQEBAgICAwMDBAQEBQUFBgYGBwcHCAgICQkJCgoKCwsLDAwMDQ0NDg4ODw8PEBAQEREREhISExMTFBQUFRUVFhYWFxcXGBgYGRkZGhoaGxsbHBwcHR0dHh4eHx8fICAgISEhIiIiIyMjJCQkJSUlJiYmJycnKCgoKSkpKioqKysrLCwsLS0tLi4uLy8vMDAwMTExMjIyMzMzNDQ0NTU1NjY2Nzc3ODg4OTk5Ojo6Ozs7PDw8PT09Pj4+Pz8/QEBAQUFBQkJCQ0NDRERERUVFRkZGR0dHSEhISUlJSkpKS0tLTExMTU1NTk5OT09PUFBQUVFRUlJSU1NTVFRUVVVVVlZWV1dXWFhYWVlZWlpaW1tbXFxcXV1dXl5eX19fYGBgYWFhYmJiY2NjZGRkZWVlZmZmZ2dnaWlpampqa2trbGxsbW1tbm5ub29vcHBwcXFxcnJydHR0dXV1dnZ2eHh4enp6e3t7fHx8fX19fn5+f39/g4ODhISEhYWFh4eHiIiIiYmJioqKi4uLjIyMjY2Njo6Oj4+PkJCQkZGRkpKSk5OTlJSUlZWVlpaWl5eXmJiYmZmZnJycnZ2dnp6en5+foKCgoaGho6OjpKSkpaWlpqamp6enqKioqampqqqqq6urra2trq6ur6+vsLCws7OztbW1tra2t7e3wMDAwsLCxMTEx8fHycnJysrKzMzMzc3Nz8/P0NDQ0dHR1dXV1tbW2NjY2tra29vb3Nzc3t7e39/f4ODg4+Pj5+fn6enp6urq6+vr7Ozs7+/v8PDw8fHx9fX19vb29/f3+Pj4+fn5+vr6+/v7/Pz8/f39/v7+////AAAAAAAAAAAAAAAAAAAAAAAAAAAAAAAAAAAAAAAAAAAAAAAAAAAAAAAAAAAAAAAAAAAAAAAAAAAAAAAAAAAAAAAAAAAAAAAAAAAAAAAAAAAAAAAAAAAAAAAAAAAAAAAAAAAAAAAAAAAAAAAAAAAAAAAAAAAAAAAAAAAAAAAAAAAAAAAAAAAAAAAAAAAACP8AvQj88gUIiAABoilUKICAAQICohVQ8EBBgWgiipwpIiKaAgoeKCiQSNEigAADCAxI6KLLoC80EBwooDLhwpsLAejcybOnz50CvRA0iBBnw4cRJ1a8mHFjx48hRyo1ibJmtJYvY860ihPnz69gjxyRwsUMkRE2b1ZdGW3AAQUHBkS74KKIjxswTnSg0OAAALcKLIhw8SHCAAEJP/joEqREgpmH03bNCbbyzhgximRpk6TEZISIEwoYUOBwtAUXRNxYAmbICbgDAIwuIOLHlh4fEAKI9uCDCxEXFiAgUHRyV8uWNWjAcWWOkxPGo+OEAQYRGBjRel7dEmiLi8kEEDD/GC69fHbkOyVIMLHjSY0NxQ84qODgQDQGGUpkYDAZBBAwBp23UzQe9HCbB5ORhkBpAuo0mXY+YRBDEjFg8FUCCYCUAgcPhBaNAxyswIED0WQQgxIxZDAZBCDAAAIEDe72gAcuePDAZymxpd1xPMUIQAxhKBJGDF+BNtoASCIWTQUrALFCBdGUoIQbSnhm3pXl7ehVj9oloQguiiTx1QMPLGCAAGh6CKKIJJqIoopYxvlgjzwOqB2QQhL5kwchLYDQnwrJR599+OnHn5yIUjZgnQ5qJyGFFv7EAgsd3JjopYkuyuhu0VXWwV4jYXoTBzhQgQMHk3GQQxU5oNqVqqy6/5pdp3QaVxmZFol6Ew5vePIGDpPlAMcncOQQ7LDFXqnlnF/pOhkVnjjjCRWTVfEJNJ9UUe212Tq7ZbPe3lSFJ894om1X1mJ7Lk7QSkttuApVBu9C1j7TLbrcrnsTFZwww8m78Mo7bzTp3otTwfouNMUmymwyxcCK8rTEEjKoGMBoSi4bnbDEGtsVx8l2dYMbm7hxQ4yXwtqqjwA00ggZMkRzFEQom6eyrKOuuvKrN0xxA6oaYwmysT/xwksjS7RlQAIGyBU0xLbWKifCN/HkMswyO0Tz01BveunQVe80ccXRXBxZzV1Lx3V5N4ftYNpwz6upQqAVh1PbieJ9t844y//tE05mK/kxsh4jCvbgHXf99Gym4avupVQ7bvDAO2KAAQQIlI2xZAs5MUkwkzix7eOSJ6wQFJUMUwkUitP5wgsvln2x3TchgYgtiCAx+uT05juZEo3s0ogSrS8q1gsYXBkEH6vwEcTuphPse1dFCBKLIEXEfVMUUdiwAbMOsnAFH1ewcGziiIeMkwtcCMLFd08DFleqfBvHBRe4gb+bBSwEwYIF9ItVAHeGE7oUwQUXQNtNBFWf86kPJ2YwS0e8pj39TUYBFfhABUJ1sOl1hQhEaEECKVjBb70NJwy0T/oKhxMRAGcBFiyhCTmFE/nJ5VX1k6EOu/aoCg2wb1jSW87/BLhDhcRADIsQQwwcyMI4HQ4nT9xhEhaRi0UkAXqQ86C4tKjDIyZxiSucDBQuUYxLsA5d5DLXtuwVvQr2MHk4JCJOmPCIXjyCCc/qRDM6ATBxpbGNRUzUEQxBC0Mc4Vn9+tezojUtGaKJdjfp2cmu9IIvGOILL5gMrzjxK5TxylfAWhwBaBKRSyWJcwoZWckmWR4MvOAIyEtVqU6FMlKZCmhSWwgBDrCAAxAAUwUoTSlxsrCGPQxqT3taARYAgQVc5FLBpJnISGay4p3QbdfUJS99iSkDIMU4kkxbMnPJkFFKM1HePGcg13kTAnBFe0JcSDzh9khUdi2KC8EnO6EW/7kOkm6foooDKOJgnHY1snQAFVUHdIAFHXQAkf7qY+/+mVBErcWexXQYFitqHu0Ezp6qrGYYnwYVkaxzR4BKlSSBGI22PY0CKOABCihwUnKG62ke4IEWeICgQK5NVy+N6UwxBUk5/VRUJAWJSS+VUo4Gsqj7nKdTtafPqcatn1Y1DxX0yMfJTIETy+DEMaFIuKxiaWHL0GhXpJCJY2RCCj8065WkoAlkaAKuXRljGc9YURAiMIYzjMYN2qCJNpxMOzZQwyXUYANl2VSqVwpEd75DQmzuZgM3kMINvqedDdgACt5z7NzyWdZLwQIWgSACYC272jg9DatymsUsCGGEuf+0YAgtAOA4Rxsvm3bUplW9Ui1qcQgkBKAFWviDFlqgwIjRkLWZemwOE3WLW4QpAET4gyv+MAS5dk0VquBDEQzQhEXcIhFX7MqMamSpvclxiASEbgU/8Yk5AGEBVajELyQhuq4U6EBMDHBl46YIRZxhBxDwAiiMORkXcMc7G/Un73rL27ThAQ9c2MEGwKAJYPB3MiRAwhqQQIII34QHdTBFHXjQWrid4QxR4IEJxFAJMKUXJxqogXs0YOKFjOAIaTjCCFqcNu4ZgQcxKAMkXgEI1XYlAiGQQQgi0GOFLKACIKgADDnqBCf8AAYh+MIkbBwN+VCggQuwQAgsAEPtgE3/OylsrkKkClnzTAwHJZCAFi6xX9E5YAMp2ACJDLCACJiplvXTzi57+cunVTW45kECElIkACpsIhmaeBgFUtCDFNB0wBTOZqifO9EJS4+icjKCEW5wggskAQ+ikIMOPgRoQRN5t6KOxqNLm6giFIEHNGDBD6RQhiF0xMwNBLWcl03n6SJqCEMQghCCQAMUbEACCfAu1OxghzJEoQc8CPdQ4xhfeTrb3O91LpEvRQpSAAIMOChCFLrggw8ImKzow/cD1a3sS/nCF6B4Aw2aUAY9UEEFVT61qWE76nUnyhSmaMQcqkAGOfQBC+brig7kEApZ53GPElVIVXFNalH1oQ97/7DDHPDAh0C8bzIf6AH+7N0VtKrVveVueL8TJQUpoGEPjmBEIg7xBex0xYaToatd8Qqxo8ZJLF+gQyEikYlRzGHWCYiABiKQ7Yb4cpiRJKxhl22ABkygAQaIq9NPo2Y2G6cHPagCG/xACVTIAnvRiIAIZiACKn90MpjVLGdt2gANnEADDQjw2vk3hP8ZRwYyWMIY8ICJVhDDEqzTwAyaMAMeR7fCEziBDk4wgYSbJwRDIMMQQmAcEpDgCXfYRCpwYYxSxCEGkOc7lT+f68IfPvFh7ErZz572v6Ne9axXwAQ6MAIVwAAGFrAAFRQxC10IQxmsYEQYkiCDrSfAnlmy6Wrw0R7XrjQgAybIQOJnFpHjrz4aEzBBDowwBTCAAQEIyMInmNEMZzzjFqeQJ3QDVQAVfzlgAqU3AEvTNNHgfqzXATlgBWiQB4iACPinf/znfwAogLIDfvtkgAioNEwjFw4YDRAogRSICAEBACH5BAFkAJcALAAAAABgAGAAhwAAAAEBAQICAgMDAwQEBAUFBQYGBgcHBwgICAkJCQoKCgsLCwwMDA0NDQ4ODg8PDxAQEBERERISEhMTExQUFBUVFRYWFhcXFxgYGBkZGRoaGhsbGxwcHB0dHR4eHh8fHyAgICEhISIiIiMjIyQkJCUlJScnJygoKCkpKSsrKywsLC0tLS4uLjAwMDExMTIyMjMzMzQ0NDU1NTY2Njc3Nzg4ODk5OTo6Ojs7Ozw8PD09PT8/P0BAQEFBQUREREhISElJSUpKSktLS01NTU5OTlBQUFFRUVJSUlNTU1RUVFVVVVZWVldXV1hYWFlZWVpaWltbW1xcXF9fX2BgYGFhYWJiYmNjY2RkZGdnZ2hoaGpqamtra2xsbG1tbW5ubm9vb3BwcHFxcXJycnNzc3R0dHV1dXh4eHl5eXt7e4KCgoODg4eHh4iIiJGRkZKSkpWVlZaWlpqampubm5+fn6CgoKGhoaKioqOjo6SkpKWlpaampqenp6ioqKmpqaqqqqurq6ysrK2tra+vr7CwsLa2tszMzNra2t/f3+fn5+np6e/v7/Dw8PPz8/T09PX19ff39/j4+Pn5+fr6+vv7+/z8/P39/f///wAAAAAAAAAAAAAAAAAAAAAAAAAAAAAAAAAAAAAAAAAAAAAAAAAAAAAAAAAAAAAAAAAAAAAAAAAAAAAAAAAAAAAAAAAAAAAAAAAAAAAAAAAAAAAAAAAAAAAAAAAAAAAAAAAAAAAAAAAAAAAAAAAAAAAAAAAAAAAAAAAAAAAAAAAAAAAAAAAAAAAAAAAAAAAAAAAAAAAAAAAAAAAAAAAAAAAAAAAAAAAAAAAAAAAAAAAAAAAAAAAAAAAAAAAAAAAAAAAAAAAAAAAAAAAAAAAAAAAAAAAAAAAAAAAAAAAAAAAAAAAAAAAAAAAAAAAAAAAAAAAAAAAAAAAAAAAAAAAAAAAAAAAAAAAAAAAAAAAAAAAAAAAAAAAAAAAAAAAAAAAAAAAAAAAAAAAAAAAAAAAAAAAAAAAAAAAAAAAAAAj/AAUImLFljhYZAI7ccXTnyCUONZLU4HBJwYQOExRcIlhny4xLAQYQGBDg0gEHFRwcuASgZctLBBAwQEDApctLOHPq3MmzZ0+BBA0iVMjQIUSJFC1i1MjRI0iRJE2iVMnSJkyZNG2+9Mm1a08cOIQ80TKFyRAta+50+TihRA0TFwwoeDChgYFLJH5suRJFyQ0PAwSULJDAAYUMHygouDmgAAIROJTY4HAzZ4YXQV5k8Mo5JxkyUoLIYGImThotR2ZsuJRgAocLERgsUKDAwIBLEkjMiKLGj5gbAQIAwFngQIYUOlBQ2BqSAI4xfsLY2JrzhZU3Vl507hwo0JgbAIbE/0EUZ0hPAwwkMLjLU4kfS36U9PygI4qODz3dw5fPM8ibQ28EsR1naKBxBAoAwIBFHFjAUNVNMc1EQE82hBGdDT1RgEJyFFBooXQ9WYeddpxxYINkFPUURBAuZACABjAMAYMGD74kAAEGECBATyai2JMCFCSmEU89TtbTZZltxlmFF/qEAQYQIKDVcFrVONyAWGbJmX7x+QQBBJcUMKWVZGpp5pk5MQliTwggUMAAVZIZJ5p0YllkijxZVeeefJqpp1d3+nQihn3uFCiff3alJqE7LVqoTo4+uh2X/O1EqaQ4XYrpBjMYoVp+73XZU6hnamppqJU+OgMXdnDxUXuocv9lCZqm6lRroUbYwYgdRoC6H6aX3JpprIjetGqrrzb6IaOPRqpsk3NmaRWnnq5G5KB4SjqoT4FGi6VV3gJbbGVagpuouONSJ+1N4aJLZ7vuxisvVwUo4IACBcyr5aGSKpWRvlk6+6gDHaTQgQMAYynsmVY98AELHzzgq6iSLoyEHpLogUSfVkUQwgshRDBxqoUubMQdjdzRa7q4jSDDCBKMDOzCRcyhyBxFcHwTAxiMgAEDHjaJqcA5yaCFUGWWexN66rFnKLbA8qvTBjIUIcNq8HJ2bsLvbr2d11z7CbbW5Ibdddlmp41phDSp3ZXUhSIAwQVRus0V0X0ycMEIFwD/bbfMmGoQAxEx0MgTEG4Y4gYQgPNEak9J8EEJH0lA3kclfVSO6QlGnGHECT3pcAYhZ+jQuK3E7nQxJBpDvscke2guKQ1d4NEFDT21QEUbVLRwek4LE9VQTxdH0jqfwbGEFxBdAEECmSDwQAUPIAS95rPX6zRDF2olqxMNX+jxBe5ZeyVQSbiRQAMJMVcJAQgtgADmtT5SKJlPnKZmraE0IEEDReXrygACg76dBDBtB/TJ+QqokwSGzYE8CY5wegLBhFWwgWj7G8DGppPcrC9mYYMbmjiYExIwz3lmw9u8aGc73IVtYfIyYfOexxMk5AESedgYrH6lJRjGy4Ps60kR/+iwCDrkbIcUU1jqNJgTIsghEXIgwu8mtUR0LcACIbDAAjoTgyzIIQsxsB6zBuSoC27HAirogQos0BnBEc5wPNmWmbpFwjOFoAdV6EEImGjAOpoJjWpkIx9zYkacqGsnV8ziFgdpSD9S8JCMjBckI5kTEVJyaMu6ZLx86LaFebKKw+IhIz8pStSVEnig1CApk4jKU4aSlWh6Ut32pMJaZjKOmWwXvFzgAvnxyZLAhBr9jKRLsAEBCC7AgCa7UswM4oSXvizkA70GL1lKSZpca+YkrYTNZT5ySpO05J6CWb+nlVMnwREM+sDpTBXS8pbYGyNOVBgAARCwkeycIp9WSf+yV/bzEvZ80464KcErncqVneGnPhfWgRs04QYdwGdL6nlPJP5zS6lUqEUpJAbfEEorzYnKRnuY0ZIidGFJuFzmJAoAigqGTO70ii2hZZUy1jSXVqkBGPoAhhqwtKXBoZJVxAkoYZqTmEOFWpXoeJOjTOSn5nKmvLRpUAxKlZ0v6eYIqcnVq2I1aRbs6iThhdWqerNOWrnACnywgguYjZxGGma2mGmTFUCBDVBYQQrhCSm+psmvXNGKD9hQCDb4wGwaPSgsfaKVF1wBDlcgEU/KIIgyCGoMgBiDPHGC2TH4BAdlGEQZcMBRQIhhszYQwx9O25MHdEAFHZCYlaInBer/9QQEO5DCDqrHEw/gwAk48EBPPJCDJ+RAuDwBQQ+o0APe7qQDOGgCDiLKk4YuAaI9aSgTsGslB2wABRtAGE/q9QB8/QRHOvpJcQow0J0wbT0/aUxgepLO5PFEBUxQAxNUgJMjHIEGGwBAAiSwAQkkgEwDOIACDnCbCEKFgTkJ6HyrxLYJVcmlEM6JBFl6Ce1yNw958AINAEAYByQgX1WScHvRWU/77qSe5yPTjXK0owu3OMMaJmTDXhtbnDziEXk4wpi0ylixmvVrYAOxiMu6TbQa+ZtZjWqUAcCzEpTAvwBmcpO36kyqyimqGHDBMbV8JamqrUpojmoJgOAFL5AZC5+MTDO71MxmLwQEACH5BAFkAMsALAAAAABgAGAAhwAAAAEBAQICAgMDAwQEBAUFBQYGBgcHBwgICAkJCQoKCgsLCwwMDA0NDQ4ODg8PDxAQEBERERISEhMTExQUFBUVFRYWFhcXFxgYGBkZGRoaGhsbGxwcHB0dHR4eHh8fHyAgICEhISIiIiMjIyQkJCUlJSYmJicnJygoKCkpKSoqKisrKywsLC0tLS4uLi8vLzAwMDExMTIyMjMzMzQ0NDU1NTY2Njc3Nzg4ODk5OTo6Ojs7Ozw8PD09PT4+Pj8/P0BAQEFBQUJCQkNDQ0REREVFRUZGRkdHR0hISElJSUpKSktLS0xMTE1NTU5OTk9PT1BQUFFRUVJSUlNTU1RUVFVVVVZWVldXV1hYWFlZWVpaWltbW1xcXF1dXV5eXl9fX2BgYGFhYWJiYmNjY2RkZGVlZWZmZmhoaGlpaWpqamtra2xsbG1tbW5ubm9vb3BwcHFxcXJycnNzc3R0dHV1dXZ2dnd3d3h4eHl5eXp6ent7e3x8fH5+fn9/f4GBgYKCgoODg4SEhIWFhYaGhoeHh4mJiYqKiouLi4yMjI6Ojo+Pj5CQkJKSkpSUlJWVlZaWlpeXl5iYmJmZmZqampycnJ6enp+fn6CgoKGhoaKioqOjo6Wlpaampqenp6ioqKmpqaqqqqurq6ysrK6urq+vr7GxsbKysrOzs7S0tLa2tri4uLm5ubq6uru7u729vb+/v8TExMbGxsfHx8nJycrKys3Nzc7OztDQ0NTU1NfX19jY2Nvb2+Dg4OLi4uPj4+Tk5OXl5erq6u3t7e/v7/Pz8/j4+Pn5+fr6+vv7+/39/f///wAAAAAAAAAAAAAAAAAAAAAAAAAAAAAAAAAAAAAAAAAAAAAAAAAAAAAAAAAAAAAAAAAAAAAAAAAAAAAAAAAAAAAAAAAAAAAAAAAAAAAAAAAAAAAAAAAAAAAAAAAAAAAAAAAAAAAAAAAAAAAAAAAAAAAAAAAAAAAAAAAAAAAAAAAAAAAAAAAAAAAAAAAAAAAAAAAAAAAAAAAAAAAAAAAAAAj/AIEBk8QEQAABAwQEAMBwGcOHDgNIBLBshx1TjORMcYJkSAsLy4IAgsWK1CZPoUbN0bEswggaPpBIGdRqmCUoy1pkGZSlxbIEEjZISLCMxx1Ue4gwaKLo1qEiywosgGBjix9EkDJlEkjQIEKFEB82NDix4sWMGzt+DDmy5MmUK1u+jDmz5s2cO3v+DDq06NGkS5s+jTq16tWsmSRJMjODrMKFY8U+hLwMxRM7YprkqBGjhYkPGHZ8AdRoU6pLhuZIgfGgAocRLGj08NIHkxobyzzwyHKFShQeJyQwMFAZyh02YaycwXMozI0GDBYsWKEkTaBKqlQxYTIjA0OJkCNL/xa7jAKKHTJQeOCQwcKHEy9q7AjSZlKsSGh0wDjRQYMFCRmEgIINREhxwwbLPOBBC1TokYkbPCRgwADlocBDF31c8gcZRdyAQgYTMFDABzpQsccmtdRCnmTLtOiiQ+S92GIAAxAwQADLYPDCES9gsAwSiuSiCBIJdsCCBw8EcEADEziQgI04uhhFJsRkEoWMLTpBSTCUOLFMAxmYkEED5aXQwxyi+OLLiuQtYIEIFiwAI0RYHpQQjhCA8AIIECwDAxiKgAHDMhawEAQLFgRgwAIRMHBAjQUYQIAAy9zgBidu3IDlMjScQckZNCyDQAQZRIDAMg5skEIUeWiiCZsQWf/QgkcgsYglWQuJCgEGEJyKAQxIwOBjBzpcoYMHARSggAMKGJAsAgsgQEBuO2SxgwebakCDEzRosAwBCDQg7TIHOEDBC0mMMUaMMoowRBlDiLDpvPRuSgISayBRwrMMjLtoBAsQB26/09bboq0tMnDBCCOw+6KstBos8by/BotBAA1gQAIGDHwL7bgDFIBAARRKjLCuF1zgsItuwinnxDC7yIDGHJfZAwoULCMAAZJSSiOUE588cMcxF230ixzkUEUOHBzt9NEnx+wABypw4MCmE5iQgwkTOJ300k1jWagQiDodNcwc4EAFDmHLmMAEHExA1NE5wAEKHDlsygIWgmD/wYLZK8OsAhV8UKHCpmdPXAUoyoBSxaZCCCKLIEIgHvicDR2d9tptv5i4UajcwcOmVHySzCdUbHpEIrgkcoTldMqYuMRTV331rZePYMQZRoxAeifIdJI6lks80ssjS8CeueyXm3x54gpM0MEECmw6BSfGcDLFplBYYhNOuEP0NdOYUwQ1eeM3nbgBTDZAHJaWYqopizWkYUkaNShPUd135z27wSziH97Kt6kBGKBZJZMRB24whRuojzwbqAEUaoAgiS2ucY97Wr0u6DgN1ut/9RJg3jw4LxGScF4gpFf6TripFbKQebF7oQxnyMLEpRCFz2uewVwoIwqcYAcnyFn4/5bnOR1+MIcxjJkJsXSCJ9ThCSfQnxTPl8SDGZFeHMygjHZQh1LUYQdThCERXbREMZrPjJsq44uQsAhdLIJIWOrUp0I1xDMWsYrL4OEdx2hFPOrRRVz0Ihix1AItEEILPqljGPdoRxfZEIl8XIYLuGAILrhgUyZgQhyYYAIprpBFO+sZATfHtlEqjXws+uTlPtADLvTgAwTMwAy4kwEpmpBFAxsXi3Dwhk68AQcEvCV5hInHB3zABR94AAHBJCYyWZBxHcSSARggnPfJiArAE96msrhNaGqxaDdMo90GiKVcFkxGvPQlMLGkRjKOc4RGCyeW/tiiUE6qhWor5TxP2f85F9EzaFekoUAHikM8PtKgkGxkHyN5woNG0qEKJaAiBQrRRToyoRZ9YUUnikaOMnKgG+2oSD/qURmGlKQjvShC8Qg486WSn6NkoANNCTaaohJ9MJWn88TTEGI2JH6ZCuY7hdo/og5QpwDEIzexdL3sbQ9LS5VRVF801RkWoQguuIA4iwq/SwWVnUMFK1dl1E4ZFqIQlmwhTOcp03626J9wXatAbWGLQkCFoHh9oSEqecmdMhQHU1hnSRcaUaTWywhGeIFW/RpRHLihE24QLEonq1KGHk0AjwEoHqfQiWN04qkpJWxGnwYemH3ODqeww+gGK9HQkjZKmo3kvfJFgtH/njSvRmNABkqQAaK59rYE/SeWEACBDPTKtjitqWGfVtZNmRO5EPFpRAVaVdy6qLrWXUZzrbtd3ArXu3LNrnjHS96GYrS82QUuekF63vWGMKzxbK975/XdI67UsvNtLTjl68HL1bey003qfQOMtPDucavkFDB+6aVesSZYjN3EYH41iF3MIRieEzbadv1r4AyjrcMeDvF+WTrhBiuYwPM1sX0X7N4GszRx3a0XFC4xjEuAT0ZMiMQvIsEE6D6Uv28FscSW4AheOCJ5WBrCIGgxiCH4uLBA1m/MinAIp9xVRjqgAynowBLWVlSVA3baJA+RViY6gQ5OiKKXm0cn6Y5W/2IXcAFWFyujCZxAByfo2ppJTFVvipi8Mf4zDf8r6EIbuqA/5vOhl1EBFfygBRpAwKkoK9pF02twfMgCDR6gTEpL2dIv+gEfXDEIJ6Tst82LAyjiMC8tcclLWKKylTf1hEoIoxJP2JQP9rCKPfhAb1kQxBiCAAIQoBqPHciBFXLQAdWxznWbsoEabIMbLCWBEbtgRBI2dYImzKEJapaRBmbQhCDUAAUoOPZDwRNRIPThFX0AAiY1yclNKXkWTd6UMZHZaRmVqwIeQEEMYgCrhiioBUj6NIwogyUVVKEPVTgclmRJy03phCeJlJECKPABClQPSwoTQQriU4OCU0Q3WabgAbbU22ggqKACm2LmmDYFsbVgSVkPUEAB6pQnGMzABjnIweUurhdQG0wiFTBTD5begyk00K252Y3KQV3aZRwEszhKVQpUsIIV4IAIUIDCJjbRBk1h6eAJX7SdFKKzkCVkGRuwQRR+wAINyGAJZCBDMYqxCdAafVM/u5HOCnCAAlAKBVHAwxRcgIAWSMEOdth73/9Or8DjSACEN3xlEr/4xj/eDgEBACH5BAFkALQALAAAAABgAGAAhwAAAAEBAQICAgMDAwQEBAUFBQYGBgcHBwgICAkJCQoKCgsLCwwMDA0NDQ4ODg8PDxAQEBERERISEhMTExQUFBUVFRYWFhcXFxgYGBkZGRoaGhsbGxwcHB0dHR4eHh8fHyAgICEhISIiIiMjIyQkJCUlJSYmJicnJygoKCkpKSoqKisrKywsLC0tLS4uLi8vLzAwMDExMTMzMzQ0NDU1NTY2Njc3Nzg4ODk5OTo6Ojs7Ozw8PD09PT4+Pj8/P0BAQEFBQUJCQkNDQ0REREVFRUZGRkdHR0hISElJSUpKSktLS0xMTE1NTU5OTk9PT1BQUFFRUVJSUlNTU1RUVFVVVVZWVldXV1hYWFlZWVpaWltbW1xcXF1dXV5eXl9fX2BgYGFhYWJiYmNjY2RkZGVlZWZmZmdnZ2lpaWpqamtra2xsbG1tbW5ubm9vb3BwcHFxcXJycnNzc3R0dHV1dXZ2dnd3d3h4eHl5eXp6ent7e3x8fH19fX5+fn9/f4GBgYKCgoSEhIWFhYaGhoeHh4qKiouLi4yMjI2NjY6Ojo+Pj5KSkpOTk5eXl5mZmZqampubm52dnaCgoKGhoaOjo6SkpKWlpaenp6ioqKmpqaqqqqurq6ysrK2tra6urrCwsLOzs7a2tre3t7i4uLm5ubu7u729vcLCwsXFxc/Pz9DQ0NPT09fX19vb2+bm5ujo6PDw8Pj4+Pz8/P39/f///wAAAAAAAAAAAAAAAAAAAAAAAAAAAAAAAAAAAAAAAAAAAAAAAAAAAAAAAAAAAAAAAAAAAAAAAAAAAAAAAAAAAAAAAAAAAAAAAAAAAAAAAAAAAAAAAAAAAAAAAAAAAAAAAAAAAAAAAAAAAAAAAAAAAAAAAAAAAAAAAAAAAAAAAAAAAAAAAAAAAAAAAAAAAAAAAAAAAAAAAAAAAAAAAAAAAAAAAAAAAAAAAAAAAAAAAAAAAAAAAAAAAAAAAAAAAAAAAAAAAAAAAAAAAAAAAAAAAAAAAAAAAAAAAAAAAAAAAAAAAAAAAAj/ACtVesMjQQcYQ15kIEBgwAABAWhJlAigIsWKGDMCoKWxI60ih1Rh6kMlEKhWjZjQwhFn06E2T2p0eBgRo401lOQQqTAjyptBkD5JSrRHD547dwQSNIhQIUOHECde3MixY8aqVi2CFEnSJEqVLF3ClEkT682cO3v+DDq06NE7duxYqcFTChwmKB4KgBhRKseJWQNbfdHlkJwsQLzoaSTHiYogWuKUuaJEhgYBCR5YeHAAAAkka5q4cCCClpIsZ+qk8SKlyhUtWpIk4fEixBI6ktTUCMCbt9/fgoNjvPCiSI8aLm4EYeIkCpUlQXD0CGLkBYYADzyw6PAAgAQSNk5c/zgQYYOJFjN21IChAkaNHTs6dBCBooWYRqgIEfnNH/hVjVhZ1FECEWgQAUcqUEGSCrRYwEIQLFjQ4IMRBrgRgBgpQIEHHhRRxA861BAFG4Rs4YKF/HGAAxU4cICiiiy6CGAEIswgQgQbMSCRAQBwcAMVN7j4QAfbPUDLkEWiOIABCRgwAFYPfOCCC2yw0UUTPQAhRBEuXIDibzi8kckbOEwlUZhjlgmgCESYQYQIACzZ5AAAOMCBChw4QMsBmnG2Z58HoGgAAxEwYABWFajggw+MMKJHGEbAcF1fAP5GRSazZEIFf5dmuulvM5jxiBkzeIThVf1JRaCBCUilAQ1OOP8BCSR3UBFDCBH09aVfaJLJX69l/samm3CeitGuqR4p5QdGTiTBCDTQQAkldCCxgQStAoaqXzC2mOKK3v5Go40HGivgtsk6CKGEEyUggQYaZJJJHDsU8FCy+Oarb6X6JtsBDlXg0EF/lljiRg4DXLBCDypU0K9f/EoV8UTduviwtsdOYAIOJkzw5SSTrHGDACtMsYcUDF48lUX+HQummL6qjKICE3QwgQJfRhJJGjTQ0sMepOzRg8zIYsyyX51qSvTEK1NVSil8+ECLDGY4YoYMS6NrNFV+9ZDHKHkMDSYcmsARLMRaNy0RK6woggQtKEBxBxQoZO0y2ndLZcIScCz/YQJ/HeRwRQ4Dt3y0xKjCAkslUtDSgQ5X6FC4ykzriyR3/AUwQEO6Ip731hKdcgogQdBCwQk6nEBB0RJV/CK4FuNtkYYdUIDzbwEIUJbhG7le6SKLhBEDLbTbzvpKMKt5FbD8AViAAg8oUEDzvXHtuUXMV/rFFz+A0HzatCT9KdKYKs070fmK358XXvjg/fkvp/lr8t9/jn78Mf/WRRc+fFD/4RSD3bdi9D/r3e83ruMPF7jQA/8d8IEQPOAPfrAChw1KAoayGwD7lUC/HKABFGhAoOAnO6qQgAQY0BEDMDCCFGrQgP1i3m8aoIETaKABBczhng5QAAHQ4lk0GIEE/15INPX95nSpWx0Jr0cVIhChS7SAQAhuBQEiyowJjnCFI1QywxreUIcllAggAHEFFhzJAy3wQLMoB758EaEQqSjEfn7zwRCOMIzwM4Up/AAEWjhgAynYgJ4iqDKvgU1sbLRfziKBhp4lYAIcmECrpEjFAYYLTCzqD4BSEIU8RCEFx/PdVUTpsj3sYQoMeh4EpEeLEAAhDEAIwfzkh7+zMZEWFUhBD1LgsMplb3n0qxRseOABWuSuLDEIQ/CGZ6nyjU8qRsSjNKHpTE5Vkz9NaAINNqA7AtjLh66EpSxrOcv83XKJE5Ehr+jHnwmyIAMFKIABDEAAH1IyBFVEoAB/lf9JMJ6TW/sEKAH5IwMZkMACBzgAAhBgL0I69KF+GcEIMvCAAkxABDEAQT4hmq8VtlBHR0Sd6ghJAQo4AAEC+MAOsLCDYnI0Xxh4QXUwwJ8TNGEOTTgBIZ8SkRVY4Q9WWMFL8zUCI6DBCCPgjw7m4Ik56ICQE6wgLUDwA+69b6ipiulMa3rTnBJSD3qQAigT5YOGYTVZHnVhSJNISFGIIg88IF7NbnbWuqoMEYjwwgtogQAIYAACCDgeLW4whRsMtXIRJAMZhFCaOorweDdwAybcYFiOIhaCOmDr86I3vcpNAROywMQUXnrZB57AhjgcwAEUcIAnVS6yk60sREt7wJL/PlZ33xQsYWU72zZC0Ld2DW6yrrJZVuZuL51LFW3RB4EPvOADG33gVTT0AePh9l75Wi7RPtADBjrwt8eKkguYRQsBFICHPswucO/3Ai4Yggt7jaDLqGvdAeRWvYqEIHe9S8ijFXd6x40KfjcYweY+N7rC3dd6EyzdBaMIAzFAQgxoqs+BTjPB2gVQDMCgCDAwc520vLBwtfsbJCiibW9rpqf8iWEH/2bDHf6wVNT5TwaT2C8QljCFBXrJGjP4x0C2LPhuHOT7VY7IRbaiiJP80CO7mMlK9jGUW5zfKfsFAiCAgUblexUCIIABCCCAJWMnlQ5KWV9U9UL3uHysvmYA/7DltGU62bnkfMHAC4nwAgxeyoAMlCADICXfilVsvjrjK81r5qib4UzORhs6WVjWMoJ3+uUwj/nS6LSypn/sZEUiWSJ/DOQgOT3kUlc5WRuoARRqsIEgd5rAn6ZFCqCAByiAkqPRPPOrYagvEQyhDEMoDa6vueRdE40DNpCCDcjs0FyDLtOCxRdZzcpRGj87jKS0SO7qmdz+2AlPo36oma99y18ey7zo1dcBHFABB9xx09YctF8IcIAFHEDM8CaktSWC7h7mm5Djlsi2BfzvghtcbdDOVwES4IAEFIDATDa2zB4ZyQRAPMkSV9m383Rx9B0hEatIxBH4k4M4cCIOOf9gMcL9soM6fKIOO+BPn0ugAQc4BKI5kEMn5JDy33hgB1loqcqP52tgC9svC7BACDDggHhCtAVYEAQWWsAf+zL0SdCu3KoikC2/ULwCD1iowHVHcD8CUpD6+jlLXeoXAXiznjncAA2esM3jDapQh/rNoCZQgQtkIAP8fjvBN2CDKNig1fnKThrXKJVjlh10NEjDznpWOTk5CThyogAIViBUWljdSb6RdSc/GeQnROIVkXhCgzFCARTApwSwh30LaLBLhxHe8Ij/ceQnjy+XAchHheUAAP5VhSooQQlHGAIQpmAGPJA+1GgHstzpnvscAiiyl6AsAEpACzd43w1oGEMuFxYTCjzE9eDnA9AULhGLS0wBAC7YAiEI4f3wj78R5T8/+m+pfva7H/7yRwgBAQAh+QQBZACNACwAAAAAYABgAIcAAAABAQECAgIDAwMEBAQFBQUGBgYHBwcICAgJCQkKCgoLCwsMDAwNDQ0ODg4PDw8QEBARERESEhITExMUFBQVFRUWFhYXFxcYGBgZGRkaGhobGxscHBwdHR0eHh4fHx8gICAhISEiIiIjIyMkJCQlJSUmJiYnJycpKSkrKyssLCwuLi4vLy8wMDAxMTEyMjIzMzM0NDQ1NTU2NjY3Nzc4ODg5OTk6Ojo7Ozs9PT0+Pj4/Pz9AQEBBQUFCQkJDQ0NERERFRUVGRkZHR0dISEhJSUlLS0tMTExNTU1OTk5PT09RUVFSUlJTU1NUVFRVVVVYWFheXl5gYGBhYWFiYmJkZGRnZ2dpaWlqampsbGxtbW1wcHBxcXFycnJzc3N2dnZ3d3d5eXl6enp7e3t+fn6BgYGFhYWNjY2Pj4+RkZGSkpKTk5OVlZWWlpaYmJiZmZmbm5udnZ2fn5+hoaGnp6eoqKipqamqqqqsrKyxsbGysrK2tra5ubm9vb2/v7/Hx8fIyMjX19fa2trg4ODh4eHj4+Pm5ubs7Ozy8vL7+/v8/Pz9/f3///8AAAAAAAAAAAAAAAAAAAAAAAAAAAAAAAAAAAAAAAAAAAAAAAAAAAAAAAAAAAAAAAAAAAAAAAAAAAAAAAAAAAAAAAAAAAAAAAAAAAAAAAAAAAAAAAAAAAAAAAAAAAAAAAAAAAAAAAAAAAAAAAAAAAAAAAAAAAAAAAAAAAAAAAAAAAAAAAAAAAAAAAAAAAAAAAAAAAAAAAAAAAAAAAAAAAAAAAAAAAAAAAAAAAAAAAAAAAAAAAAAAAAAAAAAAAAAAAAAAAAAAAAAAAAAAAAAAAAAAAAAAAAAAAAAAAAAAAAAAAAAAAAAAAAAAAAAAAAAAAAAAAAAAAAAAAAAAAAAAAAAAAAAAAAAAAAAAAAAAAAAAAAAAAAAAAAAAAAAAAAAAAAAAAAAAAAAAAAAAAAAAAAAAAAAAAAAAAAAAAAAAAAAAAAAAAAAAAAAAAAAAAAAAAAAAAAAAAAAAAAI/wABCBxIsCCARggTKlzIsJEAAgZgSDmjJckKERcWUPBwwsUNIGX8KNJz5UMFBQA2zFjSaMNAhQZjypxZsKHNhg8jTqx4MePGjh9Djix5MuXKli8T0lzKVODNpwkDDCAggkeUIjE+XHhwwAEFDSZg7KBipg4YIRUcHAAggcQMEhIMNmpKNybUuwECCIgAggUJDQ8WICBwQEEDDilw/DjiBMcIBQcGAEggYYOEBHLr0r3LubPCtm8lzCU4+mVNz5spc7jsWSGGFkRaYOAcQQQMERFKO61ZAYUOFBUacrDxxAYHmE0bSShBo4To1ghbSEEjpQVnCH1BQNB9sCYKJmOYoP9oaIPLHS42kC9FyIFGExrHoTcigiYQGiKcH3RQ0eEBZx1j8DGGDg09cQcjdzyh3kwJLdfcc9BJR511eQmQV0MKUNABBQpw9l144zFU3nnpKUWTQqqxJt9rsc2m1wAWNlSAAg8oUABnvf0WHEPDFRcfQuvJ55kAAxQAo5DyncbQiUg+1QEOUODQgZBKPlXlgnI1eZMNXeDRRYnQXWmTmECaRpqWNhmIoIJJnommbty9SZ556DVUhBqCqFFEQ2RSaWZScirUo3EN5RDGHmHkwKebaJLWZ6A3tTBFGlNYtySjWjpK2qA/tvZijHeBwMMUPICw6EucIqnpSyPWKd9DBxD/IMB1ILSg3ZhONdIqmGECqpCaCQo5QGGRQfrrgcH6metCuwoJq6zGJtSssgfxSByh8n0aQLTsXdtpa5hyK26gqy7bmgUq+KCCBc4SUAC0DElFwADbyllutdCpAIUZUKggJGELxNrQAAYkYMAA5P5prmc+mPGHGT4IWcACECxwI0MEJNBAAgQkvFu4nOnLr7/yASwwQwQbjLC9CuN7brrrtvvurPFORa/H3YE8LpY7L3RvI6le6qtCNThRg02p1lThheL+PK3PINewBR1bHC0inekpbXO93P4MLJtQD42QE3QkQocTBSILtkI5wds1g0/zzJDUVFvNLNYNyXtz0wwG/x32wgkVbfdCfiu0NNfRMtnz4qgxKB+66rLbpthxsiyTkCL3S63LJlJObeXQNfxwxJMDDnqjLWO+r+alc16m56Wf7hnkMbd+qumfP8r47gvGWXjnuKP5O3uCf9v4x6ziLXTwWsYd+BZ2VK1q6l/f7rqc1TPkhB2L2IF27qQ5/zrzTYrfiNTRDw5u6sPLHmj7HBTP+/z086z7/PdPn3r91vO9P/9/u96bapK/3RXQdgdcXAIByEBxte8uZFrg/MwHQZBJkHfZ6xXlLrg7CkIlgjprYLd8tLn+ifCEKEyhClfIwha68IUwjKEMVfhA1MHOSiCr4VM8mKkQ4pByPLxJBv+NxUEyDdEzQdQf+XAFROVBR4dNKmIOvTXDKnaGg4zD4gd92EAt/nCJAPTiTcQ4LjKasIVmXJ4AT5jGADaCAifAwQkoIBwq2q6CN4wiaU6ghC8o4QRzIlEJ8QjGN+HgC3n4Ag7StqZBtpCPfgTk1QR5xxbCUY50tBYJK2nFTvqvkNHKwAuM8IIMhJGL43pBFdhQhRecMo/jMgIbBsEGI4hrB2ToAxl2cEZjHcENhXDDERqChDcY4g1IAGVnviMG8fQSUj8wAyDM8IOGKCEOh4iDEpTJmQmUoAYlmMAzA2UDL+DBC7xKyBLmgIg5LCFXVYJACFwQgu3chQEZKEEGGNDrv4lV7GILESUpTXkXExzBC0cwQUNmkIU5ZGEG8FRSCHpAhR6EgDMGYMAEGGCA/i3AAiGwwAIaoso2tLKbJrCBCcTJEJUsYQYbYJpdGuECKqyBCi4Qlzzpac+FGKENhGiDLSEFgLwEAAL/lMtEK3pRz6TsYI04nEIWcAGMjJQhJT1pk6QKmhmAAAQVWIBcdlpPvBg1oxLgaFS3ppADNIACDThAQwRaSi3pbVsjGAIWsNACW0EgS54xal4UUBnWtI1mCCGSkRArrsM2QgZYkIMc+qodwHZGsAEgrGUS4BCIuM0hRTrSzhwLWckGBAA7\"/>"
      ],
      "text/plain": [
       "<IPython.core.display.HTML object>"
      ]
     },
     "execution_count": 17,
     "metadata": {},
     "output_type": "execute_result"
    }
   ],
   "source": [
    "import imageio\n",
    "from tensorflow_docs.vis import embed\n",
    "\n",
    "fake_images *= 255.0\n",
    "converted_images = fake_images.astype(np.uint8)\n",
    "converted_images = ops.image.resize(converted_images, (96, 96)).numpy().astype(np.uint8)\n",
    "imageio.mimsave(\"animation.gif\", converted_images[:, :, :, 0], fps=1)\n",
    "embed.embed_file(\"animation.gif\")"
   ]
  },
  {
   "cell_type": "code",
   "execution_count": null,
   "metadata": {},
   "outputs": [],
   "source": []
  }
 ],
 "metadata": {
  "kernelspec": {
   "display_name": "seminar",
   "language": "python",
   "name": "python3"
  },
  "language_info": {
   "codemirror_mode": {
    "name": "ipython",
    "version": 3
   },
   "file_extension": ".py",
   "mimetype": "text/x-python",
   "name": "python",
   "nbconvert_exporter": "python",
   "pygments_lexer": "ipython3",
   "version": "3.12.8"
  }
 },
 "nbformat": 4,
 "nbformat_minor": 2
}
