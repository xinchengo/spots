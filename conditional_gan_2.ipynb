{
 "cells": [
  {
   "cell_type": "markdown",
   "metadata": {},
   "source": [
    "This is the modified official example of DCGAN on the keras official documentation. [Link](https://keras.io/examples/generative/conditional_gan/)\n",
    "\n",
    "Modifications include adding and removing some comments. Some of the comments were generated with Copilot."
   ]
  },
  {
   "cell_type": "code",
   "execution_count": 1,
   "metadata": {},
   "outputs": [
    {
     "name": "stderr",
     "output_type": "stream",
     "text": [
      "2025-01-27 19:19:08.611616: I tensorflow/core/util/port.cc:153] oneDNN custom operations are on. You may see slightly different numerical results due to floating-point round-off errors from different computation orders. To turn them off, set the environment variable `TF_ENABLE_ONEDNN_OPTS=0`.\n",
      "2025-01-27 19:19:08.622215: E external/local_xla/xla/stream_executor/cuda/cuda_fft.cc:477] Unable to register cuFFT factory: Attempting to register factory for plugin cuFFT when one has already been registered\n",
      "WARNING: All log messages before absl::InitializeLog() is called are written to STDERR\n",
      "E0000 00:00:1737976748.634101  218106 cuda_dnn.cc:8310] Unable to register cuDNN factory: Attempting to register factory for plugin cuDNN when one has already been registered\n",
      "E0000 00:00:1737976748.637323  218106 cuda_blas.cc:1418] Unable to register cuBLAS factory: Attempting to register factory for plugin cuBLAS when one has already been registered\n",
      "2025-01-27 19:19:08.648710: I tensorflow/core/platform/cpu_feature_guard.cc:210] This TensorFlow binary is optimized to use available CPU instructions in performance-critical operations.\n",
      "To enable the following instructions: AVX2 AVX512F AVX512_VNNI FMA, in other operations, rebuild TensorFlow with the appropriate compiler flags.\n"
     ]
    }
   ],
   "source": [
    "import os\n",
    "\n",
    "import keras\n",
    "\n",
    "from keras import layers, ops, utils\n",
    "import numpy as np"
   ]
  },
  {
   "cell_type": "code",
   "execution_count": 2,
   "metadata": {},
   "outputs": [],
   "source": [
    "batch_size = 256\n",
    "num_channels = 1\n",
    "num_classes = 10\n",
    "image_size = 28\n",
    "latent_dim = 128"
   ]
  },
  {
   "cell_type": "code",
   "execution_count": 3,
   "metadata": {},
   "outputs": [
    {
     "name": "stdout",
     "output_type": "stream",
     "text": [
      "File dataset/test-images-idx3-ubyte.gz already exists, skipping download\n",
      "File dataset/test-labels-idx1-ubyte.gz already exists, skipping download\n",
      "File dataset/train-images-idx3-ubyte.gz already exists, skipping download\n",
      "File dataset/train-labels-idx1-ubyte.gz already exists, skipping download\n",
      "File utilities/spots_10_loader.py already exists, skipping download\n",
      "All files downloaded successfully\n",
      "Shape of raw training images: (50000, 28, 28)\n",
      "Shape of raw training labels: (50000,)\n"
     ]
    }
   ],
   "source": [
    "from dataset.loader import SPOTS10\n",
    "X_train, y_train, X_test, y_test = SPOTS10()\n",
    "\n",
    "# Crop the images from 32x32 to 28x28\n",
    "X_train = X_train[:, 2:30, 2:30]\n",
    "X_test = X_test[:, 2:30, 2:30]\n",
    "\n",
    "all_digits = np.concatenate([X_train, X_test])\n",
    "all_labels = np.concatenate([y_train, y_test])\n",
    "\n",
    "print(f\"Shape of raw training images: {all_digits.shape}\")\n",
    "print(f\"Shape of raw training labels: {all_labels.shape}\")\n",
    "\n",
    "all_digits = (all_digits.astype('float32') - 127.5) / 127.5\n",
    "all_digits = np.reshape(all_digits, (-1, image_size, image_size, num_channels))\n",
    "all_labels = keras.utils.to_categorical(all_labels, num_classes)"
   ]
  },
  {
   "cell_type": "markdown",
   "metadata": {},
   "source": [
    "`keras.utils` offers some Python & NumPy utilities, a dedicated list of them are given [there](https://keras.io/api/utils/python_utils/).\n",
    "\n",
    "For example:\n",
    "\n",
    "- `split_dataset`: Splits a dataset into a left half and a right half;\n",
    "- `pack_x_y_sample_weight`: Pack user-provided data into a tuple;\n",
    "- `get_file`: Download a file from the url if not already in cache;\n",
    "- `to_categorical`: Convert a class vector (integers) to binary class matrix;"
   ]
  },
  {
   "cell_type": "code",
   "execution_count": 4,
   "metadata": {},
   "outputs": [
    {
     "name": "stdout",
     "output_type": "stream",
     "text": [
      "Shape of training images: (50000, 28, 28, 1)\n",
      "Shape of training labels: (50000, 10)\n"
     ]
    },
    {
     "name": "stderr",
     "output_type": "stream",
     "text": [
      "I0000 00:00:1737976750.889409  218106 gpu_device.cc:2022] Created device /job:localhost/replica:0/task:0/device:GPU:0 with 6156 MB memory:  -> device: 0, name: NVIDIA GeForce RTX 3070, pci bus id: 0000:02:00.0, compute capability: 8.6\n"
     ]
    }
   ],
   "source": [
    "# Create torch dataloader\n",
    "import tensorflow as tf\n",
    "\n",
    "dataset = tf.data.Dataset.from_tensor_slices((all_digits, all_labels))\n",
    "dataset = dataset.shuffle(buffer_size=1024).batch(batch_size)\n",
    "\n",
    "print(f\"Shape of training images: {all_digits.shape}\")\n",
    "print(f\"Shape of training labels: {all_labels.shape}\")"
   ]
  },
  {
   "cell_type": "code",
   "execution_count": 5,
   "metadata": {},
   "outputs": [
    {
     "name": "stdout",
     "output_type": "stream",
     "text": [
      "138 11\n"
     ]
    }
   ],
   "source": [
    "generator_in_channels = latent_dim + num_classes\n",
    "discriminator_in_channels = num_channels + num_classes\n",
    "print(generator_in_channels, discriminator_in_channels)"
   ]
  },
  {
   "cell_type": "code",
   "execution_count": 6,
   "metadata": {},
   "outputs": [],
   "source": [
    "discriminator = keras.Sequential(\n",
    "    [\n",
    "        layers.Input(shape=(28, 28, discriminator_in_channels)), # (28, 28, 1)\n",
    "        layers.ZeroPadding2D(padding=(2, 2)), # (32, 32, 1)\n",
    "        layers.Conv2D(64, kernel_size=(5, 5), strides=(2, 2), padding=\"same\"), # (16, 16, 64)\n",
    "        layers.LeakyReLU(negative_slope=0.2),\n",
    "        layers.Conv2D(128, kernel_size=(5, 5), strides=(2, 2), padding=\"same\"), # (8, 8, 128)\n",
    "        layers.LeakyReLU(negative_slope=0.2),\n",
    "        layers.Dropout(0.3),\n",
    "        layers.Conv2D(256, kernel_size=(5, 5), strides=(2, 2), padding=\"same\"), # (4, 4, 256)\n",
    "        layers.LeakyReLU(negative_slope=0.2),\n",
    "        layers.Dropout(0.3),\n",
    "        layers.Conv2D(512, kernel_size=(5, 5), strides=(2, 2), padding=\"same\"), # (2, 2, 512)\n",
    "        layers.LeakyReLU(negative_slope=0.2),\n",
    "        layers.Flatten(),\n",
    "        layers.Dropout(0.2),\n",
    "        layers.Dense(1), # (1,)\n",
    "    ],\n",
    "    name=\"discriminator\",\n",
    ")\n",
    "\n",
    "generator = keras.Sequential(\n",
    "    [\n",
    "        layers.Input(shape=(generator_in_channels,)), # (128,)\n",
    "        layers.Dense(4 * 4 * 256, use_bias=False), # (4096,)\n",
    "        layers.BatchNormalization(),\n",
    "        layers.LeakyReLU(negative_slope=0.2),\n",
    "        layers.Reshape((4, 4, 256)), # (4, 4, 256)\n",
    "        layers.UpSampling2D(size=(2, 2)), # (8, 8, 256)\n",
    "        layers.Conv2D(128, kernel_size=(3, 3), strides=(1, 1), padding=\"same\", use_bias=False), # (8, 8, 128)\n",
    "        layers.BatchNormalization(),\n",
    "        layers.LeakyReLU(negative_slope=0.2),\n",
    "        layers.UpSampling2D(size=(2, 2)), # (16, 16, 128)\n",
    "        layers.Conv2D(64, kernel_size=(3, 3), strides=(1, 1), padding=\"same\", use_bias=False), # (16, 16, 64)\n",
    "        layers.BatchNormalization(),\n",
    "        layers.LeakyReLU(negative_slope=0.2),\n",
    "        layers.UpSampling2D(size=(2, 2)), # (32, 32, 64)\n",
    "        layers.Conv2D(1, kernel_size=(3, 3), strides=(1, 1), padding=\"same\", use_bias=False), # (32, 32, 1)\n",
    "        layers.BatchNormalization(),\n",
    "        layers.Activation(\"tanh\"),\n",
    "        layers.Cropping2D(cropping=(2, 2)), # (28, 28, 1)\n",
    "    ],\n",
    "    name=\"generator\",\n",
    ")"
   ]
  },
  {
   "cell_type": "code",
   "execution_count": 7,
   "metadata": {},
   "outputs": [],
   "source": [
    "class ConditionalGAN(keras.Model):\n",
    "    def __init__(self, discriminator, generator, latent_dim):\n",
    "        super().__init__()\n",
    "        self.discriminator = discriminator\n",
    "        self.generator = generator\n",
    "        self.latent_dim = latent_dim\n",
    "        self.seed_generator = keras.random.SeedGenerator(1337)\n",
    "        self.gen_loss_tracker = keras.metrics.Mean(name=\"generator_loss\")\n",
    "        self.disc_loss_tracker = keras.metrics.Mean(name=\"discriminator_loss\")\n",
    "\n",
    "    @property\n",
    "    def metrics(self):\n",
    "        return [self.gen_loss_tracker, self.disc_loss_tracker]\n",
    "    \n",
    "    def compile(self, d_optimizer, g_optimizer, loss_fn):\n",
    "        super().compile()\n",
    "        self.d_optimizer = d_optimizer\n",
    "        self.g_optimizer = g_optimizer\n",
    "        self.loss_fn = loss_fn\n",
    "\n",
    "    def train_step(self, data):\n",
    "        # Unpack the data\n",
    "        real_images, one_hot_labels = data\n",
    "        # real_images.shape = (batch_size, 28, 28, 1)\n",
    "        # one_hot_labels.shape = (batch_size, 10)\n",
    "\n",
    "        # Add dummy dimensions to the labels so that they can be concatenated with\n",
    "        # the images. This is for the discriminator.\n",
    "        image_one_hot_labels = one_hot_labels[:, :, None, None] # Now the shape is (batch_size, 10, 1, 1)\n",
    "        image_one_hot_labels = ops.repeat(\n",
    "            image_one_hot_labels, repeats=[image_size * image_size]\n",
    "        ) # Now the shape is (batch_size, 10, 28, 28)\n",
    "        image_one_hot_labels = ops.reshape(\n",
    "            image_one_hot_labels, (-1, image_size, image_size, num_classes)\n",
    "        ) # Now the shape is (batch_size, 28, 28, 10)\n",
    "        # That is, every pixel in the image has the one-hot label of the image.\n",
    "\n",
    "        # Sample random points in the latent space and concatenate the labels.\n",
    "        # This is for the generator.\n",
    "        batch_size = ops.shape(real_images)[0]\n",
    "        random_latent_vectors = keras.random.normal(\n",
    "            shape=(batch_size, self.latent_dim), seed=self.seed_generator\n",
    "        ) # (batch_size, 128)\n",
    "        random_vector_labels = ops.concatenate(\n",
    "            [random_latent_vectors, one_hot_labels], axis=1\n",
    "        ) # (batch_size, 138)\n",
    "\n",
    "        # Decode the noise (guided by labels) to fake images.\n",
    "        generated_images = self.generator(random_vector_labels) # (batch_size, 28, 28, 1)\n",
    "\n",
    "        # Combine them with real images. Note that we are concatenating the labels\n",
    "        # with these images here.\n",
    "        fake_image_and_labels = ops.concatenate(\n",
    "            [generated_images, image_one_hot_labels], -1\n",
    "        ) # (batch_size, 28, 28, 11)\n",
    "        real_image_and_labels = ops.concatenate(\n",
    "            [real_images, image_one_hot_labels], -1\n",
    "        ) # (batch_size, 28, 28, 11)\n",
    "        combined_images = ops.concatenate(\n",
    "            [fake_image_and_labels, real_image_and_labels], axis=0\n",
    "        ) # (2 * batch_size, 28, 28, 11)\n",
    "\n",
    "        # Assemble labels discriminating real from fake images.\n",
    "        labels = ops.concatenate(\n",
    "            [ops.ones((batch_size, 1)), ops.zeros((batch_size, 1))], axis=0\n",
    "        ) # (2 * batch_size, 1)\n",
    "\n",
    "        # Train the discriminator.\n",
    "        with tf.GradientTape() as tape:\n",
    "            predictions = self.discriminator(combined_images)\n",
    "            d_loss = self.loss_fn(labels, predictions)\n",
    "        grads = tape.gradient(d_loss, self.discriminator.trainable_weights)\n",
    "        self.d_optimizer.apply_gradients(\n",
    "            zip(grads, self.discriminator.trainable_weights)\n",
    "        )\n",
    "\n",
    "        # Sample random points in the latent space.\n",
    "        random_latent_vectors = keras.random.normal(\n",
    "            shape=(batch_size, self.latent_dim), seed=self.seed_generator\n",
    "        )\n",
    "        random_vector_labels = ops.concatenate(\n",
    "            [random_latent_vectors, one_hot_labels], axis=1\n",
    "        )\n",
    "\n",
    "        # Assemble labels that say \"all real images\".\n",
    "        misleading_labels = ops.zeros((batch_size, 1))\n",
    "\n",
    "        # Train the generator (note that we should *not* update the weights\n",
    "        # of the discriminator)!\n",
    "        with tf.GradientTape() as tape:\n",
    "            fake_images = self.generator(random_vector_labels)\n",
    "            fake_image_and_labels = ops.concatenate(\n",
    "                [fake_images, image_one_hot_labels], -1\n",
    "            )\n",
    "            predictions = self.discriminator(fake_image_and_labels)\n",
    "            g_loss = self.loss_fn(misleading_labels, predictions)\n",
    "        grads = tape.gradient(g_loss, self.generator.trainable_weights)\n",
    "        self.g_optimizer.apply_gradients(zip(grads, self.generator.trainable_weights))\n",
    "\n",
    "        # Monitor loss\n",
    "        self.gen_loss_tracker.update_state(g_loss)\n",
    "        self.disc_loss_tracker.update_state(d_loss)\n",
    "        return {\n",
    "            \"g_loss\": self.gen_loss_tracker.result(),\n",
    "            \"d_loss\": self.disc_loss_tracker.result(),\n",
    "        }\n"
   ]
  },
  {
   "cell_type": "code",
   "execution_count": 9,
   "metadata": {},
   "outputs": [
    {
     "name": "stdout",
     "output_type": "stream",
     "text": [
      "Epoch 1/10\n"
     ]
    },
    {
     "name": "stderr",
     "output_type": "stream",
     "text": [
      "WARNING: All log messages before absl::InitializeLog() is called are written to STDERR\n",
      "I0000 00:00:1737976794.610285  218159 service.cc:148] XLA service 0x7e8a68011840 initialized for platform CUDA (this does not guarantee that XLA will be used). Devices:\n",
      "I0000 00:00:1737976794.610301  218159 service.cc:156]   StreamExecutor device (0): NVIDIA GeForce RTX 3070, Compute Capability 8.6\n",
      "2025-01-27 19:19:54.672550: I tensorflow/compiler/mlir/tensorflow/utils/dump_mlir_util.cc:268] disabling MLIR crash reproducer, set env var `MLIR_CRASH_REPRODUCER_DIRECTORY` to enable.\n",
      "I0000 00:00:1737976794.905170  218159 cuda_dnn.cc:529] Loaded cuDNN version 90300\n",
      "2025-01-27 19:19:55.695430: I external/local_xla/xla/stream_executor/cuda/cuda_asm_compiler.cc:397] ptxas warning : Registers are spilled to local memory in function 'gemm_fusion_dot_7', 16 bytes spill stores, 16 bytes spill loads\n",
      "\n",
      "2025-01-27 19:19:55.701478: I external/local_xla/xla/stream_executor/cuda/cuda_asm_compiler.cc:397] ptxas warning : Registers are spilled to local memory in function 'gemm_fusion_dot_7', 100 bytes spill stores, 104 bytes spill loads\n",
      "\n",
      "2025-01-27 19:19:55.849897: I external/local_xla/xla/stream_executor/cuda/cuda_asm_compiler.cc:397] ptxas warning : Registers are spilled to local memory in function 'gemm_fusion_dot_7', 140 bytes spill stores, 140 bytes spill loads\n",
      "\n",
      "2025-01-27 19:19:55.877124: I external/local_xla/xla/stream_executor/cuda/cuda_asm_compiler.cc:397] ptxas warning : Registers are spilled to local memory in function 'gemm_fusion_dot_7', 412 bytes spill stores, 416 bytes spill loads\n",
      "\n",
      "2025-01-27 19:19:55.878366: I external/local_xla/xla/stream_executor/cuda/cuda_asm_compiler.cc:397] ptxas warning : Registers are spilled to local memory in function 'gemm_fusion_dot_7', 108 bytes spill stores, 132 bytes spill loads\n",
      "\n",
      "2025-01-27 19:19:55.927744: I external/local_xla/xla/stream_executor/cuda/cuda_asm_compiler.cc:397] ptxas warning : Registers are spilled to local memory in function 'gemm_fusion_dot_7', 1136 bytes spill stores, 1176 bytes spill loads\n",
      "\n"
     ]
    },
    {
     "name": "stdout",
     "output_type": "stream",
     "text": [
      "\u001b[1m  5/196\u001b[0m \u001b[37m━━━━━━━━━━━━━━━━━━━━\u001b[0m \u001b[1m7s\u001b[0m 37ms/step - d_loss: 0.6831 - g_loss: 0.7020"
     ]
    },
    {
     "name": "stderr",
     "output_type": "stream",
     "text": [
      "I0000 00:00:1737976802.299670  218159 device_compiler.h:188] Compiled cluster using XLA!  This line is logged at most once for the lifetime of the process.\n"
     ]
    },
    {
     "name": "stdout",
     "output_type": "stream",
     "text": [
      "\u001b[1m196/196\u001b[0m \u001b[32m━━━━━━━━━━━━━━━━━━━━\u001b[0m\u001b[37m\u001b[0m \u001b[1m20s\u001b[0m 56ms/step - d_loss: 0.5991 - g_loss: 1.0465\n",
      "Epoch 2/10\n",
      "\u001b[1m196/196\u001b[0m \u001b[32m━━━━━━━━━━━━━━━━━━━━\u001b[0m\u001b[37m\u001b[0m \u001b[1m7s\u001b[0m 34ms/step - d_loss: 0.4705 - g_loss: 1.4695\n",
      "Epoch 3/10\n",
      "\u001b[1m196/196\u001b[0m \u001b[32m━━━━━━━━━━━━━━━━━━━━\u001b[0m\u001b[37m\u001b[0m \u001b[1m7s\u001b[0m 34ms/step - d_loss: 0.4600 - g_loss: 1.5434\n",
      "Epoch 4/10\n",
      "\u001b[1m196/196\u001b[0m \u001b[32m━━━━━━━━━━━━━━━━━━━━\u001b[0m\u001b[37m\u001b[0m \u001b[1m7s\u001b[0m 34ms/step - d_loss: 0.3931 - g_loss: 1.7797\n",
      "Epoch 5/10\n",
      "\u001b[1m196/196\u001b[0m \u001b[32m━━━━━━━━━━━━━━━━━━━━\u001b[0m\u001b[37m\u001b[0m \u001b[1m7s\u001b[0m 34ms/step - d_loss: 0.3307 - g_loss: 2.0255\n",
      "Epoch 6/10\n",
      "\u001b[1m196/196\u001b[0m \u001b[32m━━━━━━━━━━━━━━━━━━━━\u001b[0m\u001b[37m\u001b[0m \u001b[1m7s\u001b[0m 34ms/step - d_loss: 0.3175 - g_loss: 2.2315\n",
      "Epoch 7/10\n",
      "\u001b[1m196/196\u001b[0m \u001b[32m━━━━━━━━━━━━━━━━━━━━\u001b[0m\u001b[37m\u001b[0m \u001b[1m7s\u001b[0m 34ms/step - d_loss: 0.3327 - g_loss: 2.0457\n",
      "Epoch 8/10\n",
      "\u001b[1m196/196\u001b[0m \u001b[32m━━━━━━━━━━━━━━━━━━━━\u001b[0m\u001b[37m\u001b[0m \u001b[1m7s\u001b[0m 35ms/step - d_loss: 0.2996 - g_loss: 2.2458\n",
      "Epoch 9/10\n",
      "\u001b[1m196/196\u001b[0m \u001b[32m━━━━━━━━━━━━━━━━━━━━\u001b[0m\u001b[37m\u001b[0m \u001b[1m7s\u001b[0m 34ms/step - d_loss: 0.2953 - g_loss: 2.3590\n",
      "Epoch 10/10\n",
      "\u001b[1m196/196\u001b[0m \u001b[32m━━━━━━━━━━━━━━━━━━━━\u001b[0m\u001b[37m\u001b[0m \u001b[1m7s\u001b[0m 35ms/step - d_loss: 0.2697 - g_loss: 2.4802\n"
     ]
    },
    {
     "data": {
      "text/plain": [
       "<keras.src.callbacks.history.History at 0x7e8b884de690>"
      ]
     },
     "execution_count": 9,
     "metadata": {},
     "output_type": "execute_result"
    }
   ],
   "source": [
    "cond_gan = ConditionalGAN(\n",
    "    discriminator=discriminator, generator=generator, latent_dim=latent_dim\n",
    ")\n",
    "cond_gan.compile(\n",
    "    d_optimizer=keras.optimizers.RMSprop(learning_rate=0.0003),\n",
    "    g_optimizer=keras.optimizers.RMSprop(learning_rate=0.00003),\n",
    "    loss_fn=keras.losses.BinaryCrossentropy(from_logits=True),\n",
    ")\n",
    "\n",
    "cond_gan.fit(dataset, epochs=10)"
   ]
  },
  {
   "cell_type": "code",
   "execution_count": 10,
   "metadata": {},
   "outputs": [
    {
     "name": "stdout",
     "output_type": "stream",
     "text": [
      "Epoch 1/20\n",
      "\u001b[1m196/196\u001b[0m \u001b[32m━━━━━━━━━━━━━━━━━━━━\u001b[0m\u001b[37m\u001b[0m \u001b[1m7s\u001b[0m 34ms/step - d_loss: 0.2842 - g_loss: 2.4455\n",
      "Epoch 2/20\n",
      "\u001b[1m196/196\u001b[0m \u001b[32m━━━━━━━━━━━━━━━━━━━━\u001b[0m\u001b[37m\u001b[0m \u001b[1m7s\u001b[0m 34ms/step - d_loss: 0.2744 - g_loss: 2.5178\n",
      "Epoch 3/20\n",
      "\u001b[1m196/196\u001b[0m \u001b[32m━━━━━━━━━━━━━━━━━━━━\u001b[0m\u001b[37m\u001b[0m \u001b[1m7s\u001b[0m 34ms/step - d_loss: 0.3288 - g_loss: 2.4916\n",
      "Epoch 4/20\n",
      "\u001b[1m196/196\u001b[0m \u001b[32m━━━━━━━━━━━━━━━━━━━━\u001b[0m\u001b[37m\u001b[0m \u001b[1m7s\u001b[0m 34ms/step - d_loss: 0.2851 - g_loss: 2.5059\n",
      "Epoch 5/20\n",
      "\u001b[1m196/196\u001b[0m \u001b[32m━━━━━━━━━━━━━━━━━━━━\u001b[0m\u001b[37m\u001b[0m \u001b[1m7s\u001b[0m 34ms/step - d_loss: 0.2528 - g_loss: 2.6653\n",
      "Epoch 6/20\n",
      "\u001b[1m196/196\u001b[0m \u001b[32m━━━━━━━━━━━━━━━━━━━━\u001b[0m\u001b[37m\u001b[0m \u001b[1m7s\u001b[0m 35ms/step - d_loss: 0.2464 - g_loss: 2.7588\n",
      "Epoch 7/20\n",
      "\u001b[1m196/196\u001b[0m \u001b[32m━━━━━━━━━━━━━━━━━━━━\u001b[0m\u001b[37m\u001b[0m \u001b[1m7s\u001b[0m 35ms/step - d_loss: 0.2376 - g_loss: 2.9107\n",
      "Epoch 8/20\n",
      "\u001b[1m196/196\u001b[0m \u001b[32m━━━━━━━━━━━━━━━━━━━━\u001b[0m\u001b[37m\u001b[0m \u001b[1m7s\u001b[0m 35ms/step - d_loss: 0.2453 - g_loss: 3.0014\n",
      "Epoch 9/20\n",
      "\u001b[1m196/196\u001b[0m \u001b[32m━━━━━━━━━━━━━━━━━━━━\u001b[0m\u001b[37m\u001b[0m \u001b[1m7s\u001b[0m 35ms/step - d_loss: 0.2199 - g_loss: 3.1177\n",
      "Epoch 10/20\n",
      "\u001b[1m196/196\u001b[0m \u001b[32m━━━━━━━━━━━━━━━━━━━━\u001b[0m\u001b[37m\u001b[0m \u001b[1m7s\u001b[0m 35ms/step - d_loss: 0.2045 - g_loss: 3.1697\n",
      "Epoch 11/20\n",
      "\u001b[1m196/196\u001b[0m \u001b[32m━━━━━━━━━━━━━━━━━━━━\u001b[0m\u001b[37m\u001b[0m \u001b[1m7s\u001b[0m 35ms/step - d_loss: 0.2018 - g_loss: 3.3211\n",
      "Epoch 12/20\n",
      "\u001b[1m196/196\u001b[0m \u001b[32m━━━━━━━━━━━━━━━━━━━━\u001b[0m\u001b[37m\u001b[0m \u001b[1m7s\u001b[0m 35ms/step - d_loss: 0.1888 - g_loss: 3.3843\n",
      "Epoch 13/20\n",
      "\u001b[1m196/196\u001b[0m \u001b[32m━━━━━━━━━━━━━━━━━━━━\u001b[0m\u001b[37m\u001b[0m \u001b[1m7s\u001b[0m 35ms/step - d_loss: 0.2089 - g_loss: 3.4450\n",
      "Epoch 14/20\n",
      "\u001b[1m196/196\u001b[0m \u001b[32m━━━━━━━━━━━━━━━━━━━━\u001b[0m\u001b[37m\u001b[0m \u001b[1m7s\u001b[0m 35ms/step - d_loss: 0.2102 - g_loss: 3.4668\n",
      "Epoch 15/20\n",
      "\u001b[1m196/196\u001b[0m \u001b[32m━━━━━━━━━━━━━━━━━━━━\u001b[0m\u001b[37m\u001b[0m \u001b[1m7s\u001b[0m 35ms/step - d_loss: 0.1700 - g_loss: 3.6557\n",
      "Epoch 16/20\n",
      "\u001b[1m196/196\u001b[0m \u001b[32m━━━━━━━━━━━━━━━━━━━━\u001b[0m\u001b[37m\u001b[0m \u001b[1m7s\u001b[0m 35ms/step - d_loss: 0.1913 - g_loss: 3.5339\n",
      "Epoch 17/20\n",
      "\u001b[1m196/196\u001b[0m \u001b[32m━━━━━━━━━━━━━━━━━━━━\u001b[0m\u001b[37m\u001b[0m \u001b[1m7s\u001b[0m 35ms/step - d_loss: 0.1928 - g_loss: 3.4811\n",
      "Epoch 18/20\n",
      "\u001b[1m196/196\u001b[0m \u001b[32m━━━━━━━━━━━━━━━━━━━━\u001b[0m\u001b[37m\u001b[0m \u001b[1m7s\u001b[0m 35ms/step - d_loss: 0.1800 - g_loss: 3.5081\n",
      "Epoch 19/20\n",
      "\u001b[1m196/196\u001b[0m \u001b[32m━━━━━━━━━━━━━━━━━━━━\u001b[0m\u001b[37m\u001b[0m \u001b[1m7s\u001b[0m 35ms/step - d_loss: 0.1659 - g_loss: 3.7865\n",
      "Epoch 20/20\n",
      "\u001b[1m196/196\u001b[0m \u001b[32m━━━━━━━━━━━━━━━━━━━━\u001b[0m\u001b[37m\u001b[0m \u001b[1m7s\u001b[0m 35ms/step - d_loss: 0.1682 - g_loss: 3.8221\n"
     ]
    },
    {
     "data": {
      "text/plain": [
       "<keras.src.callbacks.history.History at 0x7e8b75061850>"
      ]
     },
     "execution_count": 10,
     "metadata": {},
     "output_type": "execute_result"
    }
   ],
   "source": [
    "cond_gan.fit(dataset, epochs=20)"
   ]
  },
  {
   "cell_type": "code",
   "execution_count": 11,
   "metadata": {},
   "outputs": [
    {
     "name": "stdout",
     "output_type": "stream",
     "text": [
      "Epoch 1/40\n",
      "\u001b[1m196/196\u001b[0m \u001b[32m━━━━━━━━━━━━━━━━━━━━\u001b[0m\u001b[37m\u001b[0m \u001b[1m7s\u001b[0m 35ms/step - d_loss: 0.1710 - g_loss: 3.7787\n",
      "Epoch 2/40\n",
      "\u001b[1m196/196\u001b[0m \u001b[32m━━━━━━━━━━━━━━━━━━━━\u001b[0m\u001b[37m\u001b[0m \u001b[1m7s\u001b[0m 34ms/step - d_loss: 0.1526 - g_loss: 3.9748\n",
      "Epoch 3/40\n",
      "\u001b[1m196/196\u001b[0m \u001b[32m━━━━━━━━━━━━━━━━━━━━\u001b[0m\u001b[37m\u001b[0m \u001b[1m7s\u001b[0m 34ms/step - d_loss: 0.1634 - g_loss: 3.8634\n",
      "Epoch 4/40\n",
      "\u001b[1m196/196\u001b[0m \u001b[32m━━━━━━━━━━━━━━━━━━━━\u001b[0m\u001b[37m\u001b[0m \u001b[1m7s\u001b[0m 35ms/step - d_loss: 0.1710 - g_loss: 3.7863\n",
      "Epoch 5/40\n",
      "\u001b[1m196/196\u001b[0m \u001b[32m━━━━━━━━━━━━━━━━━━━━\u001b[0m\u001b[37m\u001b[0m \u001b[1m7s\u001b[0m 34ms/step - d_loss: 0.1711 - g_loss: 3.8450\n",
      "Epoch 6/40\n",
      "\u001b[1m196/196\u001b[0m \u001b[32m━━━━━━━━━━━━━━━━━━━━\u001b[0m\u001b[37m\u001b[0m \u001b[1m7s\u001b[0m 34ms/step - d_loss: 0.1616 - g_loss: 3.9328\n",
      "Epoch 7/40\n",
      "\u001b[1m196/196\u001b[0m \u001b[32m━━━━━━━━━━━━━━━━━━━━\u001b[0m\u001b[37m\u001b[0m \u001b[1m7s\u001b[0m 34ms/step - d_loss: 0.1934 - g_loss: 4.1254\n",
      "Epoch 8/40\n",
      "\u001b[1m196/196\u001b[0m \u001b[32m━━━━━━━━━━━━━━━━━━━━\u001b[0m\u001b[37m\u001b[0m \u001b[1m7s\u001b[0m 35ms/step - d_loss: 0.1452 - g_loss: 4.1405\n",
      "Epoch 9/40\n",
      "\u001b[1m196/196\u001b[0m \u001b[32m━━━━━━━━━━━━━━━━━━━━\u001b[0m\u001b[37m\u001b[0m \u001b[1m7s\u001b[0m 35ms/step - d_loss: 0.1353 - g_loss: 4.3273\n",
      "Epoch 10/40\n",
      "\u001b[1m196/196\u001b[0m \u001b[32m━━━━━━━━━━━━━━━━━━━━\u001b[0m\u001b[37m\u001b[0m \u001b[1m7s\u001b[0m 35ms/step - d_loss: 0.1523 - g_loss: 4.1887\n",
      "Epoch 11/40\n",
      "\u001b[1m196/196\u001b[0m \u001b[32m━━━━━━━━━━━━━━━━━━━━\u001b[0m\u001b[37m\u001b[0m \u001b[1m7s\u001b[0m 34ms/step - d_loss: 0.1533 - g_loss: 4.1156\n",
      "Epoch 12/40\n",
      "\u001b[1m196/196\u001b[0m \u001b[32m━━━━━━━━━━━━━━━━━━━━\u001b[0m\u001b[37m\u001b[0m \u001b[1m7s\u001b[0m 34ms/step - d_loss: 0.1546 - g_loss: 4.2171\n",
      "Epoch 13/40\n",
      "\u001b[1m196/196\u001b[0m \u001b[32m━━━━━━━━━━━━━━━━━━━━\u001b[0m\u001b[37m\u001b[0m \u001b[1m7s\u001b[0m 35ms/step - d_loss: 0.1491 - g_loss: 4.1703\n",
      "Epoch 14/40\n",
      "\u001b[1m196/196\u001b[0m \u001b[32m━━━━━━━━━━━━━━━━━━━━\u001b[0m\u001b[37m\u001b[0m \u001b[1m7s\u001b[0m 35ms/step - d_loss: 0.1512 - g_loss: 4.1711\n",
      "Epoch 15/40\n",
      "\u001b[1m196/196\u001b[0m \u001b[32m━━━━━━━━━━━━━━━━━━━━\u001b[0m\u001b[37m\u001b[0m \u001b[1m7s\u001b[0m 35ms/step - d_loss: 0.1706 - g_loss: 4.0532\n",
      "Epoch 16/40\n",
      "\u001b[1m196/196\u001b[0m \u001b[32m━━━━━━━━━━━━━━━━━━━━\u001b[0m\u001b[37m\u001b[0m \u001b[1m7s\u001b[0m 35ms/step - d_loss: 0.1835 - g_loss: 3.8743\n",
      "Epoch 17/40\n",
      "\u001b[1m196/196\u001b[0m \u001b[32m━━━━━━━━━━━━━━━━━━━━\u001b[0m\u001b[37m\u001b[0m \u001b[1m7s\u001b[0m 35ms/step - d_loss: 0.1742 - g_loss: 3.9384\n",
      "Epoch 18/40\n",
      "\u001b[1m196/196\u001b[0m \u001b[32m━━━━━━━━━━━━━━━━━━━━\u001b[0m\u001b[37m\u001b[0m \u001b[1m7s\u001b[0m 34ms/step - d_loss: 0.1798 - g_loss: 3.9463\n",
      "Epoch 19/40\n",
      "\u001b[1m196/196\u001b[0m \u001b[32m━━━━━━━━━━━━━━━━━━━━\u001b[0m\u001b[37m\u001b[0m \u001b[1m7s\u001b[0m 34ms/step - d_loss: 0.1831 - g_loss: 3.9183\n",
      "Epoch 20/40\n",
      "\u001b[1m196/196\u001b[0m \u001b[32m━━━━━━━━━━━━━━━━━━━━\u001b[0m\u001b[37m\u001b[0m \u001b[1m7s\u001b[0m 34ms/step - d_loss: 0.1531 - g_loss: 4.1172\n",
      "Epoch 21/40\n",
      "\u001b[1m196/196\u001b[0m \u001b[32m━━━━━━━━━━━━━━━━━━━━\u001b[0m\u001b[37m\u001b[0m \u001b[1m7s\u001b[0m 34ms/step - d_loss: 0.1839 - g_loss: 3.9990\n",
      "Epoch 22/40\n",
      "\u001b[1m196/196\u001b[0m \u001b[32m━━━━━━━━━━━━━━━━━━━━\u001b[0m\u001b[37m\u001b[0m \u001b[1m7s\u001b[0m 35ms/step - d_loss: 0.1791 - g_loss: 3.9842\n",
      "Epoch 23/40\n",
      "\u001b[1m196/196\u001b[0m \u001b[32m━━━━━━━━━━━━━━━━━━━━\u001b[0m\u001b[37m\u001b[0m \u001b[1m7s\u001b[0m 34ms/step - d_loss: 0.1654 - g_loss: 4.0360\n",
      "Epoch 24/40\n",
      "\u001b[1m196/196\u001b[0m \u001b[32m━━━━━━━━━━━━━━━━━━━━\u001b[0m\u001b[37m\u001b[0m \u001b[1m7s\u001b[0m 35ms/step - d_loss: 0.1801 - g_loss: 4.2364\n",
      "Epoch 25/40\n",
      "\u001b[1m196/196\u001b[0m \u001b[32m━━━━━━━━━━━━━━━━━━━━\u001b[0m\u001b[37m\u001b[0m \u001b[1m7s\u001b[0m 34ms/step - d_loss: 0.2012 - g_loss: 3.9621\n",
      "Epoch 26/40\n",
      "\u001b[1m196/196\u001b[0m \u001b[32m━━━━━━━━━━━━━━━━━━━━\u001b[0m\u001b[37m\u001b[0m \u001b[1m7s\u001b[0m 34ms/step - d_loss: 0.1762 - g_loss: 4.1146\n",
      "Epoch 27/40\n",
      "\u001b[1m196/196\u001b[0m \u001b[32m━━━━━━━━━━━━━━━━━━━━\u001b[0m\u001b[37m\u001b[0m \u001b[1m7s\u001b[0m 35ms/step - d_loss: 0.1907 - g_loss: 3.9762\n",
      "Epoch 28/40\n",
      "\u001b[1m196/196\u001b[0m \u001b[32m━━━━━━━━━━━━━━━━━━━━\u001b[0m\u001b[37m\u001b[0m \u001b[1m7s\u001b[0m 35ms/step - d_loss: 0.2143 - g_loss: 3.9686\n",
      "Epoch 29/40\n",
      "\u001b[1m196/196\u001b[0m \u001b[32m━━━━━━━━━━━━━━━━━━━━\u001b[0m\u001b[37m\u001b[0m \u001b[1m7s\u001b[0m 35ms/step - d_loss: 0.2173 - g_loss: 3.7286\n",
      "Epoch 30/40\n",
      "\u001b[1m196/196\u001b[0m \u001b[32m━━━━━━━━━━━━━━━━━━━━\u001b[0m\u001b[37m\u001b[0m \u001b[1m7s\u001b[0m 35ms/step - d_loss: 0.2560 - g_loss: 3.4407\n",
      "Epoch 31/40\n",
      "\u001b[1m196/196\u001b[0m \u001b[32m━━━━━━━━━━━━━━━━━━━━\u001b[0m\u001b[37m\u001b[0m \u001b[1m7s\u001b[0m 34ms/step - d_loss: 0.2165 - g_loss: 3.7362\n",
      "Epoch 32/40\n",
      "\u001b[1m196/196\u001b[0m \u001b[32m━━━━━━━━━━━━━━━━━━━━\u001b[0m\u001b[37m\u001b[0m \u001b[1m7s\u001b[0m 34ms/step - d_loss: 0.2161 - g_loss: 3.5188\n",
      "Epoch 33/40\n",
      "\u001b[1m196/196\u001b[0m \u001b[32m━━━━━━━━━━━━━━━━━━━━\u001b[0m\u001b[37m\u001b[0m \u001b[1m7s\u001b[0m 35ms/step - d_loss: 0.2136 - g_loss: 3.6116\n",
      "Epoch 34/40\n",
      "\u001b[1m196/196\u001b[0m \u001b[32m━━━━━━━━━━━━━━━━━━━━\u001b[0m\u001b[37m\u001b[0m \u001b[1m7s\u001b[0m 35ms/step - d_loss: 0.2000 - g_loss: 3.8198\n",
      "Epoch 35/40\n",
      "\u001b[1m196/196\u001b[0m \u001b[32m━━━━━━━━━━━━━━━━━━━━\u001b[0m\u001b[37m\u001b[0m \u001b[1m7s\u001b[0m 35ms/step - d_loss: 0.1979 - g_loss: 3.7320\n",
      "Epoch 36/40\n",
      "\u001b[1m196/196\u001b[0m \u001b[32m━━━━━━━━━━━━━━━━━━━━\u001b[0m\u001b[37m\u001b[0m \u001b[1m7s\u001b[0m 35ms/step - d_loss: 0.1662 - g_loss: 4.0169\n",
      "Epoch 37/40\n",
      "\u001b[1m196/196\u001b[0m \u001b[32m━━━━━━━━━━━━━━━━━━━━\u001b[0m\u001b[37m\u001b[0m \u001b[1m7s\u001b[0m 35ms/step - d_loss: 0.1892 - g_loss: 3.9449\n",
      "Epoch 38/40\n",
      "\u001b[1m196/196\u001b[0m \u001b[32m━━━━━━━━━━━━━━━━━━━━\u001b[0m\u001b[37m\u001b[0m \u001b[1m7s\u001b[0m 35ms/step - d_loss: 0.1922 - g_loss: 3.9321\n",
      "Epoch 39/40\n",
      "\u001b[1m196/196\u001b[0m \u001b[32m━━━━━━━━━━━━━━━━━━━━\u001b[0m\u001b[37m\u001b[0m \u001b[1m7s\u001b[0m 35ms/step - d_loss: 0.1852 - g_loss: 4.0473\n",
      "Epoch 40/40\n",
      "\u001b[1m196/196\u001b[0m \u001b[32m━━━━━━━━━━━━━━━━━━━━\u001b[0m\u001b[37m\u001b[0m \u001b[1m7s\u001b[0m 35ms/step - d_loss: 0.1815 - g_loss: 4.0711\n"
     ]
    },
    {
     "data": {
      "text/plain": [
       "<keras.src.callbacks.history.History at 0x7e8b74f1f710>"
      ]
     },
     "execution_count": 11,
     "metadata": {},
     "output_type": "execute_result"
    }
   ],
   "source": [
    "cond_gan.fit(dataset, epochs=40)"
   ]
  },
  {
   "cell_type": "code",
   "execution_count": 14,
   "metadata": {},
   "outputs": [
    {
     "name": "stdout",
     "output_type": "stream",
     "text": [
      "Epoch 1/40\n",
      "\u001b[1m196/196\u001b[0m \u001b[32m━━━━━━━━━━━━━━━━━━━━\u001b[0m\u001b[37m\u001b[0m \u001b[1m7s\u001b[0m 34ms/step - d_loss: 0.1733 - g_loss: 4.1697\n",
      "Epoch 2/40\n",
      "\u001b[1m196/196\u001b[0m \u001b[32m━━━━━━━━━━━━━━━━━━━━\u001b[0m\u001b[37m\u001b[0m \u001b[1m7s\u001b[0m 34ms/step - d_loss: 0.1649 - g_loss: 4.2413\n",
      "Epoch 3/40\n",
      "\u001b[1m196/196\u001b[0m \u001b[32m━━━━━━━━━━━━━━━━━━━━\u001b[0m\u001b[37m\u001b[0m \u001b[1m7s\u001b[0m 34ms/step - d_loss: 0.1745 - g_loss: 4.3152\n",
      "Epoch 4/40\n",
      "\u001b[1m196/196\u001b[0m \u001b[32m━━━━━━━━━━━━━━━━━━━━\u001b[0m\u001b[37m\u001b[0m \u001b[1m7s\u001b[0m 34ms/step - d_loss: 0.1669 - g_loss: 4.3698\n",
      "Epoch 5/40\n",
      "\u001b[1m196/196\u001b[0m \u001b[32m━━━━━━━━━━━━━━━━━━━━\u001b[0m\u001b[37m\u001b[0m \u001b[1m7s\u001b[0m 34ms/step - d_loss: 0.1466 - g_loss: 4.4052\n",
      "Epoch 6/40\n",
      "\u001b[1m196/196\u001b[0m \u001b[32m━━━━━━━━━━━━━━━━━━━━\u001b[0m\u001b[37m\u001b[0m \u001b[1m7s\u001b[0m 35ms/step - d_loss: 0.1424 - g_loss: 4.3511\n",
      "Epoch 7/40\n",
      "\u001b[1m196/196\u001b[0m \u001b[32m━━━━━━━━━━━━━━━━━━━━\u001b[0m\u001b[37m\u001b[0m \u001b[1m7s\u001b[0m 34ms/step - d_loss: 0.1390 - g_loss: 4.6371\n",
      "Epoch 8/40\n",
      "\u001b[1m196/196\u001b[0m \u001b[32m━━━━━━━━━━━━━━━━━━━━\u001b[0m\u001b[37m\u001b[0m \u001b[1m7s\u001b[0m 35ms/step - d_loss: 0.1663 - g_loss: 4.3842\n",
      "Epoch 9/40\n",
      "\u001b[1m196/196\u001b[0m \u001b[32m━━━━━━━━━━━━━━━━━━━━\u001b[0m\u001b[37m\u001b[0m \u001b[1m7s\u001b[0m 35ms/step - d_loss: 0.1393 - g_loss: 4.6064\n",
      "Epoch 10/40\n",
      "\u001b[1m196/196\u001b[0m \u001b[32m━━━━━━━━━━━━━━━━━━━━\u001b[0m\u001b[37m\u001b[0m \u001b[1m7s\u001b[0m 35ms/step - d_loss: 0.1318 - g_loss: 4.8301\n",
      "Epoch 11/40\n",
      "\u001b[1m196/196\u001b[0m \u001b[32m━━━━━━━━━━━━━━━━━━━━\u001b[0m\u001b[37m\u001b[0m \u001b[1m7s\u001b[0m 35ms/step - d_loss: 0.1554 - g_loss: 4.5708\n",
      "Epoch 12/40\n",
      "\u001b[1m196/196\u001b[0m \u001b[32m━━━━━━━━━━━━━━━━━━━━\u001b[0m\u001b[37m\u001b[0m \u001b[1m7s\u001b[0m 35ms/step - d_loss: 0.1382 - g_loss: 4.6709\n",
      "Epoch 13/40\n",
      "\u001b[1m196/196\u001b[0m \u001b[32m━━━━━━━━━━━━━━━━━━━━\u001b[0m\u001b[37m\u001b[0m \u001b[1m7s\u001b[0m 35ms/step - d_loss: 0.1245 - g_loss: 4.7650\n",
      "Epoch 14/40\n",
      "\u001b[1m196/196\u001b[0m \u001b[32m━━━━━━━━━━━━━━━━━━━━\u001b[0m\u001b[37m\u001b[0m \u001b[1m7s\u001b[0m 35ms/step - d_loss: 0.1301 - g_loss: 4.7621\n",
      "Epoch 15/40\n",
      "\u001b[1m196/196\u001b[0m \u001b[32m━━━━━━━━━━━━━━━━━━━━\u001b[0m\u001b[37m\u001b[0m \u001b[1m7s\u001b[0m 35ms/step - d_loss: 0.1253 - g_loss: 4.8356\n",
      "Epoch 16/40\n",
      "\u001b[1m196/196\u001b[0m \u001b[32m━━━━━━━━━━━━━━━━━━━━\u001b[0m\u001b[37m\u001b[0m \u001b[1m7s\u001b[0m 35ms/step - d_loss: 0.1146 - g_loss: 4.9809\n",
      "Epoch 17/40\n",
      "\u001b[1m196/196\u001b[0m \u001b[32m━━━━━━━━━━━━━━━━━━━━\u001b[0m\u001b[37m\u001b[0m \u001b[1m7s\u001b[0m 35ms/step - d_loss: 0.1273 - g_loss: 4.9310\n",
      "Epoch 18/40\n",
      "\u001b[1m196/196\u001b[0m \u001b[32m━━━━━━━━━━━━━━━━━━━━\u001b[0m\u001b[37m\u001b[0m \u001b[1m7s\u001b[0m 35ms/step - d_loss: 0.1370 - g_loss: 5.0058\n",
      "Epoch 19/40\n",
      "\u001b[1m196/196\u001b[0m \u001b[32m━━━━━━━━━━━━━━━━━━━━\u001b[0m\u001b[37m\u001b[0m \u001b[1m7s\u001b[0m 35ms/step - d_loss: 0.1201 - g_loss: 5.0360\n",
      "Epoch 20/40\n",
      "\u001b[1m196/196\u001b[0m \u001b[32m━━━━━━━━━━━━━━━━━━━━\u001b[0m\u001b[37m\u001b[0m \u001b[1m7s\u001b[0m 35ms/step - d_loss: 0.1252 - g_loss: 5.1518\n",
      "Epoch 21/40\n",
      "\u001b[1m196/196\u001b[0m \u001b[32m━━━━━━━━━━━━━━━━━━━━\u001b[0m\u001b[37m\u001b[0m \u001b[1m7s\u001b[0m 35ms/step - d_loss: 0.1288 - g_loss: 5.1151\n",
      "Epoch 22/40\n",
      "\u001b[1m196/196\u001b[0m \u001b[32m━━━━━━━━━━━━━━━━━━━━\u001b[0m\u001b[37m\u001b[0m \u001b[1m7s\u001b[0m 35ms/step - d_loss: 0.1207 - g_loss: 5.3157\n",
      "Epoch 23/40\n",
      "\u001b[1m196/196\u001b[0m \u001b[32m━━━━━━━━━━━━━━━━━━━━\u001b[0m\u001b[37m\u001b[0m \u001b[1m7s\u001b[0m 35ms/step - d_loss: 0.1116 - g_loss: 5.3494\n",
      "Epoch 24/40\n",
      "\u001b[1m196/196\u001b[0m \u001b[32m━━━━━━━━━━━━━━━━━━━━\u001b[0m\u001b[37m\u001b[0m \u001b[1m7s\u001b[0m 35ms/step - d_loss: 0.1281 - g_loss: 5.1969\n",
      "Epoch 25/40\n",
      "\u001b[1m196/196\u001b[0m \u001b[32m━━━━━━━━━━━━━━━━━━━━\u001b[0m\u001b[37m\u001b[0m \u001b[1m7s\u001b[0m 35ms/step - d_loss: 0.1174 - g_loss: 5.2921\n",
      "Epoch 26/40\n",
      "\u001b[1m196/196\u001b[0m \u001b[32m━━━━━━━━━━━━━━━━━━━━\u001b[0m\u001b[37m\u001b[0m \u001b[1m7s\u001b[0m 35ms/step - d_loss: 0.1191 - g_loss: 5.3376\n",
      "Epoch 27/40\n",
      "\u001b[1m196/196\u001b[0m \u001b[32m━━━━━━━━━━━━━━━━━━━━\u001b[0m\u001b[37m\u001b[0m \u001b[1m7s\u001b[0m 35ms/step - d_loss: 0.1132 - g_loss: 5.2786\n",
      "Epoch 28/40\n",
      "\u001b[1m196/196\u001b[0m \u001b[32m━━━━━━━━━━━━━━━━━━━━\u001b[0m\u001b[37m\u001b[0m \u001b[1m7s\u001b[0m 35ms/step - d_loss: 0.1139 - g_loss: 5.3192\n",
      "Epoch 29/40\n",
      "\u001b[1m196/196\u001b[0m \u001b[32m━━━━━━━━━━━━━━━━━━━━\u001b[0m\u001b[37m\u001b[0m \u001b[1m7s\u001b[0m 35ms/step - d_loss: 0.1130 - g_loss: 5.4370\n",
      "Epoch 30/40\n",
      "\u001b[1m196/196\u001b[0m \u001b[32m━━━━━━━━━━━━━━━━━━━━\u001b[0m\u001b[37m\u001b[0m \u001b[1m7s\u001b[0m 35ms/step - d_loss: 0.1242 - g_loss: 5.4581\n",
      "Epoch 31/40\n",
      "\u001b[1m196/196\u001b[0m \u001b[32m━━━━━━━━━━━━━━━━━━━━\u001b[0m\u001b[37m\u001b[0m \u001b[1m7s\u001b[0m 35ms/step - d_loss: 0.1133 - g_loss: 5.5005\n",
      "Epoch 32/40\n",
      "\u001b[1m196/196\u001b[0m \u001b[32m━━━━━━━━━━━━━━━━━━━━\u001b[0m\u001b[37m\u001b[0m \u001b[1m7s\u001b[0m 35ms/step - d_loss: 0.1154 - g_loss: 5.4353\n",
      "Epoch 33/40\n",
      "\u001b[1m196/196\u001b[0m \u001b[32m━━━━━━━━━━━━━━━━━━━━\u001b[0m\u001b[37m\u001b[0m \u001b[1m7s\u001b[0m 35ms/step - d_loss: 0.1044 - g_loss: 5.4520\n",
      "Epoch 34/40\n",
      "\u001b[1m196/196\u001b[0m \u001b[32m━━━━━━━━━━━━━━━━━━━━\u001b[0m\u001b[37m\u001b[0m \u001b[1m7s\u001b[0m 35ms/step - d_loss: 0.1118 - g_loss: 5.4123\n",
      "Epoch 35/40\n",
      "\u001b[1m196/196\u001b[0m \u001b[32m━━━━━━━━━━━━━━━━━━━━\u001b[0m\u001b[37m\u001b[0m \u001b[1m7s\u001b[0m 35ms/step - d_loss: 0.1025 - g_loss: 5.5825\n",
      "Epoch 36/40\n",
      "\u001b[1m196/196\u001b[0m \u001b[32m━━━━━━━━━━━━━━━━━━━━\u001b[0m\u001b[37m\u001b[0m \u001b[1m7s\u001b[0m 35ms/step - d_loss: 0.1049 - g_loss: 5.5339\n",
      "Epoch 37/40\n",
      "\u001b[1m196/196\u001b[0m \u001b[32m━━━━━━━━━━━━━━━━━━━━\u001b[0m\u001b[37m\u001b[0m \u001b[1m7s\u001b[0m 35ms/step - d_loss: 0.0949 - g_loss: 5.6392\n",
      "Epoch 38/40\n",
      "\u001b[1m196/196\u001b[0m \u001b[32m━━━━━━━━━━━━━━━━━━━━\u001b[0m\u001b[37m\u001b[0m \u001b[1m7s\u001b[0m 35ms/step - d_loss: 0.1061 - g_loss: 5.6487\n",
      "Epoch 39/40\n",
      "\u001b[1m196/196\u001b[0m \u001b[32m━━━━━━━━━━━━━━━━━━━━\u001b[0m\u001b[37m\u001b[0m \u001b[1m7s\u001b[0m 35ms/step - d_loss: 0.0956 - g_loss: 5.7712\n",
      "Epoch 40/40\n",
      "\u001b[1m196/196\u001b[0m \u001b[32m━━━━━━━━━━━━━━━━━━━━\u001b[0m\u001b[37m\u001b[0m \u001b[1m7s\u001b[0m 35ms/step - d_loss: 0.1095 - g_loss: 5.7654\n"
     ]
    },
    {
     "data": {
      "text/plain": [
       "<keras.src.callbacks.history.History at 0x7e8b6c0b76b0>"
      ]
     },
     "execution_count": 14,
     "metadata": {},
     "output_type": "execute_result"
    }
   ],
   "source": [
    "cond_gan.fit(dataset, epochs=40)"
   ]
  },
  {
   "cell_type": "code",
   "execution_count": 15,
   "metadata": {},
   "outputs": [
    {
     "name": "stdout",
     "output_type": "stream",
     "text": [
      "\u001b[1m1/1\u001b[0m \u001b[32m━━━━━━━━━━━━━━━━━━━━\u001b[0m\u001b[37m\u001b[0m \u001b[1m0s\u001b[0m 33ms/step\n"
     ]
    }
   ],
   "source": [
    "# We first extract the trained generator from our Conditional GAN.\n",
    "trained_gen = cond_gan.generator\n",
    "\n",
    "# Choose the number of intermediate images that would be generated in\n",
    "# between the interpolation + 2 (start and last images).\n",
    "num_interpolation = 9  # @param {type:\"integer\"}\n",
    "\n",
    "# Sample noise for the interpolation.\n",
    "interpolation_noise = keras.random.normal(shape=(1, latent_dim), seed=1337)\n",
    "interpolation_noise = ops.repeat(interpolation_noise, repeats=num_interpolation)\n",
    "interpolation_noise = ops.reshape(interpolation_noise, (num_interpolation, latent_dim))\n",
    "\n",
    "\n",
    "def interpolate_class(first_number, second_number):\n",
    "    # Convert the start and end labels to one-hot encoded vectors.\n",
    "    first_label = keras.utils.to_categorical([first_number], num_classes)\n",
    "    second_label = keras.utils.to_categorical([second_number], num_classes)\n",
    "    first_label = ops.cast(first_label, \"float32\")\n",
    "    second_label = ops.cast(second_label, \"float32\")\n",
    "\n",
    "    # Calculate the interpolation vector between the two labels.\n",
    "    percent_second_label = ops.linspace(0, 1, num_interpolation)[:, None]\n",
    "    percent_second_label = ops.cast(percent_second_label, \"float32\")\n",
    "    interpolation_labels = (\n",
    "        first_label * (1 - percent_second_label) + second_label * percent_second_label\n",
    "    )\n",
    "\n",
    "    # Combine the noise and the labels and run inference with the generator.\n",
    "    noise_and_labels = ops.concatenate([interpolation_noise, interpolation_labels], 1)\n",
    "    fake = trained_gen.predict(noise_and_labels)\n",
    "    return fake\n",
    "\n",
    "\n",
    "start_class = 2  # @param {type:\"slider\", min:0, max:9, step:1}\n",
    "end_class = 6  # @param {type:\"slider\", min:0, max:9, step:1}\n",
    "\n",
    "fake_images = interpolate_class(start_class, end_class)\n"
   ]
  },
  {
   "cell_type": "code",
   "execution_count": 16,
   "metadata": {},
   "outputs": [
    {
     "data": {
      "text/html": [
       "<img src=\"data:image/gif;base64,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\"/>"
      ],
      "text/plain": [
       "<IPython.core.display.HTML object>"
      ]
     },
     "execution_count": 16,
     "metadata": {},
     "output_type": "execute_result"
    }
   ],
   "source": [
    "import imageio\n",
    "from tensorflow_docs.vis import embed\n",
    "\n",
    "fake_images = fake_images * 127.5 + 127.5\n",
    "converted_images = fake_images.astype(np.uint8)\n",
    "converted_images = ops.image.resize(converted_images, (96, 96)).numpy().astype(np.uint8)\n",
    "imageio.mimsave(\"animation.gif\", converted_images[:, :, :, 0], fps=1)\n",
    "embed.embed_file(\"animation.gif\")"
   ]
  },
  {
   "cell_type": "code",
   "execution_count": null,
   "metadata": {},
   "outputs": [],
   "source": []
  }
 ],
 "metadata": {
  "kernelspec": {
   "display_name": "seminar",
   "language": "python",
   "name": "python3"
  },
  "language_info": {
   "codemirror_mode": {
    "name": "ipython",
    "version": 3
   },
   "file_extension": ".py",
   "mimetype": "text/x-python",
   "name": "python",
   "nbconvert_exporter": "python",
   "pygments_lexer": "ipython3",
   "version": "3.12.8"
  }
 },
 "nbformat": 4,
 "nbformat_minor": 2
}
