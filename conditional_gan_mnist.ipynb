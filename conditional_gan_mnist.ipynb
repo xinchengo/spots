{
 "cells": [
  {
   "cell_type": "markdown",
   "metadata": {},
   "source": [
    "This is the modified official example of DCGAN on the keras official documentation. [Link](https://keras.io/examples/generative/conditional_gan/)\n",
    "\n",
    "Modifications include adding and removing some comments. Some of the comments were generated with Copilot."
   ]
  },
  {
   "cell_type": "code",
   "execution_count": 11,
   "metadata": {},
   "outputs": [],
   "source": [
    "import os\n",
    "\n",
    "import keras\n",
    "\n",
    "from keras import layers, ops, utils\n",
    "import numpy as np"
   ]
  },
  {
   "cell_type": "code",
   "execution_count": 12,
   "metadata": {},
   "outputs": [],
   "source": [
    "batch_size = 64\n",
    "num_channels = 1\n",
    "num_classes = 10\n",
    "image_size = 28\n",
    "latent_dim = 128"
   ]
  },
  {
   "cell_type": "code",
   "execution_count": 13,
   "metadata": {},
   "outputs": [
    {
     "name": "stdout",
     "output_type": "stream",
     "text": [
      "Shape of raw training images: (70000, 28, 28)\n",
      "Shape of raw training labels: (70000,)\n"
     ]
    }
   ],
   "source": [
    "(X_train, y_train), (X_test, y_test) = keras.datasets.mnist.load_data()\n",
    "all_digits = np.concatenate([X_train, X_test])\n",
    "all_labels = np.concatenate([y_train, y_test])\n",
    "\n",
    "print(f\"Shape of raw training images: {all_digits.shape}\")\n",
    "print(f\"Shape of raw training labels: {all_labels.shape}\")\n",
    "\n",
    "all_digits = all_digits.astype('float32') / 255.0\n",
    "all_digits = np.reshape(all_digits, (-1, image_size, image_size, num_channels))\n",
    "all_labels = keras.utils.to_categorical(all_labels, num_classes)"
   ]
  },
  {
   "cell_type": "markdown",
   "metadata": {},
   "source": [
    "`keras.utils` offers some Python & NumPy utilities, a dedicated list of them are given [there](https://keras.io/api/utils/python_utils/).\n",
    "\n",
    "For example:\n",
    "\n",
    "- `split_dataset`: Splits a dataset into a left half and a right half;\n",
    "- `pack_x_y_sample_weight`: Pack user-provided data into a tuple;\n",
    "- `get_file`: Download a file from the url if not already in cache;\n",
    "- `to_categorical`: Convert a class vector (integers) to binary class matrix;"
   ]
  },
  {
   "cell_type": "code",
   "execution_count": 14,
   "metadata": {},
   "outputs": [
    {
     "name": "stdout",
     "output_type": "stream",
     "text": [
      "Shape of training images: (70000, 28, 28, 1)\n",
      "Shape of training labels: (70000, 10)\n"
     ]
    }
   ],
   "source": [
    "# Create torch dataloader\n",
    "import tensorflow as tf\n",
    "\n",
    "dataset = tf.data.Dataset.from_tensor_slices((all_digits, all_labels))\n",
    "dataset = dataset.shuffle(buffer_size=1024).batch(batch_size)\n",
    "\n",
    "print(f\"Shape of training images: {all_digits.shape}\")\n",
    "print(f\"Shape of training labels: {all_labels.shape}\")"
   ]
  },
  {
   "cell_type": "code",
   "execution_count": 15,
   "metadata": {},
   "outputs": [
    {
     "name": "stdout",
     "output_type": "stream",
     "text": [
      "138 11\n"
     ]
    }
   ],
   "source": [
    "generator_in_channels = latent_dim + num_classes\n",
    "discriminator_in_channels = num_channels + num_classes\n",
    "print(generator_in_channels, discriminator_in_channels)"
   ]
  },
  {
   "cell_type": "code",
   "execution_count": 16,
   "metadata": {},
   "outputs": [],
   "source": [
    "discriminator = keras.Sequential(\n",
    "    [\n",
    "        keras.layers.InputLayer((image_size, image_size, discriminator_in_channels)), # 28x28x11\n",
    "        layers.Conv2D(64, (3, 3), strides=(2, 2), padding=\"same\"), # 14x14x64\n",
    "        layers.LeakyReLU(negative_slope=0.2),\n",
    "        layers.Conv2D(128, (3, 3), strides=(2, 2), padding=\"same\"), # 7x7x128\n",
    "        layers.LeakyReLU(negative_slope=0.2),\n",
    "        layers.GlobalMaxPooling2D(), # 128\n",
    "        layers.Dense(1), # 1\n",
    "    ],\n",
    "    name=\"discriminator\",\n",
    ")\n",
    "\n",
    "generator = keras.Sequential(\n",
    "    [\n",
    "        keras.layers.InputLayer((generator_in_channels,)),\n",
    "        layers.Dense(7 * 7 * generator_in_channels), # 6762\n",
    "        layers.LeakyReLU(negative_slope=0.2),\n",
    "        layers.Reshape((7, 7, generator_in_channels)), # 7x7x138\n",
    "        layers.Conv2DTranspose(128, (4, 4), strides=(2, 2), padding=\"same\"), # 14x14x128\n",
    "        layers.LeakyReLU(negative_slope=0.2),\n",
    "        layers.Conv2DTranspose(128, (4, 4), strides=(2, 2), padding=\"same\"), # 28x28x128\n",
    "        layers.LeakyReLU(negative_slope=0.2),\n",
    "        layers.Conv2D(num_channels, (7, 7), activation=\"sigmoid\", padding=\"same\"), # 28x28x1\n",
    "    ],\n",
    "    name=\"generator\",\n",
    ")"
   ]
  },
  {
   "cell_type": "code",
   "execution_count": 17,
   "metadata": {},
   "outputs": [],
   "source": [
    "class ConditionalGAN(keras.Model):\n",
    "    def __init__(self, discriminator, generator, latent_dim):\n",
    "        super().__init__()\n",
    "        self.discriminator = discriminator\n",
    "        self.generator = generator\n",
    "        self.latent_dim = latent_dim\n",
    "        self.seed_generator = keras.random.SeedGenerator(1337)\n",
    "        self.gen_loss_tracker = keras.metrics.Mean(name=\"generator_loss\")\n",
    "        self.disc_loss_tracker = keras.metrics.Mean(name=\"discriminator_loss\")\n",
    "\n",
    "    @property\n",
    "    def metrics(self):\n",
    "        return [self.gen_loss_tracker, self.disc_loss_tracker]\n",
    "    \n",
    "    def compile(self, d_optimizer, g_optimizer, loss_fn):\n",
    "        super().compile()\n",
    "        self.d_optimizer = d_optimizer\n",
    "        self.g_optimizer = g_optimizer\n",
    "        self.loss_fn = loss_fn\n",
    "\n",
    "    def train_step(self, data):\n",
    "        # Unpack the data\n",
    "        real_images, one_hot_labels = data\n",
    "        # real_images.shape = (batch_size, 28, 28, 1)\n",
    "        # one_hot_labels.shape = (batch_size, 10)\n",
    "\n",
    "        # Add dummy dimensions to the labels so that they can be concatenated with\n",
    "        # the images. This is for the discriminator.\n",
    "        image_one_hot_labels = one_hot_labels[:, :, None, None] # Now the shape is (batch_size, 10, 1, 1)\n",
    "        image_one_hot_labels = ops.repeat(\n",
    "            image_one_hot_labels, repeats=[image_size * image_size]\n",
    "        ) # Now the shape is (batch_size, 10, 28, 28)\n",
    "        image_one_hot_labels = ops.reshape(\n",
    "            image_one_hot_labels, (-1, image_size, image_size, num_classes)\n",
    "        ) # Now the shape is (batch_size, 28, 28, 10)\n",
    "        # That is, every pixel in the image has the one-hot label of the image.\n",
    "\n",
    "        # Sample random points in the latent space and concatenate the labels.\n",
    "        # This is for the generator.\n",
    "        batch_size = ops.shape(real_images)[0]\n",
    "        random_latent_vectors = keras.random.normal(\n",
    "            shape=(batch_size, self.latent_dim), seed=self.seed_generator\n",
    "        ) # (batch_size, 128)\n",
    "        random_vector_labels = ops.concatenate(\n",
    "            [random_latent_vectors, one_hot_labels], axis=1\n",
    "        ) # (batch_size, 138)\n",
    "\n",
    "        # Decode the noise (guided by labels) to fake images.\n",
    "        generated_images = self.generator(random_vector_labels) # (batch_size, 28, 28, 1)\n",
    "\n",
    "        # Combine them with real images. Note that we are concatenating the labels\n",
    "        # with these images here.\n",
    "        fake_image_and_labels = ops.concatenate(\n",
    "            [generated_images, image_one_hot_labels], -1\n",
    "        ) # (batch_size, 28, 28, 11)\n",
    "        real_image_and_labels = ops.concatenate(\n",
    "            [real_images, image_one_hot_labels], -1\n",
    "        ) # (batch_size, 28, 28, 11)\n",
    "        combined_images = ops.concatenate(\n",
    "            [fake_image_and_labels, real_image_and_labels], axis=0\n",
    "        ) # (2 * batch_size, 28, 28, 11)\n",
    "\n",
    "        # Assemble labels discriminating real from fake images.\n",
    "        labels = ops.concatenate(\n",
    "            [ops.ones((batch_size, 1)), ops.zeros((batch_size, 1))], axis=0\n",
    "        ) # (2 * batch_size, 1)\n",
    "\n",
    "        # Train the discriminator.\n",
    "        with tf.GradientTape() as tape:\n",
    "            predictions = self.discriminator(combined_images)\n",
    "            d_loss = self.loss_fn(labels, predictions)\n",
    "        grads = tape.gradient(d_loss, self.discriminator.trainable_weights)\n",
    "        self.d_optimizer.apply_gradients(\n",
    "            zip(grads, self.discriminator.trainable_weights)\n",
    "        )\n",
    "\n",
    "        # Sample random points in the latent space.\n",
    "        random_latent_vectors = keras.random.normal(\n",
    "            shape=(batch_size, self.latent_dim), seed=self.seed_generator\n",
    "        )\n",
    "        random_vector_labels = ops.concatenate(\n",
    "            [random_latent_vectors, one_hot_labels], axis=1\n",
    "        )\n",
    "\n",
    "        # Assemble labels that say \"all real images\".\n",
    "        misleading_labels = ops.zeros((batch_size, 1))\n",
    "\n",
    "        # Train the generator (note that we should *not* update the weights\n",
    "        # of the discriminator)!\n",
    "        with tf.GradientTape() as tape:\n",
    "            fake_images = self.generator(random_vector_labels)\n",
    "            fake_image_and_labels = ops.concatenate(\n",
    "                [fake_images, image_one_hot_labels], -1\n",
    "            )\n",
    "            predictions = self.discriminator(fake_image_and_labels)\n",
    "            g_loss = self.loss_fn(misleading_labels, predictions)\n",
    "        grads = tape.gradient(g_loss, self.generator.trainable_weights)\n",
    "        self.g_optimizer.apply_gradients(zip(grads, self.generator.trainable_weights))\n",
    "\n",
    "        # Monitor loss\n",
    "        self.gen_loss_tracker.update_state(g_loss)\n",
    "        self.disc_loss_tracker.update_state(d_loss)\n",
    "        return {\n",
    "            \"g_loss\": self.gen_loss_tracker.result(),\n",
    "            \"d_loss\": self.disc_loss_tracker.result(),\n",
    "        }\n"
   ]
  },
  {
   "cell_type": "code",
   "execution_count": 18,
   "metadata": {},
   "outputs": [
    {
     "name": "stdout",
     "output_type": "stream",
     "text": [
      "Epoch 1/20\n"
     ]
    },
    {
     "name": "stderr",
     "output_type": "stream",
     "text": [
      "WARNING: All log messages before absl::InitializeLog() is called are written to STDERR\n",
      "I0000 00:00:1737937212.098849   19742 service.cc:148] XLA service 0x7c4410021e80 initialized for platform CUDA (this does not guarantee that XLA will be used). Devices:\n",
      "I0000 00:00:1737937212.098868   19742 service.cc:156]   StreamExecutor device (0): NVIDIA GeForce RTX 3070, Compute Capability 8.6\n",
      "2025-01-27 08:20:12.138234: I tensorflow/compiler/mlir/tensorflow/utils/dump_mlir_util.cc:268] disabling MLIR crash reproducer, set env var `MLIR_CRASH_REPRODUCER_DIRECTORY` to enable.\n",
      "I0000 00:00:1737937212.333707   19742 cuda_dnn.cc:529] Loaded cuDNN version 90300\n",
      "2025-01-27 08:20:12.998254: I external/local_xla/xla/stream_executor/cuda/cuda_asm_compiler.cc:397] ptxas warning : Registers are spilled to local memory in function 'gemm_fusion_dot_7', 8 bytes spill stores, 8 bytes spill loads\n",
      "\n",
      "2025-01-27 08:20:13.024914: I external/local_xla/xla/stream_executor/cuda/cuda_asm_compiler.cc:397] ptxas warning : Registers are spilled to local memory in function 'gemm_fusion_dot_7', 112 bytes spill stores, 112 bytes spill loads\n",
      "\n"
     ]
    },
    {
     "name": "stdout",
     "output_type": "stream",
     "text": [
      "\u001b[1m  17/1094\u001b[0m \u001b[37m━━━━━━━━━━━━━━━━━━━━\u001b[0m \u001b[1m10s\u001b[0m 10ms/step - d_loss: 0.7068 - g_loss: 0.7926"
     ]
    },
    {
     "name": "stderr",
     "output_type": "stream",
     "text": [
      "I0000 00:00:1737937215.957687   19742 device_compiler.h:188] Compiled cluster using XLA!  This line is logged at most once for the lifetime of the process.\n"
     ]
    },
    {
     "name": "stdout",
     "output_type": "stream",
     "text": [
      "\u001b[1m1094/1094\u001b[0m \u001b[32m━━━━━━━━━━━━━━━━━━━━\u001b[0m\u001b[37m\u001b[0m \u001b[1m19s\u001b[0m 12ms/step - d_loss: 0.4676 - g_loss: 1.2975\n",
      "Epoch 2/20\n",
      "\u001b[1m1094/1094\u001b[0m \u001b[32m━━━━━━━━━━━━━━━━━━━━\u001b[0m\u001b[37m\u001b[0m \u001b[1m11s\u001b[0m 10ms/step - d_loss: 0.4480 - g_loss: 1.4649\n",
      "Epoch 3/20\n",
      "\u001b[1m1094/1094\u001b[0m \u001b[32m━━━━━━━━━━━━━━━━━━━━\u001b[0m\u001b[37m\u001b[0m \u001b[1m11s\u001b[0m 10ms/step - d_loss: 0.3527 - g_loss: 1.7515\n",
      "Epoch 4/20\n",
      "\u001b[1m1094/1094\u001b[0m \u001b[32m━━━━━━━━━━━━━━━━━━━━\u001b[0m\u001b[37m\u001b[0m \u001b[1m11s\u001b[0m 10ms/step - d_loss: 0.2595 - g_loss: 2.2567\n",
      "Epoch 5/20\n",
      "\u001b[1m1094/1094\u001b[0m \u001b[32m━━━━━━━━━━━━━━━━━━━━\u001b[0m\u001b[37m\u001b[0m \u001b[1m11s\u001b[0m 10ms/step - d_loss: 0.5989 - g_loss: 1.0376\n",
      "Epoch 6/20\n",
      "\u001b[1m1094/1094\u001b[0m \u001b[32m━━━━━━━━━━━━━━━━━━━━\u001b[0m\u001b[37m\u001b[0m \u001b[1m11s\u001b[0m 10ms/step - d_loss: 0.6503 - g_loss: 0.8914\n",
      "Epoch 7/20\n",
      "\u001b[1m1094/1094\u001b[0m \u001b[32m━━━━━━━━━━━━━━━━━━━━\u001b[0m\u001b[37m\u001b[0m \u001b[1m11s\u001b[0m 10ms/step - d_loss: 0.6576 - g_loss: 0.8518\n",
      "Epoch 8/20\n",
      "\u001b[1m1094/1094\u001b[0m \u001b[32m━━━━━━━━━━━━━━━━━━━━\u001b[0m\u001b[37m\u001b[0m \u001b[1m11s\u001b[0m 10ms/step - d_loss: 0.6779 - g_loss: 0.8084\n",
      "Epoch 9/20\n",
      "\u001b[1m1094/1094\u001b[0m \u001b[32m━━━━━━━━━━━━━━━━━━━━\u001b[0m\u001b[37m\u001b[0m \u001b[1m11s\u001b[0m 10ms/step - d_loss: 0.6809 - g_loss: 0.7793\n",
      "Epoch 10/20\n",
      "\u001b[1m1094/1094\u001b[0m \u001b[32m━━━━━━━━━━━━━━━━━━━━\u001b[0m\u001b[37m\u001b[0m \u001b[1m11s\u001b[0m 10ms/step - d_loss: 0.6850 - g_loss: 0.7679\n",
      "Epoch 11/20\n",
      "\u001b[1m1094/1094\u001b[0m \u001b[32m━━━━━━━━━━━━━━━━━━━━\u001b[0m\u001b[37m\u001b[0m \u001b[1m11s\u001b[0m 10ms/step - d_loss: 0.6811 - g_loss: 0.7646\n",
      "Epoch 12/20\n",
      "\u001b[1m1094/1094\u001b[0m \u001b[32m━━━━━━━━━━━━━━━━━━━━\u001b[0m\u001b[37m\u001b[0m \u001b[1m11s\u001b[0m 10ms/step - d_loss: 0.6783 - g_loss: 0.7663\n",
      "Epoch 13/20\n",
      "\u001b[1m1094/1094\u001b[0m \u001b[32m━━━━━━━━━━━━━━━━━━━━\u001b[0m\u001b[37m\u001b[0m \u001b[1m11s\u001b[0m 10ms/step - d_loss: 0.6814 - g_loss: 0.7443\n",
      "Epoch 14/20\n",
      "\u001b[1m1094/1094\u001b[0m \u001b[32m━━━━━━━━━━━━━━━━━━━━\u001b[0m\u001b[37m\u001b[0m \u001b[1m11s\u001b[0m 10ms/step - d_loss: 0.6747 - g_loss: 0.7703\n",
      "Epoch 15/20\n",
      "\u001b[1m1094/1094\u001b[0m \u001b[32m━━━━━━━━━━━━━━━━━━━━\u001b[0m\u001b[37m\u001b[0m \u001b[1m11s\u001b[0m 10ms/step - d_loss: 0.6768 - g_loss: 0.7501\n",
      "Epoch 16/20\n",
      "\u001b[1m1094/1094\u001b[0m \u001b[32m━━━━━━━━━━━━━━━━━━━━\u001b[0m\u001b[37m\u001b[0m \u001b[1m11s\u001b[0m 10ms/step - d_loss: 0.6708 - g_loss: 0.7620\n",
      "Epoch 17/20\n",
      "\u001b[1m1094/1094\u001b[0m \u001b[32m━━━━━━━━━━━━━━━━━━━━\u001b[0m\u001b[37m\u001b[0m \u001b[1m11s\u001b[0m 10ms/step - d_loss: 0.6692 - g_loss: 0.7664\n",
      "Epoch 18/20\n",
      "\u001b[1m1094/1094\u001b[0m \u001b[32m━━━━━━━━━━━━━━━━━━━━\u001b[0m\u001b[37m\u001b[0m \u001b[1m11s\u001b[0m 10ms/step - d_loss: 0.6634 - g_loss: 0.7776\n",
      "Epoch 19/20\n",
      "\u001b[1m1094/1094\u001b[0m \u001b[32m━━━━━━━━━━━━━━━━━━━━\u001b[0m\u001b[37m\u001b[0m \u001b[1m11s\u001b[0m 10ms/step - d_loss: 0.6546 - g_loss: 0.8009\n",
      "Epoch 20/20\n",
      "\u001b[1m1094/1094\u001b[0m \u001b[32m━━━━━━━━━━━━━━━━━━━━\u001b[0m\u001b[37m\u001b[0m \u001b[1m11s\u001b[0m 10ms/step - d_loss: 0.6488 - g_loss: 0.8123\n"
     ]
    },
    {
     "data": {
      "text/plain": [
       "<keras.src.callbacks.history.History at 0x7c454eb79ee0>"
      ]
     },
     "execution_count": 18,
     "metadata": {},
     "output_type": "execute_result"
    }
   ],
   "source": [
    "cond_gan = ConditionalGAN(\n",
    "    discriminator=discriminator, generator=generator, latent_dim=latent_dim\n",
    ")\n",
    "cond_gan.compile(\n",
    "    d_optimizer=keras.optimizers.Adam(learning_rate=0.0003),\n",
    "    g_optimizer=keras.optimizers.Adam(learning_rate=0.0003),\n",
    "    loss_fn=keras.losses.BinaryCrossentropy(from_logits=True),\n",
    ")\n",
    "\n",
    "cond_gan.fit(dataset, epochs=20)"
   ]
  },
  {
   "cell_type": "code",
   "execution_count": 19,
   "metadata": {},
   "outputs": [
    {
     "name": "stdout",
     "output_type": "stream",
     "text": [
      "\u001b[1m1/1\u001b[0m \u001b[32m━━━━━━━━━━━━━━━━━━━━\u001b[0m\u001b[37m\u001b[0m \u001b[1m0s\u001b[0m 331ms/step\n"
     ]
    }
   ],
   "source": [
    "# We first extract the trained generator from our Conditional GAN.\n",
    "trained_gen = cond_gan.generator\n",
    "\n",
    "# Choose the number of intermediate images that would be generated in\n",
    "# between the interpolation + 2 (start and last images).\n",
    "num_interpolation = 9  # @param {type:\"integer\"}\n",
    "\n",
    "# Sample noise for the interpolation.\n",
    "interpolation_noise = keras.random.normal(shape=(1, latent_dim), seed=1337)\n",
    "interpolation_noise = ops.repeat(interpolation_noise, repeats=num_interpolation)\n",
    "interpolation_noise = ops.reshape(interpolation_noise, (num_interpolation, latent_dim))\n",
    "\n",
    "\n",
    "def interpolate_class(first_number, second_number):\n",
    "    # Convert the start and end labels to one-hot encoded vectors.\n",
    "    first_label = keras.utils.to_categorical([first_number], num_classes)\n",
    "    second_label = keras.utils.to_categorical([second_number], num_classes)\n",
    "    first_label = ops.cast(first_label, \"float32\")\n",
    "    second_label = ops.cast(second_label, \"float32\")\n",
    "\n",
    "    # Calculate the interpolation vector between the two labels.\n",
    "    percent_second_label = ops.linspace(0, 1, num_interpolation)[:, None]\n",
    "    percent_second_label = ops.cast(percent_second_label, \"float32\")\n",
    "    interpolation_labels = (\n",
    "        first_label * (1 - percent_second_label) + second_label * percent_second_label\n",
    "    )\n",
    "\n",
    "    # Combine the noise and the labels and run inference with the generator.\n",
    "    noise_and_labels = ops.concatenate([interpolation_noise, interpolation_labels], 1)\n",
    "    fake = trained_gen.predict(noise_and_labels)\n",
    "    return fake\n",
    "\n",
    "\n",
    "start_class = 2  # @param {type:\"slider\", min:0, max:9, step:1}\n",
    "end_class = 6  # @param {type:\"slider\", min:0, max:9, step:1}\n",
    "\n",
    "fake_images = interpolate_class(start_class, end_class)\n"
   ]
  },
  {
   "cell_type": "code",
   "execution_count": 20,
   "metadata": {},
   "outputs": [
    {
     "data": {
      "text/html": [
       "<img src=\"data:image/gif;base64,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\"/>"
      ],
      "text/plain": [
       "<IPython.core.display.HTML object>"
      ]
     },
     "execution_count": 20,
     "metadata": {},
     "output_type": "execute_result"
    }
   ],
   "source": [
    "import imageio\n",
    "from tensorflow_docs.vis import embed\n",
    "\n",
    "fake_images *= 255.0\n",
    "converted_images = fake_images.astype(np.uint8)\n",
    "converted_images = ops.image.resize(converted_images, (96, 96)).numpy().astype(np.uint8)\n",
    "imageio.mimsave(\"animation.gif\", converted_images[:, :, :, 0], fps=1)\n",
    "embed.embed_file(\"animation.gif\")"
   ]
  }
 ],
 "metadata": {
  "kernelspec": {
   "display_name": "seminar",
   "language": "python",
   "name": "python3"
  },
  "language_info": {
   "codemirror_mode": {
    "name": "ipython",
    "version": 3
   },
   "file_extension": ".py",
   "mimetype": "text/x-python",
   "name": "python",
   "nbconvert_exporter": "python",
   "pygments_lexer": "ipython3",
   "version": "3.12.8"
  }
 },
 "nbformat": 4,
 "nbformat_minor": 2
}
